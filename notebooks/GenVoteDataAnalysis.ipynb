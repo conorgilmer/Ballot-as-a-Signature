{
 "cells": [
  {
   "cell_type": "markdown",
   "metadata": {},
   "source": [
    "# Vote Data Analysis from 2002 Irish General Election e-voting trial"
   ]
  },
  {
   "cell_type": "code",
   "execution_count": 1,
   "metadata": {
    "scrolled": true
   },
   "outputs": [
    {
     "name": "stdout",
     "output_type": "stream",
     "text": [
      "Print Data Frame (df.head)\n",
      "   Unnamed: 0   GP   LB   FF   SP  FF.1   SF   PD   NP   FG\n",
      "0           0  1.0  2.0  3.0  4.0   5.0  6.0  7.0  8.0  NaN\n",
      "1           1  1.0  2.0  3.0  4.0   5.0  6.0  7.0  NaN  8.0\n",
      "2           2  1.0  2.0  3.0  4.0   5.0  6.0  8.0  7.0  NaN\n",
      "3           3  1.0  2.0  3.0  4.0   5.0  6.0  NaN  7.0  8.0\n",
      "4           4  1.0  2.0  3.0  4.0   5.0  6.0  8.0  NaN  7.0\n",
      "5           5  1.0  2.0  3.0  4.0   5.0  6.0  NaN  8.0  7.0\n",
      "6           6  1.0  2.0  3.0  4.0   5.0  7.0  6.0  8.0  NaN\n",
      "7           7  1.0  2.0  3.0  4.0   5.0  7.0  6.0  NaN  8.0\n",
      "8           8  1.0  2.0  3.0  4.0   5.0  8.0  6.0  7.0  NaN\n",
      "9           9  1.0  2.0  3.0  4.0   5.0  NaN  6.0  7.0  8.0\n",
      "Print Column names\n",
      "Index(['Unnamed: 0', 'GP', 'LB', 'FF', 'SP', 'FF.1', 'SF', 'PD', 'NP', 'FG'], dtype='object')\n"
     ]
    }
   ],
   "source": [
    "#read vote data from csv\n",
    "import matplotlib.pyplot as plt\n",
    "import numpy as np\n",
    "import pandas as pd\n",
    "import math \n",
    "\n",
    "%matplotlib inline\n",
    "\n",
    "#input file\n",
    "constituency=\"DublinWest2002_9P8_Allgenerated\"\n",
    "#constituency=\"DublinNorth2002_12P7_Allgenerated\"\n",
    "#constituency=\"Meath2002_14P7_Allgenerated\"\n",
    "my_csv='../data/processed/'+constituency+'.csv'\n",
    "\n",
    "#read in data (setting 1st row as header)\n",
    "df = pd.read_csv(my_csv, na_values=[\"Missing\"], header=[0])\n",
    "\n",
    "#set column names as first line\n",
    "\n",
    "#df.head()\n",
    "print(\"Print Data Frame (df.head)\")\n",
    "print(df.head(10))\n",
    "print(\"Print Column names\")\n",
    "print(df.columns)\n",
    "\n",
    "#drop the numbers column (#df=df.drop(['No.'], 1))\n",
    "df = df.drop(df.columns[[0]], axis=1)  # df.columns is zero-based pd.Index\n",
    "#reset index to start a 1 and not 0\n",
    "df.index = df.index + 1"
   ]
  },
  {
   "cell_type": "markdown",
   "metadata": {},
   "source": [
    "# Election Dataset Describe and Info"
   ]
  },
  {
   "cell_type": "code",
   "execution_count": 2,
   "metadata": {},
   "outputs": [
    {
     "name": "stdout",
     "output_type": "stream",
     "text": [
      "<class 'pandas.core.frame.DataFrame'>\n",
      "RangeIndex: 362880 entries, 1 to 362880\n",
      "Data columns (total 9 columns):\n",
      " #   Column  Non-Null Count   Dtype  \n",
      "---  ------  --------------   -----  \n",
      " 0   GP      322560 non-null  float64\n",
      " 1   LB      322560 non-null  float64\n",
      " 2   FF      322560 non-null  float64\n",
      " 3   SP      322560 non-null  float64\n",
      " 4   FF.1    322560 non-null  float64\n",
      " 5   SF      322560 non-null  float64\n",
      " 6   PD      322560 non-null  float64\n",
      " 7   NP      322560 non-null  float64\n",
      " 8   FG      322560 non-null  float64\n",
      "dtypes: float64(9)\n",
      "memory usage: 24.9 MB\n"
     ]
    }
   ],
   "source": [
    "df.info()"
   ]
  },
  {
   "cell_type": "code",
   "execution_count": 3,
   "metadata": {},
   "outputs": [
    {
     "data": {
      "text/html": [
       "<div>\n",
       "<style scoped>\n",
       "    .dataframe tbody tr th:only-of-type {\n",
       "        vertical-align: middle;\n",
       "    }\n",
       "\n",
       "    .dataframe tbody tr th {\n",
       "        vertical-align: top;\n",
       "    }\n",
       "\n",
       "    .dataframe thead th {\n",
       "        text-align: right;\n",
       "    }\n",
       "</style>\n",
       "<table border=\"1\" class=\"dataframe\">\n",
       "  <thead>\n",
       "    <tr style=\"text-align: right;\">\n",
       "      <th></th>\n",
       "      <th>GP</th>\n",
       "      <th>LB</th>\n",
       "      <th>FF</th>\n",
       "      <th>SP</th>\n",
       "      <th>FF.1</th>\n",
       "      <th>SF</th>\n",
       "      <th>PD</th>\n",
       "      <th>NP</th>\n",
       "      <th>FG</th>\n",
       "    </tr>\n",
       "  </thead>\n",
       "  <tbody>\n",
       "    <tr>\n",
       "      <th>count</th>\n",
       "      <td>322560.000000</td>\n",
       "      <td>322560.000000</td>\n",
       "      <td>322560.000000</td>\n",
       "      <td>322560.000000</td>\n",
       "      <td>322560.000000</td>\n",
       "      <td>322560.000000</td>\n",
       "      <td>322560.000000</td>\n",
       "      <td>322560.000000</td>\n",
       "      <td>322560.000000</td>\n",
       "    </tr>\n",
       "    <tr>\n",
       "      <th>mean</th>\n",
       "      <td>4.500000</td>\n",
       "      <td>4.500000</td>\n",
       "      <td>4.500000</td>\n",
       "      <td>4.500000</td>\n",
       "      <td>4.500000</td>\n",
       "      <td>4.500000</td>\n",
       "      <td>4.500000</td>\n",
       "      <td>4.500000</td>\n",
       "      <td>4.500000</td>\n",
       "    </tr>\n",
       "    <tr>\n",
       "      <th>std</th>\n",
       "      <td>2.291291</td>\n",
       "      <td>2.291291</td>\n",
       "      <td>2.291291</td>\n",
       "      <td>2.291291</td>\n",
       "      <td>2.291291</td>\n",
       "      <td>2.291291</td>\n",
       "      <td>2.291291</td>\n",
       "      <td>2.291291</td>\n",
       "      <td>2.291291</td>\n",
       "    </tr>\n",
       "    <tr>\n",
       "      <th>min</th>\n",
       "      <td>1.000000</td>\n",
       "      <td>1.000000</td>\n",
       "      <td>1.000000</td>\n",
       "      <td>1.000000</td>\n",
       "      <td>1.000000</td>\n",
       "      <td>1.000000</td>\n",
       "      <td>1.000000</td>\n",
       "      <td>1.000000</td>\n",
       "      <td>1.000000</td>\n",
       "    </tr>\n",
       "    <tr>\n",
       "      <th>25%</th>\n",
       "      <td>2.750000</td>\n",
       "      <td>2.750000</td>\n",
       "      <td>2.750000</td>\n",
       "      <td>2.750000</td>\n",
       "      <td>2.750000</td>\n",
       "      <td>2.750000</td>\n",
       "      <td>2.750000</td>\n",
       "      <td>2.750000</td>\n",
       "      <td>2.750000</td>\n",
       "    </tr>\n",
       "    <tr>\n",
       "      <th>50%</th>\n",
       "      <td>4.500000</td>\n",
       "      <td>4.500000</td>\n",
       "      <td>4.500000</td>\n",
       "      <td>4.500000</td>\n",
       "      <td>4.500000</td>\n",
       "      <td>4.500000</td>\n",
       "      <td>4.500000</td>\n",
       "      <td>4.500000</td>\n",
       "      <td>4.500000</td>\n",
       "    </tr>\n",
       "    <tr>\n",
       "      <th>75%</th>\n",
       "      <td>6.250000</td>\n",
       "      <td>6.250000</td>\n",
       "      <td>6.250000</td>\n",
       "      <td>6.250000</td>\n",
       "      <td>6.250000</td>\n",
       "      <td>6.250000</td>\n",
       "      <td>6.250000</td>\n",
       "      <td>6.250000</td>\n",
       "      <td>6.250000</td>\n",
       "    </tr>\n",
       "    <tr>\n",
       "      <th>max</th>\n",
       "      <td>8.000000</td>\n",
       "      <td>8.000000</td>\n",
       "      <td>8.000000</td>\n",
       "      <td>8.000000</td>\n",
       "      <td>8.000000</td>\n",
       "      <td>8.000000</td>\n",
       "      <td>8.000000</td>\n",
       "      <td>8.000000</td>\n",
       "      <td>8.000000</td>\n",
       "    </tr>\n",
       "  </tbody>\n",
       "</table>\n",
       "</div>"
      ],
      "text/plain": [
       "                  GP             LB             FF             SP  \\\n",
       "count  322560.000000  322560.000000  322560.000000  322560.000000   \n",
       "mean        4.500000       4.500000       4.500000       4.500000   \n",
       "std         2.291291       2.291291       2.291291       2.291291   \n",
       "min         1.000000       1.000000       1.000000       1.000000   \n",
       "25%         2.750000       2.750000       2.750000       2.750000   \n",
       "50%         4.500000       4.500000       4.500000       4.500000   \n",
       "75%         6.250000       6.250000       6.250000       6.250000   \n",
       "max         8.000000       8.000000       8.000000       8.000000   \n",
       "\n",
       "                FF.1             SF             PD             NP  \\\n",
       "count  322560.000000  322560.000000  322560.000000  322560.000000   \n",
       "mean        4.500000       4.500000       4.500000       4.500000   \n",
       "std         2.291291       2.291291       2.291291       2.291291   \n",
       "min         1.000000       1.000000       1.000000       1.000000   \n",
       "25%         2.750000       2.750000       2.750000       2.750000   \n",
       "50%         4.500000       4.500000       4.500000       4.500000   \n",
       "75%         6.250000       6.250000       6.250000       6.250000   \n",
       "max         8.000000       8.000000       8.000000       8.000000   \n",
       "\n",
       "                  FG  \n",
       "count  322560.000000  \n",
       "mean        4.500000  \n",
       "std         2.291291  \n",
       "min         1.000000  \n",
       "25%         2.750000  \n",
       "50%         4.500000  \n",
       "75%         6.250000  \n",
       "max         8.000000  "
      ]
     },
     "execution_count": 3,
     "metadata": {},
     "output_type": "execute_result"
    }
   ],
   "source": [
    "df.describe()"
   ]
  },
  {
   "cell_type": "markdown",
   "metadata": {},
   "source": [
    "# Statistics on election - candidates and votes"
   ]
  },
  {
   "cell_type": "code",
   "execution_count": 4,
   "metadata": {},
   "outputs": [
    {
     "name": "stdout",
     "output_type": "stream",
     "text": [
      "Statistics on Dataframe\n",
      "No. of Candidates =  9\n",
      "No. of Votes =  362880\n",
      "No. of all possible Combinations (candidates)! =  362880\n"
     ]
    }
   ],
   "source": [
    "#Stats No. of Candidates(columns) and Votes(rows), all combinations of candidates = candidates!\n",
    "print(\"Statistics on Dataframe\")\n",
    "candidates = len(df.columns)\n",
    "print(\"No. of Candidates = \", candidates)\n",
    "votes = len(df.index)\n",
    "print(\"No. of Votes = \", votes)\n",
    "print(\"No. of all possible Combinations (candidates)! = \", math.factorial(candidates))"
   ]
  },
  {
   "cell_type": "markdown",
   "metadata": {},
   "source": [
    "## Additional Statistics on Actual Vote Data"
   ]
  },
  {
   "cell_type": "code",
   "execution_count": 5,
   "metadata": {},
   "outputs": [
    {
     "name": "stdout",
     "output_type": "stream",
     "text": [
      "Average(Mean) value = 8.0\n",
      "Mode(most often number of votes cast = 8.0\n",
      "Middle value of votes cast = 8.0\n"
     ]
    }
   ],
   "source": [
    "import statistics as stats\n",
    "df.head()\n",
    "#print(df.describe())\n",
    "df.max()\n",
    "# find the maximum values of each row (the highest vote preference cast)\n",
    "maxValues = df.max(axis = 1)\n",
    "#print(maxValues)\n",
    "#mean - average \n",
    "print(f\"Average(Mean) value = {stats.mean(maxValues)}\")\n",
    "#mode - most frequent occuring value\n",
    "print(f\"Mode(most often number of votes cast = {stats.mode(maxValues)}\")\n",
    "#median - middle value\n",
    "print(f\"Middle value of votes cast = {stats.median(maxValues)}\")\n"
   ]
  },
  {
   "cell_type": "markdown",
   "metadata": {},
   "source": [
    "## Calculate maximum values (number of preferences) for each vote(row)"
   ]
  },
  {
   "cell_type": "code",
   "execution_count": 6,
   "metadata": {},
   "outputs": [
    {
     "data": {
      "text/plain": [
       "(362880, 10)"
      ]
     },
     "execution_count": 6,
     "metadata": {},
     "output_type": "execute_result"
    }
   ],
   "source": [
    "#add a column of the maximum count of the rows(highest preference vote cast)\n",
    "df['maxValues'] = df.max(axis = 1)\n",
    "df.shape"
   ]
  },
  {
   "cell_type": "code",
   "execution_count": 7,
   "metadata": {
    "scrolled": true
   },
   "outputs": [
    {
     "name": "stdout",
     "output_type": "stream",
     "text": [
      "[362880]\n",
      "Float64Index([8.0], dtype='float64')\n"
     ]
    }
   ],
   "source": [
    "mval=(df['maxValues'].value_counts())\n",
    "mval.sort_index(ascending=True, inplace=True)\n",
    "print(mval.values)\n",
    "print(mval.index)"
   ]
  },
  {
   "cell_type": "markdown",
   "metadata": {},
   "source": [
    "# Plot Histogram of the number of transfers a voter casts"
   ]
  },
  {
   "cell_type": "code",
   "execution_count": 8,
   "metadata": {
    "scrolled": true
   },
   "outputs": [
    {
     "name": "stdout",
     "output_type": "stream",
     "text": [
      "Float64Index([8.0], dtype='float64')\n",
      "[362880]\n",
      "[0]\n"
     ]
    },
    {
     "data": {
      "image/png": "[encoded data removed]",
      "text/plain": [
       "<Figure size 432x288 with 1 Axes>"
      ]
     },
     "metadata": {
      "needs_background": "light"
     },
     "output_type": "display_data"
    }
   ],
   "source": [
    "from collections import Counter\n",
    "import numpy as np\n",
    "import matplotlib.pyplot as plt\n",
    "\n",
    "#counts = Counter(word_list)\n",
    "#labels, values = zip(*counts.items())\n",
    "# sort your values in descending order\n",
    "#indSort = np.argsort(values)[::-1]\n",
    "\n",
    "# rearrange your data\n",
    "labels=mval.index\n",
    "values=mval.values\n",
    "indexes = np.arange(len(labels))\n",
    "print(labels)\n",
    "print(values)\n",
    "print(indexes)\n",
    "\n",
    "bar_width = 0.35\n",
    "\n",
    "# Add title and axis names\n",
    "plt.title(constituency+' - Preference votes cast')\n",
    "plt.xlabel('Preferences')\n",
    "plt.ylabel('votes')\n",
    "\n",
    "plt.bar(indexes, values)\n",
    "\n",
    "# add labels\n",
    "plt.xticks(indexes + bar_width, labels)\n",
    "\n",
    "\n",
    "# Save the histogram\n",
    "plt.savefig('../images/'+constituency+'hist.png')\n",
    "\n",
    "#show histogram\n",
    "plt.show()"
   ]
  },
  {
   "cell_type": "markdown",
   "metadata": {},
   "source": [
    "###Pie Chart of how many preferences a voter uses"
   ]
  },
  {
   "cell_type": "code",
   "execution_count": 9,
   "metadata": {},
   "outputs": [
    {
     "data": {
      "image/png": "[encoded data removed]",
      "text/plain": [
       "<Figure size 720x432 with 1 Axes>"
      ]
     },
     "metadata": {
      "image/png": {
       "height": 340,
       "width": 340
      }
     },
     "output_type": "display_data"
    }
   ],
   "source": [
    "import matplotlib.pyplot as plt\n",
    "import numpy as np\n",
    "# Set the figure size - handy for larger output\n",
    "#from matplotlib import pyplot as plt\n",
    "plt.rcParams[\"figure.figsize\"] = [10, 6]\n",
    "# Set up with a higher resolution screen (useful on Mac)\n",
    "%config InlineBackend.figure_format = 'retina'\n",
    "\n",
    "pieLabels=[]\n",
    "for lab in indexes:\n",
    "    pieLabels.append(lab+1)\n",
    "\n",
    "plt.pie(values, labels = pieLabels)\n",
    "\n",
    "# Save the Pie\n",
    "plt.savefig('../images/'+constituency+'_pref_cast_pie.png')\n",
    "\n",
    "plt.show()"
   ]
  },
  {
   "cell_type": "code",
   "execution_count": 10,
   "metadata": {
    "scrolled": true
   },
   "outputs": [
    {
     "name": "stdout",
     "output_type": "stream",
     "text": [
      "[9, 72, 504, 3024, 15120, 60480, 181440, 362880, 362880]\n"
     ]
    }
   ],
   "source": [
    "nPrList =[]\n",
    "for i in range(1,candidates+1):\n",
    "    nPrList.append(int(math.factorial(candidates)/(math.factorial(candidates-i))))\n",
    "print(nPrList)"
   ]
  },
  {
   "cell_type": "markdown",
   "metadata": {},
   "source": [
    "## Print number of preferences cast, and calculate percentage"
   ]
  },
  {
   "cell_type": "code",
   "execution_count": 11,
   "metadata": {},
   "outputs": [],
   "source": [
    "# creating the dataframe from dictionary\n",
    "d={\"Pref\": labels, \"Votes\": values}    \n",
    "dfpref = pd.DataFrame(d)\n",
    "\n",
    "#calculate percentage of preferences cast and add to dataframe\n",
    "votz = dfpref.Votes.sum()  \n",
    "dfpref['Percentage'] = round(((dfpref['Votes']/votz)*100), 1)\n"
   ]
  },
  {
   "cell_type": "code",
   "execution_count": 12,
   "metadata": {},
   "outputs": [
    {
     "name": "stdout",
     "output_type": "stream",
     "text": [
      "9 362880\n",
      "Index(['GP', 'LB', 'FF', 'SP', 'FF.1', 'SF', 'PD', 'NP', 'FG', 'maxValues'], dtype='object')\n",
      "   Pref   Votes  Percentage\n",
      "0   8.0  362880       100.0\n"
     ]
    }
   ],
   "source": [
    "print(candidates, votz)\n",
    "print(df.columns)\n",
    "print(dfpref)"
   ]
  },
  {
   "cell_type": "code",
   "execution_count": 13,
   "metadata": {},
   "outputs": [
    {
     "name": "stdout",
     "output_type": "stream",
     "text": [
      "9 7\n"
     ]
    }
   ],
   "source": [
    "print(candidates, 7)"
   ]
  },
  {
   "cell_type": "code",
   "execution_count": 14,
   "metadata": {},
   "outputs": [
    {
     "data": {
      "text/html": [
       "<div>\n",
       "<style scoped>\n",
       "    .dataframe tbody tr th:only-of-type {\n",
       "        vertical-align: middle;\n",
       "    }\n",
       "\n",
       "    .dataframe tbody tr th {\n",
       "        vertical-align: top;\n",
       "    }\n",
       "\n",
       "    .dataframe thead th {\n",
       "        text-align: right;\n",
       "    }\n",
       "</style>\n",
       "<table border=\"1\" class=\"dataframe\">\n",
       "  <thead>\n",
       "    <tr style=\"text-align: right;\">\n",
       "      <th></th>\n",
       "      <th>Pref</th>\n",
       "      <th>Votes</th>\n",
       "      <th>Percentage</th>\n",
       "      <th>nPr</th>\n",
       "    </tr>\n",
       "  </thead>\n",
       "  <tbody>\n",
       "    <tr>\n",
       "      <th>0</th>\n",
       "      <td>8.0</td>\n",
       "      <td>362880</td>\n",
       "      <td>100.0</td>\n",
       "      <td>181440</td>\n",
       "    </tr>\n",
       "  </tbody>\n",
       "</table>\n",
       "</div>"
      ],
      "text/plain": [
       "   Pref   Votes  Percentage     nPr\n",
       "0   8.0  362880       100.0  181440"
      ]
     },
     "metadata": {},
     "output_type": "display_data"
    }
   ],
   "source": [
    "#calculate possible nPr = n!/(n-r)! values for each preference vote\n",
    "# candidates = n. No. of pref = r\n",
    "#nPrList =[]\n",
    "#for i in range(1,candidates+1):\n",
    "#    nPrList.append(int(math.factorial(candidates)/(math.factorial(candidates-i))))\n",
    "#add nPr to dataframe    \n",
    "dfpref['nPr'] = int(math.factorial(candidates)/(math.factorial(candidates-7)))\n",
    "\n",
    "# displaying the dataframe\n",
    "display(dfpref)"
   ]
  },
  {
   "cell_type": "markdown",
   "metadata": {},
   "source": [
    "# Calculate number of duplicated vote sequences"
   ]
  },
  {
   "cell_type": "code",
   "execution_count": 15,
   "metadata": {},
   "outputs": [],
   "source": [
    "#print((~df.duplicated()).sum())\n",
    "#print(df.duplicated(keep='last').value_counts())"
   ]
  },
  {
   "cell_type": "code",
   "execution_count": 16,
   "metadata": {},
   "outputs": [],
   "source": [
    "#drop all dublicate rows keeping last one\n",
    "df.drop_duplicates(keep='last', inplace=True, subset=df.columns.difference(['maxValues']))"
   ]
  },
  {
   "cell_type": "code",
   "execution_count": 17,
   "metadata": {
    "scrolled": true
   },
   "outputs": [
    {
     "name": "stdout",
     "output_type": "stream",
     "text": [
      "Number of votes 362880\n",
      "Number of unique vote patterns (after removing duplicates) 362880\n"
     ]
    }
   ],
   "source": [
    "#print the number of votes, and the number of unique votes\n",
    "print(f\"Number of votes {votes}\")\n",
    "print(f\"Number of unique vote patterns (after removing duplicates) {len(df)}\")"
   ]
  },
  {
   "cell_type": "code",
   "execution_count": 18,
   "metadata": {},
   "outputs": [
    {
     "name": "stdout",
     "output_type": "stream",
     "text": [
      "   Pref   Votes  Percentage     nPr\n",
      "0   8.0  362880       100.0  181440\n"
     ]
    }
   ],
   "source": [
    "# after removal of duplicates\n",
    "#add a column of the maximum count of the rows(highest preference vote cast)\n",
    "df['maxValues'] = df.max(axis = 1)\n",
    "\n",
    "mval=(df['maxValues'].value_counts())\n",
    "mval.sort_index(ascending=True, inplace=True)\n",
    "print(dfpref)"
   ]
  },
  {
   "cell_type": "markdown",
   "metadata": {},
   "source": [
    "### calculate unique vote combinations for each preference cast "
   ]
  },
  {
   "cell_type": "code",
   "execution_count": 19,
   "metadata": {},
   "outputs": [
    {
     "data": {
      "text/html": [
       "<div>\n",
       "<style scoped>\n",
       "    .dataframe tbody tr th:only-of-type {\n",
       "        vertical-align: middle;\n",
       "    }\n",
       "\n",
       "    .dataframe tbody tr th {\n",
       "        vertical-align: top;\n",
       "    }\n",
       "\n",
       "    .dataframe thead th {\n",
       "        text-align: right;\n",
       "    }\n",
       "</style>\n",
       "<table border=\"1\" class=\"dataframe\">\n",
       "  <thead>\n",
       "    <tr style=\"text-align: right;\">\n",
       "      <th></th>\n",
       "      <th>Pref</th>\n",
       "      <th>Votes</th>\n",
       "      <th>Percentage</th>\n",
       "      <th>nPr</th>\n",
       "      <th>Unique Votes</th>\n",
       "      <th>Percentage Used</th>\n",
       "    </tr>\n",
       "  </thead>\n",
       "  <tbody>\n",
       "    <tr>\n",
       "      <th>0</th>\n",
       "      <td>8.0</td>\n",
       "      <td>362880</td>\n",
       "      <td>100.0</td>\n",
       "      <td>181440</td>\n",
       "      <td>362880</td>\n",
       "      <td>200.0</td>\n",
       "    </tr>\n",
       "  </tbody>\n",
       "</table>\n",
       "</div>"
      ],
      "text/plain": [
       "   Pref   Votes  Percentage     nPr  Unique Votes  Percentage Used\n",
       "0   8.0  362880       100.0  181440        362880            200.0"
      ]
     },
     "metadata": {},
     "output_type": "display_data"
    }
   ],
   "source": [
    "#calculate unique vote combinations for each preference cast \n",
    "dfpref['Unique Votes'] = mval.values\n",
    "\n",
    "dfpref['Percentage Used'] = round(((dfpref['Unique Votes']/dfpref['nPr'])*100), 5)\n",
    "\n",
    "# displaying the dataframe\n",
    "display(dfpref)"
   ]
  },
  {
   "cell_type": "code",
   "execution_count": 20,
   "metadata": {},
   "outputs": [
    {
     "name": "stdout",
     "output_type": "stream",
     "text": [
      "362880\n"
     ]
    }
   ],
   "source": [
    "#just checking \n",
    "print(sum(mval.values))\n",
    "nPr=dfpref['nPr']"
   ]
  },
  {
   "cell_type": "markdown",
   "metadata": {},
   "source": [
    "## Import in Political Compass data for Irish Parties"
   ]
  },
  {
   "cell_type": "code",
   "execution_count": 21,
   "metadata": {},
   "outputs": [
    {
     "name": "stdout",
     "output_type": "stream",
     "text": [
      "Irish Parties on Political Compass\n",
      "  party  xaxis  yaxis\n",
      "0    SP   -7.0   -2.5\n",
      "1    SF   -4.5    1.0\n",
      "2    GP   -1.0   -2.0\n",
      "3    NP    0.0    0.0\n",
      "4    LB    1.5   -0.5\n",
      "5    FF    2.5    2.4\n",
      "6    FG    3.5    2.5\n",
      "7    PD    4.0    3.0\n"
     ]
    }
   ],
   "source": [
    "#download compass data positioning irish political parties on the political spectrum\n",
    "pcData='../data/pc.csv'\n",
    "\n",
    "#set column names\n",
    "col_names = ['party', 'xaxis', 'yaxis']\n",
    "#read in political compass data\n",
    "dfPC = pd.read_csv(pcData, na_values=[\"Missing\"], names=col_names)\n",
    "print(\"Irish Parties on Political Compass\")\n",
    "print(dfPC)\n",
    "points=[]\n",
    "points = dfPC.party\n",
    "x=[] #x-axis coordinates\n",
    "y=[] #y-axis coordinates\n",
    "pt=[]\n",
    "\n",
    "#populate two lists with the x and y - coordinates\n",
    "for p in points:\n",
    "    pt.append(dfPC.party)\n",
    "    x.append(dfPC.xaxis)\n",
    "    y.append(dfPC.yaxis)"
   ]
  },
  {
   "cell_type": "code",
   "execution_count": 22,
   "metadata": {},
   "outputs": [
    {
     "name": "stdout",
     "output_type": "stream",
     "text": [
      "['GP', 'LB', 'FF', 'SP', 'FF.1', 'SF', 'PD', 'NP', 'FG']\n",
      "['GP', 'LB', 'FF', 'SP', 'FF', 'SF', 'PD', 'NP', 'FG']\n"
     ]
    }
   ],
   "source": [
    "# get the party initials (1 characters) from the column names i.e. remove .1 .2 L Retc\n",
    "#print(df.columns)\n",
    "partiesList= list(df.columns)\n",
    "del partiesList[-1]\n",
    "print(partiesList)\n",
    "partiesList2=[]\n",
    "for pl in partiesList:\n",
    "    #print(pl[:2] )\n",
    "    partiesList2.append(pl[:2])\n",
    "print(partiesList2)"
   ]
  },
  {
   "cell_type": "code",
   "execution_count": 23,
   "metadata": {},
   "outputs": [],
   "source": [
    "def getEuclidVoteDetails(voteRow, dfPC):\n",
    "    #populate 3 lists with text, x co-ord and y co-ord\n",
    "    partyPCList = dfPC.party.tolist()\n",
    "   # print(\"partyList\",partyPCList)\n",
    "    xi=[]\n",
    "    yi=[]\n",
    "    pp=[]\n",
    "    for d in voteRow:\n",
    "        inx=partyPCList.index(d)\n",
    "        pp.append(dfPC.iloc[inx].tolist()[0])\n",
    "        xi.append(dfPC.iloc[inx].tolist()[1])\n",
    "        yi.append(dfPC.iloc[inx].tolist()[2])\n",
    "\n",
    "   # for ip in range(len(pp)):\n",
    "   #     print(f\"{ip+1} - {pp[ip]} ({xi[ip]}, {yi[ip]})\")\n",
    "\n",
    "    #Calculate the eculidean distance a vote travels on the political spectrum\n",
    "    dist = 0\n",
    "    total_dist=0\n",
    "    for pl in range(len(pp)):\n",
    "    # initializing points in # numpy arrays      \n",
    "        if pl != (len(pp)-1):\n",
    "            point1 = np.array((xi[pl],yi[pl]))\n",
    "            point2 = np.array((xi[pl+1],yi[pl+1]))\n",
    "\n",
    "    #calculating Euclidean distance # using linalg.norm()\n",
    "            dist = np.linalg.norm(point1 - point2)\n",
    "            #print(f\"Euclidean distance between vote {pl+1} and {pl+2} is {dist}\")\n",
    "            total_dist = total_dist + dist\n",
    " #   print(total_dist, len(pp))\n",
    "    if len(pp) > 1:\n",
    "        avg_dist = total_dist/(len(pp)-1)    \n",
    "    else:\n",
    "        avg_dist = total_dist\n",
    "    #print(\"Total Distance Travelled on Political Compass as a vote transfers \", total_dist)\n",
    "    #print(\"Average Distance Travelled on Political Compass of each vote transfers \", avg_dist)\n",
    "\n",
    "    return(total_dist, avg_dist)"
   ]
  },
  {
   "cell_type": "code",
   "execution_count": 24,
   "metadata": {},
   "outputs": [],
   "source": [
    "def getVotesParty(voterow, partieslegend):\n",
    "    #convert a vote row into parties initials\n",
    "    voteP=[]\n",
    "    for v in range(len(voterow)):\n",
    "        for w in range(len(voterow)):\n",
    "            if voterow[w] == v+1:\n",
    "                voteP.append(partieslegend[w])\n",
    "    return(voteP)"
   ]
  },
  {
   "cell_type": "code",
   "execution_count": 25,
   "metadata": {},
   "outputs": [
    {
     "data": {
      "text/html": [
       "<div>\n",
       "<style scoped>\n",
       "    .dataframe tbody tr th:only-of-type {\n",
       "        vertical-align: middle;\n",
       "    }\n",
       "\n",
       "    .dataframe tbody tr th {\n",
       "        vertical-align: top;\n",
       "    }\n",
       "\n",
       "    .dataframe thead th {\n",
       "        text-align: right;\n",
       "    }\n",
       "</style>\n",
       "<table border=\"1\" class=\"dataframe\">\n",
       "  <thead>\n",
       "    <tr style=\"text-align: right;\">\n",
       "      <th></th>\n",
       "      <th>GP</th>\n",
       "      <th>LB</th>\n",
       "      <th>FF</th>\n",
       "      <th>SP</th>\n",
       "      <th>FF.1</th>\n",
       "      <th>SF</th>\n",
       "      <th>PD</th>\n",
       "      <th>NP</th>\n",
       "      <th>FG</th>\n",
       "      <th>maxValues</th>\n",
       "      <th>Euclid Dist</th>\n",
       "      <th>Avg. Euc. Dist</th>\n",
       "    </tr>\n",
       "  </thead>\n",
       "  <tbody>\n",
       "    <tr>\n",
       "      <th>362871</th>\n",
       "      <td>8.0</td>\n",
       "      <td>7.0</td>\n",
       "      <td>6.0</td>\n",
       "      <td>NaN</td>\n",
       "      <td>5.0</td>\n",
       "      <td>4.0</td>\n",
       "      <td>3.0</td>\n",
       "      <td>2.0</td>\n",
       "      <td>1.0</td>\n",
       "      <td>8.0</td>\n",
       "      <td>31.154963</td>\n",
       "      <td>4.450709</td>\n",
       "    </tr>\n",
       "    <tr>\n",
       "      <th>362872</th>\n",
       "      <td>NaN</td>\n",
       "      <td>7.0</td>\n",
       "      <td>6.0</td>\n",
       "      <td>8.0</td>\n",
       "      <td>5.0</td>\n",
       "      <td>4.0</td>\n",
       "      <td>3.0</td>\n",
       "      <td>2.0</td>\n",
       "      <td>1.0</td>\n",
       "      <td>8.0</td>\n",
       "      <td>36.971611</td>\n",
       "      <td>5.281659</td>\n",
       "    </tr>\n",
       "    <tr>\n",
       "      <th>362873</th>\n",
       "      <td>8.0</td>\n",
       "      <td>NaN</td>\n",
       "      <td>6.0</td>\n",
       "      <td>7.0</td>\n",
       "      <td>5.0</td>\n",
       "      <td>4.0</td>\n",
       "      <td>3.0</td>\n",
       "      <td>2.0</td>\n",
       "      <td>1.0</td>\n",
       "      <td>8.0</td>\n",
       "      <td>41.881959</td>\n",
       "      <td>5.983137</td>\n",
       "    </tr>\n",
       "    <tr>\n",
       "      <th>362874</th>\n",
       "      <td>NaN</td>\n",
       "      <td>8.0</td>\n",
       "      <td>6.0</td>\n",
       "      <td>7.0</td>\n",
       "      <td>5.0</td>\n",
       "      <td>4.0</td>\n",
       "      <td>3.0</td>\n",
       "      <td>2.0</td>\n",
       "      <td>1.0</td>\n",
       "      <td>8.0</td>\n",
       "      <td>44.593286</td>\n",
       "      <td>6.370469</td>\n",
       "    </tr>\n",
       "    <tr>\n",
       "      <th>362875</th>\n",
       "      <td>7.0</td>\n",
       "      <td>8.0</td>\n",
       "      <td>NaN</td>\n",
       "      <td>6.0</td>\n",
       "      <td>5.0</td>\n",
       "      <td>4.0</td>\n",
       "      <td>3.0</td>\n",
       "      <td>2.0</td>\n",
       "      <td>1.0</td>\n",
       "      <td>8.0</td>\n",
       "      <td>44.797435</td>\n",
       "      <td>6.399634</td>\n",
       "    </tr>\n",
       "    <tr>\n",
       "      <th>362876</th>\n",
       "      <td>7.0</td>\n",
       "      <td>NaN</td>\n",
       "      <td>8.0</td>\n",
       "      <td>6.0</td>\n",
       "      <td>5.0</td>\n",
       "      <td>4.0</td>\n",
       "      <td>3.0</td>\n",
       "      <td>2.0</td>\n",
       "      <td>1.0</td>\n",
       "      <td>8.0</td>\n",
       "      <td>47.504236</td>\n",
       "      <td>6.786319</td>\n",
       "    </tr>\n",
       "    <tr>\n",
       "      <th>362877</th>\n",
       "      <td>8.0</td>\n",
       "      <td>7.0</td>\n",
       "      <td>NaN</td>\n",
       "      <td>6.0</td>\n",
       "      <td>5.0</td>\n",
       "      <td>4.0</td>\n",
       "      <td>3.0</td>\n",
       "      <td>2.0</td>\n",
       "      <td>1.0</td>\n",
       "      <td>8.0</td>\n",
       "      <td>47.508762</td>\n",
       "      <td>6.786966</td>\n",
       "    </tr>\n",
       "    <tr>\n",
       "      <th>362878</th>\n",
       "      <td>NaN</td>\n",
       "      <td>7.0</td>\n",
       "      <td>8.0</td>\n",
       "      <td>6.0</td>\n",
       "      <td>5.0</td>\n",
       "      <td>4.0</td>\n",
       "      <td>3.0</td>\n",
       "      <td>2.0</td>\n",
       "      <td>1.0</td>\n",
       "      <td>8.0</td>\n",
       "      <td>47.660858</td>\n",
       "      <td>6.808694</td>\n",
       "    </tr>\n",
       "    <tr>\n",
       "      <th>362879</th>\n",
       "      <td>8.0</td>\n",
       "      <td>NaN</td>\n",
       "      <td>7.0</td>\n",
       "      <td>6.0</td>\n",
       "      <td>5.0</td>\n",
       "      <td>4.0</td>\n",
       "      <td>3.0</td>\n",
       "      <td>2.0</td>\n",
       "      <td>1.0</td>\n",
       "      <td>8.0</td>\n",
       "      <td>52.172686</td>\n",
       "      <td>7.453241</td>\n",
       "    </tr>\n",
       "    <tr>\n",
       "      <th>362880</th>\n",
       "      <td>NaN</td>\n",
       "      <td>8.0</td>\n",
       "      <td>7.0</td>\n",
       "      <td>6.0</td>\n",
       "      <td>5.0</td>\n",
       "      <td>4.0</td>\n",
       "      <td>3.0</td>\n",
       "      <td>2.0</td>\n",
       "      <td>1.0</td>\n",
       "      <td>8.0</td>\n",
       "      <td>49.617981</td>\n",
       "      <td>7.088283</td>\n",
       "    </tr>\n",
       "  </tbody>\n",
       "</table>\n",
       "</div>"
      ],
      "text/plain": [
       "         GP   LB   FF   SP  FF.1   SF   PD   NP   FG  maxValues  Euclid Dist  \\\n",
       "362871  8.0  7.0  6.0  NaN   5.0  4.0  3.0  2.0  1.0        8.0    31.154963   \n",
       "362872  NaN  7.0  6.0  8.0   5.0  4.0  3.0  2.0  1.0        8.0    36.971611   \n",
       "362873  8.0  NaN  6.0  7.0   5.0  4.0  3.0  2.0  1.0        8.0    41.881959   \n",
       "362874  NaN  8.0  6.0  7.0   5.0  4.0  3.0  2.0  1.0        8.0    44.593286   \n",
       "362875  7.0  8.0  NaN  6.0   5.0  4.0  3.0  2.0  1.0        8.0    44.797435   \n",
       "362876  7.0  NaN  8.0  6.0   5.0  4.0  3.0  2.0  1.0        8.0    47.504236   \n",
       "362877  8.0  7.0  NaN  6.0   5.0  4.0  3.0  2.0  1.0        8.0    47.508762   \n",
       "362878  NaN  7.0  8.0  6.0   5.0  4.0  3.0  2.0  1.0        8.0    47.660858   \n",
       "362879  8.0  NaN  7.0  6.0   5.0  4.0  3.0  2.0  1.0        8.0    52.172686   \n",
       "362880  NaN  8.0  7.0  6.0   5.0  4.0  3.0  2.0  1.0        8.0    49.617981   \n",
       "\n",
       "        Avg. Euc. Dist  \n",
       "362871        4.450709  \n",
       "362872        5.281659  \n",
       "362873        5.983137  \n",
       "362874        6.370469  \n",
       "362875        6.399634  \n",
       "362876        6.786319  \n",
       "362877        6.786966  \n",
       "362878        6.808694  \n",
       "362879        7.453241  \n",
       "362880        7.088283  "
      ]
     },
     "metadata": {},
     "output_type": "display_data"
    }
   ],
   "source": [
    "#calculate the euclidean distance for all rows\n",
    "EuclidDist = []\n",
    "AvgEucDist =[]\n",
    "for dft5 in range(len(df)):\n",
    "    #print(dft5)\n",
    "    dftR = list(df.iloc[dft5])\n",
    "    del dftR[-1]\n",
    "    #print(\"Call get Votes for Party in row\")\n",
    "    votePList=getVotesParty(dftR, partiesList2)\n",
    "    #print(votePList)\n",
    "    (tD, aD) = getEuclidVoteDetails(votePList, dfPC)\n",
    "    #print(tD, aD)\n",
    "    EuclidDist.append(tD)\n",
    "    AvgEucDist.append(aD)\n",
    "    \n",
    "#print(EuclidDist)\n",
    "#print(AvgEucDist)\n",
    "#print(type(EuclidDist))\n",
    "df['Euclid Dist'] = np.array(EuclidDist)\n",
    "df['Avg. Euc. Dist'] = np.array(AvgEucDist)\n",
    "display(df.tail(10))\n"
   ]
  },
  {
   "cell_type": "code",
   "execution_count": 26,
   "metadata": {},
   "outputs": [
    {
     "data": {
      "text/plain": [
       "Text(0.5, 0, 'Euclid Distance')"
      ]
     },
     "execution_count": 26,
     "metadata": {},
     "output_type": "execute_result"
    },
    {
     "data": {
      "image/png": "[encoded data removed]",
      "text/plain": [
       "<Figure size 720x432 with 1 Axes>"
      ]
     },
     "metadata": {
      "image/png": {
       "height": 386,
       "width": 623
      },
      "needs_background": "light"
     },
     "output_type": "display_data"
    }
   ],
   "source": [
    "# Import the libraries\n",
    "import matplotlib.pyplot as plt\n",
    "import seaborn as sns\n",
    "\n",
    "# matplotlib histogram\n",
    "dfmh = pd.DataFrame()\n",
    "dfmh = df.loc[df['maxValues']==5.0]\n",
    "\n",
    "plt.hist(dfmh['Euclid Dist'], color = 'blue', edgecolor = 'black',\n",
    "         bins = int(180/5))\n",
    "\n",
    "dfh= pd.DataFrame()\n",
    "dfh['maxValues'] = df['maxValues']\n",
    "dfh['Euclid Dist'] = df['Euclid Dist']\n",
    "dfh['Avg. Euc. Dist'] = df['Avg. Euc. Dist']\n",
    "\n",
    "# Plot Histogram\n",
    "#sns.histplot(data = dfh, x = dfh['Euclid Dist'], kde = True, hue = dfh['maxValues'])\n",
    "\n",
    "\n",
    "# seaborn histogram\n",
    "#sns.distplot(df['Euclid Dist'], hist=True, kde=False, \n",
    "#             bins=int(180/5), color = 'blue',\n",
    "#             hist_kws={'edgecolor':'black'})\n",
    "\n",
    "#sns.histplot(data = df['Euclid Dist'])\n",
    "\n",
    "\n",
    "\n",
    "# Add labels\n",
    "plt.title('Histogram of Votes v Euclid Dist')\n",
    "plt.ylabel('Votes')\n",
    "plt.xlabel('Euclid Distance')"
   ]
  },
  {
   "cell_type": "code",
   "execution_count": 27,
   "metadata": {},
   "outputs": [],
   "source": [
    "# calculate the avg, mean median min and max of the euclidean distance for each preference \n",
    "dfeucmean =  df.groupby('maxValues')['Euclid Dist'].mean()\n",
    "dfeucmedian =  df.groupby('maxValues')['Euclid Dist'].median()\n",
    "#dfeucmode =  df.groupby('maxValues')['Euclid Dist'].mode() # no mode"
   ]
  },
  {
   "cell_type": "code",
   "execution_count": 28,
   "metadata": {},
   "outputs": [],
   "source": [
    "dfeucmin =  df.groupby('maxValues')['Euclid Dist'].min()\n",
    "dfeucmax =  df.groupby('maxValues')['Euclid Dist'].max()"
   ]
  },
  {
   "cell_type": "code",
   "execution_count": 29,
   "metadata": {},
   "outputs": [],
   "source": [
    "#convert list to numpy array since lists seem to add at row 1 not 0\n",
    "dfpref['Euc Mean'] = np.array(dfeucmean)\n",
    "dfpref['Euc Median'] = np.array(dfeucmedian)\n",
    "dfpref['Euc Min']  = np.array(dfeucmin)\n",
    "dfpref['Euc Max']  = np.array(dfeucmax)"
   ]
  },
  {
   "cell_type": "markdown",
   "metadata": {},
   "source": [
    "## Display the Statistics Table of the Vote"
   ]
  },
  {
   "cell_type": "code",
   "execution_count": 30,
   "metadata": {
    "scrolled": false
   },
   "outputs": [
    {
     "data": {
      "text/html": [
       "<div>\n",
       "<style scoped>\n",
       "    .dataframe tbody tr th:only-of-type {\n",
       "        vertical-align: middle;\n",
       "    }\n",
       "\n",
       "    .dataframe tbody tr th {\n",
       "        vertical-align: top;\n",
       "    }\n",
       "\n",
       "    .dataframe thead th {\n",
       "        text-align: right;\n",
       "    }\n",
       "</style>\n",
       "<table border=\"1\" class=\"dataframe\">\n",
       "  <thead>\n",
       "    <tr style=\"text-align: right;\">\n",
       "      <th></th>\n",
       "      <th>Pref</th>\n",
       "      <th>Votes</th>\n",
       "      <th>Percentage</th>\n",
       "      <th>nPr</th>\n",
       "      <th>Unique Votes</th>\n",
       "      <th>Percentage Used</th>\n",
       "      <th>Euc Mean</th>\n",
       "      <th>Euc Median</th>\n",
       "      <th>Euc Min</th>\n",
       "      <th>Euc Max</th>\n",
       "    </tr>\n",
       "  </thead>\n",
       "  <tbody>\n",
       "    <tr>\n",
       "      <th>0</th>\n",
       "      <td>8.0</td>\n",
       "      <td>362880</td>\n",
       "      <td>100.0</td>\n",
       "      <td>181440</td>\n",
       "      <td>362880</td>\n",
       "      <td>200.0</td>\n",
       "      <td>36.163019</td>\n",
       "      <td>36.243927</td>\n",
       "      <td>13.206646</td>\n",
       "      <td>55.450669</td>\n",
       "    </tr>\n",
       "  </tbody>\n",
       "</table>\n",
       "</div>"
      ],
      "text/plain": [
       "   Pref   Votes  Percentage     nPr  Unique Votes  Percentage Used   Euc Mean  \\\n",
       "0   8.0  362880       100.0  181440        362880            200.0  36.163019   \n",
       "\n",
       "   Euc Median    Euc Min    Euc Max  \n",
       "0   36.243927  13.206646  55.450669  "
      ]
     },
     "metadata": {},
     "output_type": "display_data"
    }
   ],
   "source": [
    "# displaying the dataframe\n",
    "display(dfpref)"
   ]
  },
  {
   "cell_type": "markdown",
   "metadata": {},
   "source": [
    "### Write Statistics table to csv file"
   ]
  },
  {
   "cell_type": "code",
   "execution_count": 31,
   "metadata": {},
   "outputs": [],
   "source": [
    "#filename and dir\n",
    "out_csv='../data/stats/'+constituency+'_gen_statistics.csv'\n",
    "\n",
    "#write to csv file\n",
    "dfpref.to_csv(out_csv)"
   ]
  },
  {
   "cell_type": "markdown",
   "metadata": {},
   "source": [
    "### write out the dataframe with generated fields, categorise sequence as regular (1)"
   ]
  },
  {
   "cell_type": "markdown",
   "metadata": {},
   "source": [
    "### Bar Plot of the Percentages of Preferenes Cast v Possible Preferences"
   ]
  },
  {
   "cell_type": "code",
   "execution_count": 32,
   "metadata": {},
   "outputs": [],
   "source": [
    "# Set the figure size - handy for larger output\n",
    "plt.rcParams[\"figure.figsize\"] = [10, 6]\n",
    "# Set up with a higher resolution screen (useful on Mac)\n",
    "%config InlineBackend.figure_format = 'retina'\n",
    "\n",
    "#create data frame for bar chart\n",
    "plotdata = pd.DataFrame([], \n",
    "    index=pieLabels\n",
    ")\n",
    "plotdata['Cast']=list(dfpref['Unique Votes'])\n",
    "plotdata['nPr']=list(dfpref['nPr'])"
   ]
  },
  {
   "cell_type": "code",
   "execution_count": 33,
   "metadata": {},
   "outputs": [
    {
     "data": {
      "image/png": "[encoded data removed]",
      "text/plain": [
       "<Figure size 720x432 with 1 Axes>"
      ]
     },
     "metadata": {
      "image/png": {
       "height": 382,
       "width": 612
      },
      "needs_background": "light"
     },
     "output_type": "display_data"
    }
   ],
   "source": [
    "stacked_data = plotdata.apply(lambda x: x*100/sum(x), axis=1)\n",
    "stacked_data.plot(kind=\"bar\", stacked=True)\n",
    "plt.title(constituency + \" Votes cast to Possible Votes, Candidates(n)=9\")\n",
    "plt.xlabel(\"Votes Cast (r)\")\n",
    "plt.ylabel(\"Percentage of votes cast to possible votes (%)\")\n",
    "\n",
    "# Save the bar\n",
    "plt.savefig('../images/'+constituency+'_pref_percent_bar.png')\n",
    "plt.show()"
   ]
  },
  {
   "cell_type": "code",
   "execution_count": 34,
   "metadata": {},
   "outputs": [
    {
     "name": "stdout",
     "output_type": "stream",
     "text": [
      "0    55.450669\n",
      "Name: Euc Max, dtype: float64\n"
     ]
    }
   ],
   "source": [
    "print(dfpref['Euc Max'])"
   ]
  },
  {
   "cell_type": "code",
   "execution_count": 35,
   "metadata": {},
   "outputs": [],
   "source": [
    "#df.loc[(df['Avg. Euc. Dist'] > 5.0) & (df['maxValues']==7.0)]"
   ]
  },
  {
   "cell_type": "code",
   "execution_count": 36,
   "metadata": {},
   "outputs": [],
   "source": [
    "df=df.loc[(df['Euclid Dist'] > 55.0)] # & (df['maxValues']==8.0)]"
   ]
  },
  {
   "cell_type": "code",
   "execution_count": 37,
   "metadata": {},
   "outputs": [
    {
     "data": {
      "text/plain": [
       "(140, 12)"
      ]
     },
     "execution_count": 37,
     "metadata": {},
     "output_type": "execute_result"
    }
   ],
   "source": [
    "df.shape"
   ]
  },
  {
   "cell_type": "code",
   "execution_count": 38,
   "metadata": {
    "scrolled": false
   },
   "outputs": [
    {
     "data": {
      "text/html": [
       "<div>\n",
       "<style scoped>\n",
       "    .dataframe tbody tr th:only-of-type {\n",
       "        vertical-align: middle;\n",
       "    }\n",
       "\n",
       "    .dataframe tbody tr th {\n",
       "        vertical-align: top;\n",
       "    }\n",
       "\n",
       "    .dataframe thead th {\n",
       "        text-align: right;\n",
       "    }\n",
       "</style>\n",
       "<table border=\"1\" class=\"dataframe\">\n",
       "  <thead>\n",
       "    <tr style=\"text-align: right;\">\n",
       "      <th></th>\n",
       "      <th>GP</th>\n",
       "      <th>LB</th>\n",
       "      <th>FF</th>\n",
       "      <th>SP</th>\n",
       "      <th>FF.1</th>\n",
       "      <th>SF</th>\n",
       "      <th>PD</th>\n",
       "      <th>NP</th>\n",
       "      <th>FG</th>\n",
       "      <th>maxValues</th>\n",
       "      <th>Euclid Dist</th>\n",
       "      <th>Avg. Euc. Dist</th>\n",
       "      <th>Seq</th>\n",
       "    </tr>\n",
       "  </thead>\n",
       "  <tbody>\n",
       "    <tr>\n",
       "      <th>82260</th>\n",
       "      <td>2.0</td>\n",
       "      <td>NaN</td>\n",
       "      <td>1.0</td>\n",
       "      <td>4.0</td>\n",
       "      <td>3.0</td>\n",
       "      <td>6.0</td>\n",
       "      <td>5.0</td>\n",
       "      <td>8.0</td>\n",
       "      <td>7.0</td>\n",
       "      <td>8.0</td>\n",
       "      <td>55.404873</td>\n",
       "      <td>7.914982</td>\n",
       "      <td>0</td>\n",
       "    </tr>\n",
       "    <tr>\n",
       "      <th>82306</th>\n",
       "      <td>2.0</td>\n",
       "      <td>NaN</td>\n",
       "      <td>1.0</td>\n",
       "      <td>4.0</td>\n",
       "      <td>3.0</td>\n",
       "      <td>6.0</td>\n",
       "      <td>7.0</td>\n",
       "      <td>8.0</td>\n",
       "      <td>5.0</td>\n",
       "      <td>8.0</td>\n",
       "      <td>55.435039</td>\n",
       "      <td>7.919291</td>\n",
       "      <td>0</td>\n",
       "    </tr>\n",
       "    <tr>\n",
       "      <th>82380</th>\n",
       "      <td>2.0</td>\n",
       "      <td>NaN</td>\n",
       "      <td>1.0</td>\n",
       "      <td>6.0</td>\n",
       "      <td>3.0</td>\n",
       "      <td>4.0</td>\n",
       "      <td>5.0</td>\n",
       "      <td>8.0</td>\n",
       "      <td>7.0</td>\n",
       "      <td>8.0</td>\n",
       "      <td>55.344546</td>\n",
       "      <td>7.906364</td>\n",
       "      <td>0</td>\n",
       "    </tr>\n",
       "    <tr>\n",
       "      <th>82426</th>\n",
       "      <td>2.0</td>\n",
       "      <td>NaN</td>\n",
       "      <td>1.0</td>\n",
       "      <td>6.0</td>\n",
       "      <td>3.0</td>\n",
       "      <td>4.0</td>\n",
       "      <td>7.0</td>\n",
       "      <td>8.0</td>\n",
       "      <td>5.0</td>\n",
       "      <td>8.0</td>\n",
       "      <td>55.450669</td>\n",
       "      <td>7.921524</td>\n",
       "      <td>0</td>\n",
       "    </tr>\n",
       "    <tr>\n",
       "      <th>83676</th>\n",
       "      <td>2.0</td>\n",
       "      <td>NaN</td>\n",
       "      <td>1.0</td>\n",
       "      <td>4.0</td>\n",
       "      <td>5.0</td>\n",
       "      <td>6.0</td>\n",
       "      <td>3.0</td>\n",
       "      <td>8.0</td>\n",
       "      <td>7.0</td>\n",
       "      <td>8.0</td>\n",
       "      <td>55.260166</td>\n",
       "      <td>7.894309</td>\n",
       "      <td>0</td>\n",
       "    </tr>\n",
       "    <tr>\n",
       "      <th>83752</th>\n",
       "      <td>2.0</td>\n",
       "      <td>NaN</td>\n",
       "      <td>1.0</td>\n",
       "      <td>4.0</td>\n",
       "      <td>7.0</td>\n",
       "      <td>6.0</td>\n",
       "      <td>3.0</td>\n",
       "      <td>8.0</td>\n",
       "      <td>5.0</td>\n",
       "      <td>8.0</td>\n",
       "      <td>55.365004</td>\n",
       "      <td>7.909286</td>\n",
       "      <td>0</td>\n",
       "    </tr>\n",
       "    <tr>\n",
       "      <th>83940</th>\n",
       "      <td>2.0</td>\n",
       "      <td>NaN</td>\n",
       "      <td>1.0</td>\n",
       "      <td>6.0</td>\n",
       "      <td>5.0</td>\n",
       "      <td>4.0</td>\n",
       "      <td>3.0</td>\n",
       "      <td>8.0</td>\n",
       "      <td>7.0</td>\n",
       "      <td>8.0</td>\n",
       "      <td>55.184210</td>\n",
       "      <td>7.883459</td>\n",
       "      <td>0</td>\n",
       "    </tr>\n",
       "    <tr>\n",
       "      <th>83986</th>\n",
       "      <td>2.0</td>\n",
       "      <td>NaN</td>\n",
       "      <td>1.0</td>\n",
       "      <td>6.0</td>\n",
       "      <td>7.0</td>\n",
       "      <td>4.0</td>\n",
       "      <td>3.0</td>\n",
       "      <td>8.0</td>\n",
       "      <td>5.0</td>\n",
       "      <td>8.0</td>\n",
       "      <td>55.349375</td>\n",
       "      <td>7.907054</td>\n",
       "      <td>0</td>\n",
       "    </tr>\n",
       "    <tr>\n",
       "      <th>85114</th>\n",
       "      <td>2.0</td>\n",
       "      <td>NaN</td>\n",
       "      <td>1.0</td>\n",
       "      <td>4.0</td>\n",
       "      <td>5.0</td>\n",
       "      <td>6.0</td>\n",
       "      <td>7.0</td>\n",
       "      <td>8.0</td>\n",
       "      <td>3.0</td>\n",
       "      <td>8.0</td>\n",
       "      <td>55.175940</td>\n",
       "      <td>7.882277</td>\n",
       "      <td>0</td>\n",
       "    </tr>\n",
       "    <tr>\n",
       "      <th>85168</th>\n",
       "      <td>2.0</td>\n",
       "      <td>NaN</td>\n",
       "      <td>1.0</td>\n",
       "      <td>4.0</td>\n",
       "      <td>7.0</td>\n",
       "      <td>6.0</td>\n",
       "      <td>5.0</td>\n",
       "      <td>8.0</td>\n",
       "      <td>3.0</td>\n",
       "      <td>8.0</td>\n",
       "      <td>55.250612</td>\n",
       "      <td>7.892945</td>\n",
       "      <td>0</td>\n",
       "    </tr>\n",
       "  </tbody>\n",
       "</table>\n",
       "</div>"
      ],
      "text/plain": [
       "        GP  LB   FF   SP  FF.1   SF   PD   NP   FG  maxValues  Euclid Dist  \\\n",
       "82260  2.0 NaN  1.0  4.0   3.0  6.0  5.0  8.0  7.0        8.0    55.404873   \n",
       "82306  2.0 NaN  1.0  4.0   3.0  6.0  7.0  8.0  5.0        8.0    55.435039   \n",
       "82380  2.0 NaN  1.0  6.0   3.0  4.0  5.0  8.0  7.0        8.0    55.344546   \n",
       "82426  2.0 NaN  1.0  6.0   3.0  4.0  7.0  8.0  5.0        8.0    55.450669   \n",
       "83676  2.0 NaN  1.0  4.0   5.0  6.0  3.0  8.0  7.0        8.0    55.260166   \n",
       "83752  2.0 NaN  1.0  4.0   7.0  6.0  3.0  8.0  5.0        8.0    55.365004   \n",
       "83940  2.0 NaN  1.0  6.0   5.0  4.0  3.0  8.0  7.0        8.0    55.184210   \n",
       "83986  2.0 NaN  1.0  6.0   7.0  4.0  3.0  8.0  5.0        8.0    55.349375   \n",
       "85114  2.0 NaN  1.0  4.0   5.0  6.0  7.0  8.0  3.0        8.0    55.175940   \n",
       "85168  2.0 NaN  1.0  4.0   7.0  6.0  5.0  8.0  3.0        8.0    55.250612   \n",
       "\n",
       "       Avg. Euc. Dist  Seq  \n",
       "82260        7.914982    0  \n",
       "82306        7.919291    0  \n",
       "82380        7.906364    0  \n",
       "82426        7.921524    0  \n",
       "83676        7.894309    0  \n",
       "83752        7.909286    0  \n",
       "83940        7.883459    0  \n",
       "83986        7.907054    0  \n",
       "85114        7.882277    0  \n",
       "85168        7.892945    0  "
      ]
     },
     "metadata": {},
     "output_type": "display_data"
    }
   ],
   "source": [
    "#add column with \n",
    "df['Seq']=0\n",
    "\n",
    "#filename and dir\n",
    "out_csv='../data/processed/'+constituency+'_gen_irreg.csv'\n",
    "display(df.head(10))\n",
    "\n",
    "#write to csv file\n",
    "df.to_csv(out_csv)"
   ]
  },
  {
   "cell_type": "code",
   "execution_count": null,
   "metadata": {},
   "outputs": [],
   "source": []
  }
 ],
 "metadata": {
  "kernelspec": {
   "display_name": "Python 3",
   "language": "python",
   "name": "python3"
  },
  "language_info": {
   "codemirror_mode": {
    "name": "ipython",
    "version": 3
   },
   "file_extension": ".py",
   "mimetype": "text/x-python",
   "name": "python",
   "nbconvert_exporter": "python",
   "pygments_lexer": "ipython3",
   "version": "3.8.5"
  }
 },
 "nbformat": 4,
 "nbformat_minor": 4
}
