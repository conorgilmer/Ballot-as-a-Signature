{
 "cells": [
  {
   "cell_type": "code",
   "execution_count": 2,
   "metadata": {},
   "outputs": [],
   "source": [
    "# Import libraries and classes required for this example:\n",
    "from sklearn.model_selection import train_test_split\n",
    "from sklearn.preprocessing import StandardScaler \n",
    "from sklearn.neighbors import KNeighborsClassifier\n",
    "from sklearn.metrics import classification_report, confusion_matrix\n",
    "from sklearn.model_selection import cross_val_score\n",
    "import pandas as pd \n",
    "import time\n",
    "# Import dataset:\n",
    "#input file\n",
    "constituency_name=\"DublinWest2002\"\n",
    "constituency=constituency_name+\"_merged\"\n",
    "url='../data/processed/'+constituency+'_dist.csv'\n",
    "\n",
    "# Assign column names to dataset:\n",
    "\n",
    "# Convert dataset to a pandas dataframe:\n",
    "dataset = pd.read_csv(url,  na_values=[\"Missing\"], header=[0]) "
   ]
  },
  {
   "cell_type": "code",
   "execution_count": 3,
   "metadata": {},
   "outputs": [
    {
     "data": {
      "text/plain": [
       "(11818, 10)"
      ]
     },
     "execution_count": 3,
     "metadata": {},
     "output_type": "execute_result"
    }
   ],
   "source": [
    "dataset.shape"
   ]
  },
  {
   "cell_type": "code",
   "execution_count": 4,
   "metadata": {},
   "outputs": [
    {
     "name": "stdout",
     "output_type": "stream",
     "text": [
      "Index(['Unnamed: 0', '1', '2', '3', '4', '5', '6', '7', '8', 'Seq'], dtype='object')\n"
     ]
    },
    {
     "data": {
      "text/html": [
       "<div>\n",
       "<style scoped>\n",
       "    .dataframe tbody tr th:only-of-type {\n",
       "        vertical-align: middle;\n",
       "    }\n",
       "\n",
       "    .dataframe tbody tr th {\n",
       "        vertical-align: top;\n",
       "    }\n",
       "\n",
       "    .dataframe thead th {\n",
       "        text-align: right;\n",
       "    }\n",
       "</style>\n",
       "<table border=\"1\" class=\"dataframe\">\n",
       "  <thead>\n",
       "    <tr style=\"text-align: right;\">\n",
       "      <th></th>\n",
       "      <th>Unnamed: 0</th>\n",
       "      <th>1</th>\n",
       "      <th>2</th>\n",
       "      <th>3</th>\n",
       "      <th>4</th>\n",
       "      <th>5</th>\n",
       "      <th>6</th>\n",
       "      <th>7</th>\n",
       "      <th>8</th>\n",
       "      <th>Seq</th>\n",
       "    </tr>\n",
       "  </thead>\n",
       "  <tbody>\n",
       "    <tr>\n",
       "      <th>0</th>\n",
       "      <td>0</td>\n",
       "      <td>3.605551</td>\n",
       "      <td>11.629703</td>\n",
       "      <td>6.020797</td>\n",
       "      <td>5.622277</td>\n",
       "      <td>7.138627</td>\n",
       "      <td>7.138627</td>\n",
       "      <td>1.615549</td>\n",
       "      <td>5.000000</td>\n",
       "      <td>1</td>\n",
       "    </tr>\n",
       "    <tr>\n",
       "      <th>1</th>\n",
       "      <td>1</td>\n",
       "      <td>1.615549</td>\n",
       "      <td>0.000000</td>\n",
       "      <td>1.004988</td>\n",
       "      <td>3.605551</td>\n",
       "      <td>1.581139</td>\n",
       "      <td>2.236068</td>\n",
       "      <td>4.609772</td>\n",
       "      <td>4.301163</td>\n",
       "      <td>1</td>\n",
       "    </tr>\n",
       "    <tr>\n",
       "      <th>2</th>\n",
       "      <td>2</td>\n",
       "      <td>0.000000</td>\n",
       "      <td>3.067572</td>\n",
       "      <td>6.184658</td>\n",
       "      <td>4.301163</td>\n",
       "      <td>0.000000</td>\n",
       "      <td>0.000000</td>\n",
       "      <td>0.000000</td>\n",
       "      <td>0.000000</td>\n",
       "      <td>1</td>\n",
       "    </tr>\n",
       "    <tr>\n",
       "      <th>3</th>\n",
       "      <td>3</td>\n",
       "      <td>3.605551</td>\n",
       "      <td>11.629703</td>\n",
       "      <td>10.689247</td>\n",
       "      <td>1.615549</td>\n",
       "      <td>7.071068</td>\n",
       "      <td>5.622277</td>\n",
       "      <td>3.465545</td>\n",
       "      <td>0.000000</td>\n",
       "      <td>1</td>\n",
       "    </tr>\n",
       "    <tr>\n",
       "      <th>4</th>\n",
       "      <td>4</td>\n",
       "      <td>11.629703</td>\n",
       "      <td>3.605551</td>\n",
       "      <td>4.301163</td>\n",
       "      <td>7.071068</td>\n",
       "      <td>2.236068</td>\n",
       "      <td>4.609772</td>\n",
       "      <td>7.138627</td>\n",
       "      <td>0.000000</td>\n",
       "      <td>1</td>\n",
       "    </tr>\n",
       "    <tr>\n",
       "      <th>...</th>\n",
       "      <td>...</td>\n",
       "      <td>...</td>\n",
       "      <td>...</td>\n",
       "      <td>...</td>\n",
       "      <td>...</td>\n",
       "      <td>...</td>\n",
       "      <td>...</td>\n",
       "      <td>...</td>\n",
       "      <td>...</td>\n",
       "      <td>...</td>\n",
       "    </tr>\n",
       "    <tr>\n",
       "      <th>11813</th>\n",
       "      <td>11813</td>\n",
       "      <td>4.301163</td>\n",
       "      <td>8.139410</td>\n",
       "      <td>7.138627</td>\n",
       "      <td>10.689247</td>\n",
       "      <td>12.298374</td>\n",
       "      <td>7.071068</td>\n",
       "      <td>5.622277</td>\n",
       "      <td>0.000000</td>\n",
       "      <td>0</td>\n",
       "    </tr>\n",
       "    <tr>\n",
       "      <th>11814</th>\n",
       "      <td>11814</td>\n",
       "      <td>4.301163</td>\n",
       "      <td>8.139410</td>\n",
       "      <td>8.732125</td>\n",
       "      <td>7.071068</td>\n",
       "      <td>5.622277</td>\n",
       "      <td>10.689247</td>\n",
       "      <td>10.689247</td>\n",
       "      <td>0.000000</td>\n",
       "      <td>0</td>\n",
       "    </tr>\n",
       "    <tr>\n",
       "      <th>11815</th>\n",
       "      <td>11815</td>\n",
       "      <td>4.301163</td>\n",
       "      <td>8.139410</td>\n",
       "      <td>8.732125</td>\n",
       "      <td>7.071068</td>\n",
       "      <td>5.622277</td>\n",
       "      <td>10.689247</td>\n",
       "      <td>10.689247</td>\n",
       "      <td>0.000000</td>\n",
       "      <td>0</td>\n",
       "    </tr>\n",
       "    <tr>\n",
       "      <th>11816</th>\n",
       "      <td>11816</td>\n",
       "      <td>4.301163</td>\n",
       "      <td>8.139410</td>\n",
       "      <td>8.732125</td>\n",
       "      <td>12.298374</td>\n",
       "      <td>10.689247</td>\n",
       "      <td>5.622277</td>\n",
       "      <td>5.622277</td>\n",
       "      <td>0.000000</td>\n",
       "      <td>0</td>\n",
       "    </tr>\n",
       "    <tr>\n",
       "      <th>11817</th>\n",
       "      <td>11817</td>\n",
       "      <td>4.301163</td>\n",
       "      <td>8.139410</td>\n",
       "      <td>8.732125</td>\n",
       "      <td>12.298374</td>\n",
       "      <td>10.689247</td>\n",
       "      <td>5.622277</td>\n",
       "      <td>5.622277</td>\n",
       "      <td>0.000000</td>\n",
       "      <td>0</td>\n",
       "    </tr>\n",
       "  </tbody>\n",
       "</table>\n",
       "<p>11818 rows × 10 columns</p>\n",
       "</div>"
      ],
      "text/plain": [
       "       Unnamed: 0          1          2          3          4          5  \\\n",
       "0               0   3.605551  11.629703   6.020797   5.622277   7.138627   \n",
       "1               1   1.615549   0.000000   1.004988   3.605551   1.581139   \n",
       "2               2   0.000000   3.067572   6.184658   4.301163   0.000000   \n",
       "3               3   3.605551  11.629703  10.689247   1.615549   7.071068   \n",
       "4               4  11.629703   3.605551   4.301163   7.071068   2.236068   \n",
       "...           ...        ...        ...        ...        ...        ...   \n",
       "11813       11813   4.301163   8.139410   7.138627  10.689247  12.298374   \n",
       "11814       11814   4.301163   8.139410   8.732125   7.071068   5.622277   \n",
       "11815       11815   4.301163   8.139410   8.732125   7.071068   5.622277   \n",
       "11816       11816   4.301163   8.139410   8.732125  12.298374  10.689247   \n",
       "11817       11817   4.301163   8.139410   8.732125  12.298374  10.689247   \n",
       "\n",
       "               6          7         8  Seq  \n",
       "0       7.138627   1.615549  5.000000    1  \n",
       "1       2.236068   4.609772  4.301163    1  \n",
       "2       0.000000   0.000000  0.000000    1  \n",
       "3       5.622277   3.465545  0.000000    1  \n",
       "4       4.609772   7.138627  0.000000    1  \n",
       "...          ...        ...       ...  ...  \n",
       "11813   7.071068   5.622277  0.000000    0  \n",
       "11814  10.689247  10.689247  0.000000    0  \n",
       "11815  10.689247  10.689247  0.000000    0  \n",
       "11816   5.622277   5.622277  0.000000    0  \n",
       "11817   5.622277   5.622277  0.000000    0  \n",
       "\n",
       "[11818 rows x 10 columns]"
      ]
     },
     "metadata": {},
     "output_type": "display_data"
    }
   ],
   "source": [
    "print(dataset.columns)\n",
    "display(dataset)"
   ]
  },
  {
   "cell_type": "code",
   "execution_count": 5,
   "metadata": {},
   "outputs": [],
   "source": [
    "# Use head() function to return the first 5 rows: \n",
    "dataset.head() \n",
    "# Assign values to the X and y variables:\n",
    "X = dataset.iloc[:, :-1].values\n",
    "y = dataset.iloc[:, 9].values "
   ]
  },
  {
   "cell_type": "code",
   "execution_count": 6,
   "metadata": {},
   "outputs": [
    {
     "name": "stdout",
     "output_type": "stream",
     "text": [
      "[1 1 1 ... 0 0 0]\n"
     ]
    }
   ],
   "source": [
    "print(y)"
   ]
  },
  {
   "cell_type": "code",
   "execution_count": 7,
   "metadata": {},
   "outputs": [],
   "source": [
    "# Split dataset into random train and test subsets:\n",
    "X_train, X_test, y_train, y_test = train_test_split(X, y, test_size=0.20) \n",
    "\n",
    "#from sklearn.preprocessing import StandardScaler\n",
    "sc = StandardScaler()\n",
    "X_train = sc.fit_transform(X_train)\n",
    "X_test = sc.transform(X_test)\n"
   ]
  },
  {
   "cell_type": "code",
   "execution_count": 8,
   "metadata": {},
   "outputs": [
    {
     "name": "stdout",
     "output_type": "stream",
     "text": [
      "trainingtime elapsed 10.812997817993164 milli seconds\n"
     ]
    }
   ],
   "source": [
    "from sklearn.naive_bayes import GaussianNB\n",
    "classifier = GaussianNB()\n",
    "\n",
    "start = time.time()\n",
    "classifier.fit(X_train, y_train)\n",
    "\n",
    "end = time.time()\n",
    "\n",
    "training_time = format((end-start)*1000)\n",
    "print(\"trainingtime elapsed {} milli seconds\".format((end-start)*1000))"
   ]
  },
  {
   "cell_type": "code",
   "execution_count": 9,
   "metadata": {},
   "outputs": [
    {
     "name": "stdout",
     "output_type": "stream",
     "text": [
      "testing time elapsed 2.130270004272461 milli seconds\n"
     ]
    }
   ],
   "source": [
    "\n",
    "start = time.time()\n",
    "y_pred  =  classifier.predict(X_test)\n",
    "\n",
    "end = time.time()\n",
    "\n",
    "test_time = format((end-start)*1000)\n",
    "print(\"testing time elapsed {} milli seconds\".format((end-start)*1000))\n",
    "#y_pred"
   ]
  },
  {
   "cell_type": "code",
   "execution_count": 10,
   "metadata": {},
   "outputs": [
    {
     "name": "stdout",
     "output_type": "stream",
     "text": [
      "[1 1 1 ... 1 1 1]\n"
     ]
    }
   ],
   "source": [
    "print(y_pred)"
   ]
  },
  {
   "cell_type": "code",
   "execution_count": 11,
   "metadata": {},
   "outputs": [],
   "source": [
    "from sklearn.metrics import accuracy_score\n",
    "cm = confusion_matrix(y_test, y_pred)\n",
    "ac = accuracy_score(y_test,y_pred)"
   ]
  },
  {
   "cell_type": "code",
   "execution_count": 12,
   "metadata": {},
   "outputs": [
    {
     "name": "stdout",
     "output_type": "stream",
     "text": [
      "0.9860406091370558\n",
      "[[ 306    0]\n",
      " [  33 2025]]\n"
     ]
    }
   ],
   "source": [
    "print(ac)\n",
    "print(cm)"
   ]
  },
  {
   "cell_type": "code",
   "execution_count": 13,
   "metadata": {},
   "outputs": [
    {
     "name": "stdout",
     "output_type": "stream",
     "text": [
      "[[ 306    0]\n",
      " [  33 2025]]\n",
      "              precision    recall  f1-score   support\n",
      "\n",
      "           0       0.90      1.00      0.95       306\n",
      "           1       1.00      0.98      0.99      2058\n",
      "\n",
      "    accuracy                           0.99      2364\n",
      "   macro avg       0.95      0.99      0.97      2364\n",
      "weighted avg       0.99      0.99      0.99      2364\n",
      "\n"
     ]
    }
   ],
   "source": [
    "# Print results: \n",
    "print(confusion_matrix(y_test, y_pred))\n",
    "print(classification_report(y_test, y_pred)) "
   ]
  },
  {
   "cell_type": "code",
   "execution_count": 14,
   "metadata": {},
   "outputs": [
    {
     "name": "stdout",
     "output_type": "stream",
     "text": [
      "[[ 306    0]\n",
      " [  33 2025]]\n"
     ]
    },
    {
     "data": {
      "image/png": "[encoded data removed]",
      "text/plain": [
       "<Figure size 576x360 with 2 Axes>"
      ]
     },
     "metadata": {
      "needs_background": "light"
     },
     "output_type": "display_data"
    }
   ],
   "source": [
    "import numpy as np\n",
    "import matplotlib.pyplot as plt\n",
    "import seaborn as sns\n",
    "# Confusion Matrix\n",
    "conf_matrix = confusion_matrix(y_test, y_pred)\n",
    "print(conf_matrix) #display confusion matrix\n",
    "y_true = [\"good\", \"bad\"]\n",
    "#y_pred = [\"good\", \"bad\"]\n",
    "df_cm = pd.DataFrame(conf_matrix, columns=np.unique(y_true), index = np.unique(y_true))\n",
    "df_cm.index.name = 'Actual'\n",
    "df_cm.columns.name = 'Predicted'\n",
    "df_cm.dtypes\n",
    "plt.figure(figsize = (8,5))\n",
    "plt.title('Confusion Matrix' + \" Naive Bayes Classifer - \" + constituency_name)\n",
    "sns.set(font_scale=1.4)#for label size\n",
    "sns.heatmap(df_cm, cmap=\"Blues\", annot=True,annot_kws={\"size\": 16})# font size\n",
    "plt.show()"
   ]
  },
  {
   "cell_type": "code",
   "execution_count": 15,
   "metadata": {},
   "outputs": [
    {
     "name": "stdout",
     "output_type": "stream",
     "text": [
      "Accuracy : 0.9860\n",
      "Classification Error Rate : 0.0140\n",
      "Precision : 1.0000\n",
      "Sensitivity/Recall :0.9840\n",
      "Specificity : 1.0000\n",
      "False Positive Rate : 0.0000\n",
      "False Negative Rate : 0.0160\n",
      "F1-Measure : 0.9919\n",
      "cross val score: : 0.9829\n",
      "Training Time : 10.8130\n",
      "Testing Time : 2.1303\n"
     ]
    }
   ],
   "source": [
    "#[row, column]\n",
    "TP = conf_matrix[1, 1]\n",
    "TN = conf_matrix[0, 0]\n",
    "FP = conf_matrix[0, 1]\n",
    "FN = conf_matrix[1, 0]\n",
    "\n",
    "# Classification Accuracy\n",
    "# use float to perform true division, not integer division\n",
    "accuracy = ((TP + TN) / float(TP + TN + FP + FN))\n",
    "#accuracy = accuracy_score(Y_test, y_pred_class)\n",
    "print(\"Accuracy : %.4f\" %accuracy)\n",
    "\n",
    "# Classification Error/Misclassification Rate = 1 - accuracy\n",
    "classification_error = (FP + FN) / float(TP + TN + FP + FN)\n",
    "print(\"Classification Error Rate : %.4f\" %(classification_error))\n",
    "\n",
    "# Precision\n",
    "precision = TP / float(TP + FP)\n",
    "print(\"Precision : %.4f\" %(precision))\n",
    "#print(\"Precision : %.4f\" %(precision_score(Y_test, y_pred)))\n",
    "\n",
    "# Sensitivity or Recall or True Positive Rate\n",
    "sensitivity = TP / float(FN + TP)\n",
    "print(\"Sensitivity/Recall :%.4f\" %(sensitivity))\n",
    "#print(\"Sensitivity/Recall : %.4f\" %(recall_score(Y_test, y_pred)))\n",
    "\n",
    "# Specificity oe true negative rate\n",
    "specificity = TN / (TN + FP)\n",
    "print(\"Specificity : %.4f\" %(specificity))\n",
    "\n",
    "# False Positive Rate (1 - specificity))\n",
    "false_positive_rate = FP / float(TN + FP)\n",
    "print(\"False Positive Rate : %.4f\" %(false_positive_rate))\n",
    "\n",
    "# False Negative Rate\n",
    "false_negative_rate = FN / float(TP + FN)\n",
    "print(\"False Negative Rate : %.4f\" %(false_negative_rate))\n",
    "\n",
    "# F1 Measure (F1 Score) = 2 * ((precision * sensitivity)/(precision + sensitivity))\n",
    "F1_measure = 2* ((precision * sensitivity)/(precision + sensitivity))\n",
    "print(\"F1-Measure : %.4f\" %(F1_measure))\n",
    "\n",
    "# Cross Validation is used to check the model is not overfitting\n",
    "c_v_score = cross_val_score(classifier,X_train,y_train,cv = 10).mean()\n",
    "print(\"cross val score: : %.4f\" %(c_v_score))\n",
    "\n",
    "# Training time\n",
    "print(\"Training Time : %.4f\" % float(training_time))\n",
    "\n",
    "# Test time\n",
    "print(\"Testing Time : %.4f\" %float(test_time))"
   ]
  },
  {
   "cell_type": "code",
   "execution_count": null,
   "metadata": {},
   "outputs": [],
   "source": []
  }
 ],
 "metadata": {
  "kernelspec": {
   "display_name": "Python 3",
   "language": "python",
   "name": "python3"
  },
  "language_info": {
   "codemirror_mode": {
    "name": "ipython",
    "version": 3
   },
   "file_extension": ".py",
   "mimetype": "text/x-python",
   "name": "python",
   "nbconvert_exporter": "python",
   "pygments_lexer": "ipython3",
   "version": "3.8.5"
  }
 },
 "nbformat": 4,
 "nbformat_minor": 4
}
