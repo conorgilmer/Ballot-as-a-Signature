{
 "cells": [
  {
   "cell_type": "code",
   "execution_count": 1,
   "metadata": {},
   "outputs": [],
   "source": [
    "import math\n",
    "def check_user_input(input):\n",
    "    try:\n",
    "        # Convert it into integer\n",
    "        val = int(input)\n",
    "        print(\"Input is an integer number. Number = \", val)\n",
    "    except ValueError:\n",
    "        print(\"No.. input is not a number. It's a string\")\n"
   ]
  },
  {
   "cell_type": "code",
   "execution_count": 2,
   "metadata": {},
   "outputs": [
    {
     "name": "stdout",
     "output_type": "stream",
     "text": [
      "Enter the number of candidates(n) > 7\n",
      "Input is an integer number. Number =  7\n",
      "Enter the number of preferences cast (r) > 4\n",
      "Input is an integer number. Number =  4\n",
      "7\n",
      "4\n",
      "840\n"
     ]
    }
   ],
   "source": [
    "# input values for n and r and calculate nPr    \n",
    "N = input(\"Enter the number of candidates(n) > \")\n",
    "check_user_input(N)\n",
    "n= int(N)\n",
    "R= input(\"Enter the number of preferences cast (r) > \")\n",
    "check_user_input(R)\n",
    "r=int(R)\n",
    "if r <= n:\n",
    "    print(n)\n",
    "    print(r)\n",
    "    perms = int((math.factorial(n)/(math.factorial(n-r))))\n",
    "    print(perms)\n",
    "else:\n",
    "    print(\"r is bigger than n\")"
   ]
  },
  {
   "cell_type": "code",
   "execution_count": 6,
   "metadata": {},
   "outputs": [
    {
     "name": "stdout",
     "output_type": "stream",
     "text": [
      "Enter the number of candidates(n) > 6\n",
      "Input is an integer number. Number =  6\n",
      "Print all Permutations for 6 candidates\n",
      "1 /t 6\n",
      "2 /t 30\n",
      "3 /t 120\n",
      "4 /t 360\n",
      "5 /t 720\n",
      "6 /t 720\n"
     ]
    }
   ],
   "source": [
    "# input values for n and r and calculate nPr    \n",
    "N = input(\"Enter the number of candidates(n) > \")\n",
    "check_user_input(N)\n",
    "n= int(N)\n",
    "#Print all Permutations for n candidates\n",
    "print(\"Print all Permutations for \"+ str(n) + \" candidates\")\n",
    "for r in range(1,n+1):\n",
    "    perms = int((math.factorial(n)/(math.factorial(n-r))))\n",
    "    print(f\"{r} \\n {perms}\")"
   ]
  },
  {
   "cell_type": "code",
   "execution_count": null,
   "metadata": {},
   "outputs": [],
   "source": []
  }
 ],
 "metadata": {
  "kernelspec": {
   "display_name": "Python 3",
   "language": "python",
   "name": "python3"
  },
  "language_info": {
   "codemirror_mode": {
    "name": "ipython",
    "version": 3
   },
   "file_extension": ".py",
   "mimetype": "text/x-python",
   "name": "python",
   "nbconvert_exporter": "python",
   "pygments_lexer": "ipython3",
   "version": "3.8.5"
  }
 },
 "nbformat": 4,
 "nbformat_minor": 4
}
