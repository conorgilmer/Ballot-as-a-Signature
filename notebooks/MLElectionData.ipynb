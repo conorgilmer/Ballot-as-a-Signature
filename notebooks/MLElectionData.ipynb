{
 "cells": [
  {
   "cell_type": "markdown",
   "metadata": {},
   "source": [
    "# Machine Learning Analysis and Classification of STV Data"
   ]
  },
  {
   "cell_type": "code",
   "execution_count": 2,
   "metadata": {},
   "outputs": [],
   "source": [
    "#import python libraries\n",
    "import pandas as pd\n",
    "import numpy as np\n",
    "import matplotlib.pyplot as plt\n",
    "import seaborn as sns\n",
    "import scipy as scp\n",
    "\n",
    "## for machine learning\n",
    "from sklearn import model_selection, preprocessing, feature_selection, ensemble, linear_model, metrics, decomposition\n",
    "#import libraries\n",
    "import matplotlib.image as mpimg\n",
    "import time\n",
    "#!pip install plotly\n",
    "import plotly.offline as py \n",
    "import plotly.graph_objs as go\n",
    "import plotly.express as px\n",
    "from collections import Counter  \n",
    "from subprocess import call\n",
    "from IPython.display import Image\n",
    "\n",
    "############################################################################################\n",
    "from sklearn.ensemble import RandomForestClassifier\n",
    "from sklearn.model_selection import train_test_split, RandomizedSearchCV\n",
    "from sklearn.preprocessing import StandardScaler\n",
    "from sklearn.metrics import confusion_matrix, roc_curve, roc_auc_score, auc, accuracy_score, recall_score, precision_score, classification_report\n",
    "from sklearn.model_selection import train_test_split\n",
    "from sklearn.model_selection import cross_val_score\n",
    "from sklearn.model_selection import StratifiedKFold\n",
    "from sklearn.linear_model import LogisticRegression\n",
    "from sklearn.tree import DecisionTreeClassifier\n",
    "from sklearn.neighbors import KNeighborsClassifier\n",
    "from sklearn.discriminant_analysis import LinearDiscriminantAnalysis\n",
    "from sklearn.naive_bayes import GaussianNB\n",
    "from sklearn.svm import SVC\n",
    "from sklearn.model_selection import GridSearchCV\n",
    "from sklearn.model_selection import cross_val_predict\n",
    "from sklearn.feature_selection import SelectKBest\n",
    "from sklearn.feature_selection import f_classif\n",
    "\n",
    "\n",
    "\n",
    "#set mathplot to inline (for jupyter)\n",
    "%matplotlib inline "
   ]
  },
  {
   "cell_type": "markdown",
   "metadata": {},
   "source": [
    "## Read in Data"
   ]
  },
  {
   "cell_type": "code",
   "execution_count": 3,
   "metadata": {},
   "outputs": [],
   "source": [
    "#read vote data from csv\n",
    "#input file\n",
    "constituency=\"DublinWest2002_merged\"\n",
    "#constituency ='Meath2002_merged.csv'\n",
    "#constituency ='DublinNorth2002_merged.csv'\n",
    "#constituency ='DublinWest2002_merged.csv'\n",
    "#in_csv='../data/processed/'+constituency+'.csv'\n",
    "in_csv='https://raw.githubusercontent.com/conorgilmer/Ballot-as-a-signature/master/data/processed/'+constituency+'.csv'\n",
    "\n",
    "#read in data (setting 1st row as header)\n",
    "df = pd.read_csv(in_csv,  header=[0])\n",
    "\n",
    "#set column names as first line\n",
    "#drop the numbers column (#df=df.drop(['No.'], 1))\n",
    "df = df.drop(df.columns[[0]], axis=1)  # df.columns is zero-based pd.Index\n",
    "#reset index to start a 1 and not 0\n",
    "df.index = df.index + 1"
   ]
  },
  {
   "cell_type": "code",
   "execution_count": 3,
   "metadata": {},
   "outputs": [
    {
     "name": "stdout",
     "output_type": "stream",
     "text": [
      "Print Data Frame (df)\n",
      "    GP   LB   FF   SP  FF.1   SF   PD   NP   FG  maxValues  Euclid Dist  \\\n",
      "1  4.0  1.0  7.0  3.0   5.0  6.0  8.0  9.0  2.0        9.0    47.771133   \n",
      "2  7.0  5.0  3.0  9.0   2.0  8.0  1.0  6.0  4.0        9.0    18.954230   \n",
      "3  NaN  3.0  1.0  5.0   2.0  4.0  NaN  NaN  NaN        5.0    13.553393   \n",
      "4  6.0  1.0  7.0  3.0   4.0  NaN  5.0  8.0  2.0        8.0    43.698941   \n",
      "5  5.0  3.0  8.0  1.0   9.0  7.0  4.0  6.0  2.0        9.0    40.591953   \n",
      "\n",
      "   Avg. Euc. Dist  Seq  \n",
      "1        5.971392    1  \n",
      "2        2.369279    1  \n",
      "3        3.388348    1  \n",
      "4        6.242706    1  \n",
      "5        5.073994    1  \n",
      "Print Column names\n",
      "Index(['GP', 'LB', 'FF', 'SP', 'FF.1', 'SF', 'PD', 'NP', 'FG', 'maxValues',\n",
      "       'Euclid Dist', 'Avg. Euc. Dist', 'Seq'],\n",
      "      dtype='object')\n"
     ]
    }
   ],
   "source": [
    "#print input data frame details\n",
    "print(\"Print Data Frame (df)\")\n",
    "print(df.head())\n",
    "print(\"Print Column names\")\n",
    "print(df.columns)"
   ]
  },
  {
   "cell_type": "markdown",
   "metadata": {},
   "source": [
    "## Data Analysis"
   ]
  },
  {
   "cell_type": "code",
   "execution_count": 4,
   "metadata": {},
   "outputs": [
    {
     "name": "stdout",
     "output_type": "stream",
     "text": [
      "<class 'pandas.core.frame.DataFrame'>\n",
      "RangeIndex: 11818 entries, 1 to 11818\n",
      "Data columns (total 13 columns):\n",
      " #   Column          Non-Null Count  Dtype  \n",
      "---  ------          --------------  -----  \n",
      " 0   GP              9102 non-null   float64\n",
      " 1   LB              9473 non-null   float64\n",
      " 2   FF              8835 non-null   float64\n",
      " 3   SP              9925 non-null   float64\n",
      " 4   FF.1            9467 non-null   float64\n",
      " 5   SF              8223 non-null   float64\n",
      " 6   PD              9695 non-null   float64\n",
      " 7   NP              5924 non-null   float64\n",
      " 8   FG              9673 non-null   float64\n",
      " 9   maxValues       11818 non-null  float64\n",
      " 10  Euclid Dist     11818 non-null  float64\n",
      " 11  Avg. Euc. Dist  11818 non-null  float64\n",
      " 12  Seq             11818 non-null  int64  \n",
      "dtypes: float64(12), int64(1)\n",
      "memory usage: 1.2 MB\n"
     ]
    }
   ],
   "source": [
    "#data preprocessing\n",
    "df.info()\n",
    "\n",
    "#backup dataset\n",
    "dataset_clean=df.copy()"
   ]
  },
  {
   "cell_type": "code",
   "execution_count": 5,
   "metadata": {},
   "outputs": [
    {
     "data": {
      "image/png": "[encoded data removed]",
      "text/plain": [
       "<Figure size 432x288 with 1 Axes>"
      ]
     },
     "metadata": {
      "needs_background": "light"
     },
     "output_type": "display_data"
    }
   ],
   "source": [
    "# how balanced is the dataset?\n",
    "sns.countplot(x='Seq', data = df)\n",
    "plt.title('Balance of Dataset')\n",
    "plt.ylabel('Number of Votes.')\n",
    "plt.xlabel('Sequence 1=Regular, 0= Irregular.')\n",
    "\n",
    "# Save the histogram\n",
    "plt.savefig('../images/'+constituency+'_dataset_balance_hist.png')\n",
    "plt.show()"
   ]
  },
  {
   "cell_type": "code",
   "execution_count": 6,
   "metadata": {},
   "outputs": [],
   "source": [
    "#rebalance dataset\n",
    "#print(df.head)\n",
    "df=df.drop(df.query('Seq == 1').sample(frac=.71).index)"
   ]
  },
  {
   "cell_type": "code",
   "execution_count": 7,
   "metadata": {},
   "outputs": [
    {
     "data": {
      "image/png": "[encoded data removed]",
      "text/plain": [
       "<Figure size 432x288 with 1 Axes>"
      ]
     },
     "metadata": {
      "needs_background": "light"
     },
     "output_type": "display_data"
    }
   ],
   "source": [
    "# how balanced is the dataset?\n",
    "sns.countplot(x='Seq', data = df)\n",
    "plt.title('Balance of Dataset')\n",
    "plt.ylabel('Number of Votes.')\n",
    "plt.xlabel('Sequence 1=Regular, 0= Irregular.')\n",
    "\n",
    "# Save the histogram\n",
    "plt.savefig('../images/'+constituency+'_dataset_balanced_hist.png')\n",
    "plt.show()"
   ]
  },
  {
   "cell_type": "markdown",
   "metadata": {},
   "source": [
    "### Missing Values"
   ]
  },
  {
   "cell_type": "code",
   "execution_count": 8,
   "metadata": {},
   "outputs": [],
   "source": [
    "# Replace the '?'s with NaN (read.csv includes conversion of ? to NaN)\n",
    "#df = df.replace('?', np.NaN)\n",
    "df = df.replace(np.NaN, 0)\n",
    "# Drop rows (if you want to delete all rows containing Missing Values)\n",
    "#datasetq=dataset.dropna()\n",
    "\n",
    "# Imputation Numbers\n",
    "# Impute the missing values with mean imputation\n",
    "#df.fillna(df.mean(), inplace=True)\n",
    "\n",
    "# Imputation Categorical Data\n",
    "# Iterate over each column of cc_apps\n",
    "#for col in df.columns:\n",
    "    # Check if the column is of object type\n",
    " #   if df[col].dtype == 'object':\n",
    "        # Impute with the most frequent value\n",
    "  #      df = df.fillna(dataset[col].value_counts().index[0])\n",
    "#df.iloc[265:290,:]\n",
    "\n",
    "#backup dataset\n",
    "dataset_clean=df.copy()"
   ]
  },
  {
   "cell_type": "code",
   "execution_count": 9,
   "metadata": {},
   "outputs": [
    {
     "data": {
      "text/html": [
       "<div>\n",
       "<style scoped>\n",
       "    .dataframe tbody tr th:only-of-type {\n",
       "        vertical-align: middle;\n",
       "    }\n",
       "\n",
       "    .dataframe tbody tr th {\n",
       "        vertical-align: top;\n",
       "    }\n",
       "\n",
       "    .dataframe thead th {\n",
       "        text-align: right;\n",
       "    }\n",
       "</style>\n",
       "<table border=\"1\" class=\"dataframe\">\n",
       "  <thead>\n",
       "    <tr style=\"text-align: right;\">\n",
       "      <th></th>\n",
       "      <th>GP</th>\n",
       "      <th>LB</th>\n",
       "      <th>FF</th>\n",
       "      <th>SP</th>\n",
       "      <th>FF.1</th>\n",
       "      <th>SF</th>\n",
       "      <th>PD</th>\n",
       "      <th>NP</th>\n",
       "      <th>FG</th>\n",
       "      <th>maxValues</th>\n",
       "      <th>Euclid Dist</th>\n",
       "      <th>Avg. Euc. Dist</th>\n",
       "      <th>Seq</th>\n",
       "    </tr>\n",
       "  </thead>\n",
       "  <tbody>\n",
       "    <tr>\n",
       "      <th>1</th>\n",
       "      <td>4.0</td>\n",
       "      <td>1.0</td>\n",
       "      <td>7.0</td>\n",
       "      <td>3.0</td>\n",
       "      <td>5.0</td>\n",
       "      <td>6.0</td>\n",
       "      <td>8.0</td>\n",
       "      <td>9.0</td>\n",
       "      <td>2.0</td>\n",
       "      <td>9.0</td>\n",
       "      <td>47.771133</td>\n",
       "      <td>5.971392</td>\n",
       "      <td>1</td>\n",
       "    </tr>\n",
       "    <tr>\n",
       "      <th>2</th>\n",
       "      <td>7.0</td>\n",
       "      <td>5.0</td>\n",
       "      <td>3.0</td>\n",
       "      <td>9.0</td>\n",
       "      <td>2.0</td>\n",
       "      <td>8.0</td>\n",
       "      <td>1.0</td>\n",
       "      <td>6.0</td>\n",
       "      <td>4.0</td>\n",
       "      <td>9.0</td>\n",
       "      <td>18.954230</td>\n",
       "      <td>2.369279</td>\n",
       "      <td>1</td>\n",
       "    </tr>\n",
       "    <tr>\n",
       "      <th>3</th>\n",
       "      <td>0.0</td>\n",
       "      <td>3.0</td>\n",
       "      <td>1.0</td>\n",
       "      <td>5.0</td>\n",
       "      <td>2.0</td>\n",
       "      <td>4.0</td>\n",
       "      <td>0.0</td>\n",
       "      <td>0.0</td>\n",
       "      <td>0.0</td>\n",
       "      <td>5.0</td>\n",
       "      <td>13.553393</td>\n",
       "      <td>3.388348</td>\n",
       "      <td>1</td>\n",
       "    </tr>\n",
       "    <tr>\n",
       "      <th>9</th>\n",
       "      <td>5.0</td>\n",
       "      <td>4.0</td>\n",
       "      <td>3.0</td>\n",
       "      <td>0.0</td>\n",
       "      <td>2.0</td>\n",
       "      <td>1.0</td>\n",
       "      <td>0.0</td>\n",
       "      <td>0.0</td>\n",
       "      <td>6.0</td>\n",
       "      <td>6.0</td>\n",
       "      <td>19.485637</td>\n",
       "      <td>3.897127</td>\n",
       "      <td>1</td>\n",
       "    </tr>\n",
       "    <tr>\n",
       "      <th>15</th>\n",
       "      <td>6.0</td>\n",
       "      <td>1.0</td>\n",
       "      <td>3.0</td>\n",
       "      <td>7.0</td>\n",
       "      <td>2.0</td>\n",
       "      <td>0.0</td>\n",
       "      <td>4.0</td>\n",
       "      <td>0.0</td>\n",
       "      <td>5.0</td>\n",
       "      <td>7.0</td>\n",
       "      <td>17.774987</td>\n",
       "      <td>2.962498</td>\n",
       "      <td>1</td>\n",
       "    </tr>\n",
       "  </tbody>\n",
       "</table>\n",
       "</div>"
      ],
      "text/plain": [
       "     GP   LB   FF   SP  FF.1   SF   PD   NP   FG  maxValues  Euclid Dist  \\\n",
       "1   4.0  1.0  7.0  3.0   5.0  6.0  8.0  9.0  2.0        9.0    47.771133   \n",
       "2   7.0  5.0  3.0  9.0   2.0  8.0  1.0  6.0  4.0        9.0    18.954230   \n",
       "3   0.0  3.0  1.0  5.0   2.0  4.0  0.0  0.0  0.0        5.0    13.553393   \n",
       "9   5.0  4.0  3.0  0.0   2.0  1.0  0.0  0.0  6.0        6.0    19.485637   \n",
       "15  6.0  1.0  3.0  7.0   2.0  0.0  4.0  0.0  5.0        7.0    17.774987   \n",
       "\n",
       "    Avg. Euc. Dist  Seq  \n",
       "1         5.971392    1  \n",
       "2         2.369279    1  \n",
       "3         3.388348    1  \n",
       "9         3.897127    1  \n",
       "15        2.962498    1  "
      ]
     },
     "execution_count": 9,
     "metadata": {},
     "output_type": "execute_result"
    }
   ],
   "source": [
    "dataset_clean.head()"
   ]
  },
  {
   "cell_type": "markdown",
   "metadata": {},
   "source": [
    "## Feature Engineering"
   ]
  },
  {
   "cell_type": "code",
   "execution_count": 10,
   "metadata": {},
   "outputs": [
    {
     "name": "stdout",
     "output_type": "stream",
     "text": [
      "['GP', 'LB', 'FF', 'SP', 'FF.1', 'SF', 'PD', 'NP', 'FG']\n",
      "['maxValues', 'Euclid Dist', 'Avg. Euc. Dist', 'Seq']\n"
     ]
    }
   ],
   "source": [
    "#Feature Engineering\n",
    "cols = list(df.columns)\n",
    "#cols.pop()\n",
    "cat_f = cols[:-4]\n",
    "\n",
    "cat_features = cat_f\n",
    "num_features = ['maxValues', 'Euclid Dist', 'Avg. Euc. Dist', 'Seq']\n",
    "print(cat_features)\n",
    "print(num_features)\n",
    "#convert categorical data into \"dummy\" indicator variables\n",
    "for variable in cat_features:\n",
    "    dummies = pd.get_dummies(dataset_clean[cat_features])\n",
    "    df1= pd.concat([dataset_clean[num_features], dummies],axis=1)"
   ]
  },
  {
   "cell_type": "code",
   "execution_count": 11,
   "metadata": {},
   "outputs": [
    {
     "name": "stderr",
     "output_type": "stream",
     "text": [
      "/anaconda38/anaconda3/lib/python3.8/site-packages/seaborn/distributions.py:2551: FutureWarning:\n",
      "\n",
      "`distplot` is a deprecated function and will be removed in a future version. Please adapt your code to use either `displot` (a figure-level function with similar flexibility) or `histplot` (an axes-level function for histograms).\n",
      "\n"
     ]
    },
    {
     "data": {
      "image/png": "[encoded data removed]",
      "text/plain": [
       "<Figure size 576x360 with 1 Axes>"
      ]
     },
     "metadata": {},
     "output_type": "display_data"
    }
   ],
   "source": [
    "import seaborn as sns\n",
    "\n",
    "sns.set(style='whitegrid', palette=\"deep\", font_scale=1.1, rc={\"figure.figsize\": [8, 5]})\n",
    "sns.distplot(\n",
    "    df1['Avg. Euc. Dist'], norm_hist=False, kde=False, bins=20, hist_kws={\"alpha\": 1}\n",
    ").set(xlabel='Avg Euclid Distance', ylabel='Votes');"
   ]
  },
  {
   "cell_type": "code",
   "execution_count": 12,
   "metadata": {},
   "outputs": [
    {
     "data": {
      "image/png": "[encoded data removed]",
      "text/plain": [
       "<Figure size 576x360 with 1 Axes>"
      ]
     },
     "metadata": {},
     "output_type": "display_data"
    }
   ],
   "source": [
    "import seaborn as sns\n",
    "\n",
    "sns.set(style='whitegrid', palette=\"deep\", font_scale=1.1, rc={\"figure.figsize\": [8, 5]})\n",
    "sns.distplot(\n",
    "    df1['Euclid Dist'], norm_hist=False, kde=False, bins=20, hist_kws={\"alpha\": 1}\n",
    ").set(xlabel='Euclid Distance', ylabel='Votes');"
   ]
  },
  {
   "cell_type": "markdown",
   "metadata": {},
   "source": [
    "## Feature Extraction"
   ]
  },
  {
   "cell_type": "markdown",
   "metadata": {},
   "source": [
    "### Split Data Set into Test and Train"
   ]
  },
  {
   "cell_type": "code",
   "execution_count": 13,
   "metadata": {},
   "outputs": [],
   "source": [
    "#Split Data Set into Test and Train\n",
    "features = list(df1)\n",
    "features.pop(6)\n",
    "x = df1.loc[:,features].values\n",
    "y = df1.loc[:,['Seq']].values #target var"
   ]
  },
  {
   "cell_type": "code",
   "execution_count": 14,
   "metadata": {},
   "outputs": [],
   "source": [
    "X = StandardScaler().fit_transform(x) "
   ]
  },
  {
   "cell_type": "code",
   "execution_count": 15,
   "metadata": {},
   "outputs": [
    {
     "data": {
      "text/html": [
       "<div>\n",
       "<style scoped>\n",
       "    .dataframe tbody tr th:only-of-type {\n",
       "        vertical-align: middle;\n",
       "    }\n",
       "\n",
       "    .dataframe tbody tr th {\n",
       "        vertical-align: top;\n",
       "    }\n",
       "\n",
       "    .dataframe thead th {\n",
       "        text-align: right;\n",
       "    }\n",
       "</style>\n",
       "<table border=\"1\" class=\"dataframe\">\n",
       "  <thead>\n",
       "    <tr style=\"text-align: right;\">\n",
       "      <th></th>\n",
       "      <th>maxValues</th>\n",
       "      <th>Euclid Dist</th>\n",
       "      <th>Avg. Euc. Dist</th>\n",
       "      <th>Seq</th>\n",
       "      <th>GP</th>\n",
       "      <th>LB</th>\n",
       "      <th>SP</th>\n",
       "      <th>FF.1</th>\n",
       "      <th>SF</th>\n",
       "      <th>PD</th>\n",
       "      <th>NP</th>\n",
       "      <th>FG</th>\n",
       "    </tr>\n",
       "  </thead>\n",
       "  <tbody>\n",
       "    <tr>\n",
       "      <th>0</th>\n",
       "      <td>1.294120</td>\n",
       "      <td>0.939807</td>\n",
       "      <td>-0.000517</td>\n",
       "      <td>0.70344</td>\n",
       "      <td>0.134219</td>\n",
       "      <td>-0.654874</td>\n",
       "      <td>-0.080765</td>\n",
       "      <td>0.893414</td>\n",
       "      <td>0.939018</td>\n",
       "      <td>1.960844</td>\n",
       "      <td>1.748294</td>\n",
       "      <td>-0.548060</td>\n",
       "    </tr>\n",
       "    <tr>\n",
       "      <th>1</th>\n",
       "      <td>1.294120</td>\n",
       "      <td>-1.187376</td>\n",
       "      <td>-1.895442</td>\n",
       "      <td>0.70344</td>\n",
       "      <td>1.281007</td>\n",
       "      <td>1.038537</td>\n",
       "      <td>2.653447</td>\n",
       "      <td>-0.301004</td>\n",
       "      <td>1.668668</td>\n",
       "      <td>-1.082866</td>\n",
       "      <td>0.886870</td>\n",
       "      <td>0.266980</td>\n",
       "    </tr>\n",
       "    <tr>\n",
       "      <th>2</th>\n",
       "      <td>-1.123586</td>\n",
       "      <td>-1.586051</td>\n",
       "      <td>-1.359351</td>\n",
       "      <td>0.70344</td>\n",
       "      <td>-1.394833</td>\n",
       "      <td>0.191832</td>\n",
       "      <td>0.830639</td>\n",
       "      <td>-0.301004</td>\n",
       "      <td>0.209367</td>\n",
       "      <td>-1.517682</td>\n",
       "      <td>-0.835979</td>\n",
       "      <td>-1.363099</td>\n",
       "    </tr>\n",
       "    <tr>\n",
       "      <th>3</th>\n",
       "      <td>-0.519159</td>\n",
       "      <td>-1.148149</td>\n",
       "      <td>-1.091703</td>\n",
       "      <td>0.70344</td>\n",
       "      <td>0.516482</td>\n",
       "      <td>0.615184</td>\n",
       "      <td>-1.447871</td>\n",
       "      <td>-0.301004</td>\n",
       "      <td>-0.885108</td>\n",
       "      <td>-1.517682</td>\n",
       "      <td>-0.835979</td>\n",
       "      <td>1.082020</td>\n",
       "    </tr>\n",
       "    <tr>\n",
       "      <th>4</th>\n",
       "      <td>0.085267</td>\n",
       "      <td>-1.274425</td>\n",
       "      <td>-1.583374</td>\n",
       "      <td>0.70344</td>\n",
       "      <td>0.898745</td>\n",
       "      <td>-0.654874</td>\n",
       "      <td>1.742043</td>\n",
       "      <td>-0.301004</td>\n",
       "      <td>-1.249934</td>\n",
       "      <td>0.221581</td>\n",
       "      <td>-0.835979</td>\n",
       "      <td>0.674500</td>\n",
       "    </tr>\n",
       "  </tbody>\n",
       "</table>\n",
       "</div>"
      ],
      "text/plain": [
       "   maxValues  Euclid Dist  Avg. Euc. Dist      Seq        GP        LB  \\\n",
       "0   1.294120     0.939807       -0.000517  0.70344  0.134219 -0.654874   \n",
       "1   1.294120    -1.187376       -1.895442  0.70344  1.281007  1.038537   \n",
       "2  -1.123586    -1.586051       -1.359351  0.70344 -1.394833  0.191832   \n",
       "3  -0.519159    -1.148149       -1.091703  0.70344  0.516482  0.615184   \n",
       "4   0.085267    -1.274425       -1.583374  0.70344  0.898745 -0.654874   \n",
       "\n",
       "         SP      FF.1        SF        PD        NP        FG  \n",
       "0 -0.080765  0.893414  0.939018  1.960844  1.748294 -0.548060  \n",
       "1  2.653447 -0.301004  1.668668 -1.082866  0.886870  0.266980  \n",
       "2  0.830639 -0.301004  0.209367 -1.517682 -0.835979 -1.363099  \n",
       "3 -1.447871 -0.301004 -0.885108 -1.517682 -0.835979  1.082020  \n",
       "4  1.742043 -0.301004 -1.249934  0.221581 -0.835979  0.674500  "
      ]
     },
     "execution_count": 15,
     "metadata": {},
     "output_type": "execute_result"
    }
   ],
   "source": [
    "pd.DataFrame(data = X, columns = features).head()"
   ]
  },
  {
   "cell_type": "code",
   "execution_count": 16,
   "metadata": {},
   "outputs": [
    {
     "data": {
      "text/html": [
       "<div>\n",
       "<style scoped>\n",
       "    .dataframe tbody tr th:only-of-type {\n",
       "        vertical-align: middle;\n",
       "    }\n",
       "\n",
       "    .dataframe tbody tr th {\n",
       "        vertical-align: top;\n",
       "    }\n",
       "\n",
       "    .dataframe thead th {\n",
       "        text-align: right;\n",
       "    }\n",
       "</style>\n",
       "<table border=\"1\" class=\"dataframe\">\n",
       "  <thead>\n",
       "    <tr style=\"text-align: right;\">\n",
       "      <th></th>\n",
       "      <th>PC1</th>\n",
       "      <th>PC2</th>\n",
       "      <th>PC3</th>\n",
       "      <th>PC4</th>\n",
       "      <th>PC5</th>\n",
       "    </tr>\n",
       "  </thead>\n",
       "  <tbody>\n",
       "    <tr>\n",
       "      <th>0</th>\n",
       "      <td>-13.535925</td>\n",
       "      <td>4.946722</td>\n",
       "      <td>-4.061210</td>\n",
       "      <td>-1.304639</td>\n",
       "      <td>0.591169</td>\n",
       "    </tr>\n",
       "    <tr>\n",
       "      <th>1</th>\n",
       "      <td>14.738698</td>\n",
       "      <td>8.253958</td>\n",
       "      <td>2.136753</td>\n",
       "      <td>-0.195265</td>\n",
       "      <td>-4.409014</td>\n",
       "    </tr>\n",
       "    <tr>\n",
       "      <th>2</th>\n",
       "      <td>22.036439</td>\n",
       "      <td>-1.522536</td>\n",
       "      <td>-1.005471</td>\n",
       "      <td>-1.100439</td>\n",
       "      <td>-1.954127</td>\n",
       "    </tr>\n",
       "    <tr>\n",
       "      <th>3</th>\n",
       "      <td>16.143632</td>\n",
       "      <td>-0.288334</td>\n",
       "      <td>3.225992</td>\n",
       "      <td>2.873326</td>\n",
       "      <td>-0.000755</td>\n",
       "    </tr>\n",
       "    <tr>\n",
       "      <th>4</th>\n",
       "      <td>17.111814</td>\n",
       "      <td>0.629914</td>\n",
       "      <td>2.216914</td>\n",
       "      <td>1.333157</td>\n",
       "      <td>0.464121</td>\n",
       "    </tr>\n",
       "  </tbody>\n",
       "</table>\n",
       "</div>"
      ],
      "text/plain": [
       "         PC1       PC2       PC3       PC4       PC5\n",
       "0 -13.535925  4.946722 -4.061210 -1.304639  0.591169\n",
       "1  14.738698  8.253958  2.136753 -0.195265 -4.409014\n",
       "2  22.036439 -1.522536 -1.005471 -1.100439 -1.954127\n",
       "3  16.143632 -0.288334  3.225992  2.873326 -0.000755\n",
       "4  17.111814  0.629914  2.216914  1.333157  0.464121"
      ]
     },
     "execution_count": 16,
     "metadata": {},
     "output_type": "execute_result"
    }
   ],
   "source": [
    "# Feature Extraction - Principal Component Analysis\n",
    "from sklearn.decomposition import PCA\n",
    "pca = PCA(n_components=5)\n",
    "principalComponents = pca.fit_transform (x)\n",
    "principalDf = pd.DataFrame(data = principalComponents, columns=['PC1','PC2','PC3','PC4','PC5']) #PC = Principal component \n",
    "principalDf.head()"
   ]
  },
  {
   "cell_type": "code",
   "execution_count": 17,
   "metadata": {},
   "outputs": [],
   "source": [
    "finalDf = pd.concat([principalDf,df1[['Seq']]], axis = 1)\n",
    "#finalDf.tail()"
   ]
  },
  {
   "cell_type": "code",
   "execution_count": 18,
   "metadata": {},
   "outputs": [],
   "source": [
    "# drop the target column\n",
    "#Target= finalDf['A16']          \n",
    "#df2=finalDf.drop(['A16'],axis=1)\n",
    "Target= df1['Seq']          \n",
    "df2=df1.drop(['Seq'],axis=1)"
   ]
  },
  {
   "cell_type": "code",
   "execution_count": 19,
   "metadata": {},
   "outputs": [],
   "source": [
    "#split dataset(df2) into training and testing \n",
    "X_train_nonstd,X_test_nonstd,Y_train,Y_test = train_test_split(df2,Target,test_size=0.20,random_state = 30)"
   ]
  },
  {
   "cell_type": "code",
   "execution_count": 20,
   "metadata": {},
   "outputs": [],
   "source": [
    "#Standardization\n",
    "sc=StandardScaler()\n",
    "X_train=sc.fit_transform(X_train_nonstd)\n",
    "X_test=sc.transform(X_test_nonstd)"
   ]
  },
  {
   "cell_type": "code",
   "execution_count": 21,
   "metadata": {},
   "outputs": [],
   "source": [
    "# configure to select all features\n",
    "fs = SelectKBest(score_func=f_classif, k='all')\n",
    "# learn relationship from training data\n",
    "fs.fit(X_train, Y_train)\n",
    "# transform train input data\n",
    "X_train = fs.transform(X_train)\n",
    "# transform test input data\n",
    "X_test = fs.transform(X_test)"
   ]
  },
  {
   "cell_type": "code",
   "execution_count": 22,
   "metadata": {},
   "outputs": [
    {
     "name": "stdout",
     "output_type": "stream",
     "text": [
      "Feature 0: 20.419367\n",
      "Feature 1: 3513.511529\n",
      "Feature 2: 5085.322273\n",
      "Feature 3: 0.002604\n",
      "Feature 4: 193.421328\n",
      "Feature 5: 20.394308\n",
      "Feature 6: 264.498797\n",
      "Feature 7: 0.254486\n",
      "Feature 8: 78.118155\n",
      "Feature 9: 55.463605\n",
      "Feature 10: 155.816127\n",
      "Feature 11: 18.414994\n"
     ]
    },
    {
     "data": {
      "image/png": "[encoded data removed]",
      "text/plain": [
       "<Figure size 576x360 with 1 Axes>"
      ]
     },
     "metadata": {},
     "output_type": "display_data"
    }
   ],
   "source": [
    "# what are scores for the features\n",
    "for i in range(len(fs.scores_)):\n",
    "    print('Feature %d: %f' % (i, fs.scores_[i]))\n",
    "# plot the scores\n",
    "plt.bar([i for i in range(len(fs.scores_))], fs.scores_)\n",
    "plt.xlabel('Features')\n",
    "plt.show()"
   ]
  },
  {
   "cell_type": "code",
   "execution_count": null,
   "metadata": {},
   "outputs": [],
   "source": []
  },
  {
   "cell_type": "markdown",
   "metadata": {},
   "source": [
    "## Logistic Regression"
   ]
  },
  {
   "cell_type": "code",
   "execution_count": null,
   "metadata": {},
   "outputs": [],
   "source": [
    "#Logistic Regression\n",
    "model = LogisticRegression(solver='lbfgs')\n",
    "kfold = StratifiedKFold(n_splits=10, random_state=1, shuffle=True)\n",
    "cv_results = cross_val_score(model, X_train, Y_train, cv=kfold, scoring='accuracy')\n",
    "print('%s: %f (%f)' % (\"Logistic Regression\", cv_results.mean(), cv_results.std()))"
   ]
  },
  {
   "cell_type": "code",
   "execution_count": null,
   "metadata": {},
   "outputs": [],
   "source": [
    "model.fit(X_train, Y_train)"
   ]
  },
  {
   "cell_type": "code",
   "execution_count": null,
   "metadata": {},
   "outputs": [],
   "source": [
    "start = time.time()\n",
    "\n",
    "model = LogisticRegression()\n",
    "model.fit(X_train, Y_train)\n",
    "\n",
    "end = time.time()\n",
    "training_time = format((end-start)*1000)\n",
    "print(\"time elapsed {} milli seconds\".format((end-start)*1000))"
   ]
  },
  {
   "cell_type": "code",
   "execution_count": null,
   "metadata": {},
   "outputs": [],
   "source": [
    "# make class predictions for the testing set\n",
    "start = time.time()\n",
    "y_pred_class = model.predict(X_test)\n",
    "end = time.time()\n",
    "test_time = format((end-start)*1000)\n",
    "print(\"time elapsed {} milli seconds\".format((end-start)*1000))"
   ]
  },
  {
   "cell_type": "code",
   "execution_count": null,
   "metadata": {},
   "outputs": [],
   "source": [
    "# Confusion Matrix\n",
    "conf_matrix = confusion_matrix(Y_test, y_pred_class)\n",
    "print(conf_matrix) #display confusion matrix\n",
    "y_true = [\"good\", \"bad\"]\n",
    "#y_pred = [\"good\", \"bad\"]\n",
    "df_cm = pd.DataFrame(conf_matrix, columns=np.unique(y_true), index = np.unique(y_true))\n",
    "df_cm.index.name = 'Actual'\n",
    "df_cm.columns.name = 'Predicted'\n",
    "df_cm.dtypes\n",
    "plt.figure(figsize = (8,5))\n",
    "cm_title='Confusion Matrix' + \" Logistic Regression\"\n",
    "plt.title(cm_title)\n",
    "sns.set(font_scale=1.4)#for label size\n",
    "sns.heatmap(df_cm, cmap=\"Blues\", annot=True,annot_kws={\"size\": 16})# font size\n",
    "# Save the Pie\n",
    "plt.savefig('../images/'+cm_title+'_confusion_matrix.png')\n",
    "plt.show()"
   ]
  },
  {
   "cell_type": "code",
   "execution_count": null,
   "metadata": {},
   "outputs": [],
   "source": [
    "#[row, column]\n",
    "TP = conf_matrix[1, 1]\n",
    "TN = conf_matrix[0, 0]\n",
    "FP = conf_matrix[0, 1]\n",
    "FN = conf_matrix[1, 0]\n",
    "\n",
    "# Classification Accuracy\n",
    "# use float to perform true division, not integer division\n",
    "accuracy = ((TP + TN) / float(TP + TN + FP + FN))\n",
    "#accuracy = accuracy_score(Y_test, y_pred_class)\n",
    "print(\"Accuracy : %.4f\" %accuracy)\n",
    "\n",
    "# Classification Error/Misclassification Rate = 1 - accuracy\n",
    "classification_error = (FP + FN) / float(TP + TN + FP + FN)\n",
    "print(\"Classification Error Rate : %.4f\" %(classification_error))\n",
    "\n",
    "# Precision\n",
    "precision = TP / float(TP + FP)\n",
    "print(\"Precision : %.4f\" %(precision))\n",
    "#print(\"Precision : %.4f\" %(precision_score(Y_test, y_pred)))\n",
    "\n",
    "# Sensitivity or Recall or True Positive Rate\n",
    "sensitivity = TP / float(FN + TP)\n",
    "print(\"Sensitivity/Recall :%.4f\" %(sensitivity))\n",
    "#print(\"Sensitivity/Recall : %.4f\" %(recall_score(Y_test, y_pred)))\n",
    "\n",
    "# Specificity oe true negative rate\n",
    "specificity = TN / (TN + FP)\n",
    "print(\"Specificity : %.4f\" %(specificity))\n",
    "\n",
    "# False Positive Rate (1 - specificity))\n",
    "false_positive_rate = FP / float(TN + FP)\n",
    "print(\"False Positive Rate : %.4f\" %(false_positive_rate))\n",
    "\n",
    "# False Negative Rate\n",
    "false_negative_rate = FN / float(TP + FN)\n",
    "print(\"False Negative Rate : %.4f\" %(false_negative_rate))\n",
    "\n",
    "# F1 Measure (F1 Score) = 2 * ((precision * sensitivity)/(precision + sensitivity))\n",
    "F1_measure = 2* ((precision * sensitivity)/(precision + sensitivity))\n",
    "print(\"F1-Measure : %.4f\" %(F1_measure))\n",
    "\n",
    "# Cross Validation is used to check the model is not overfitting\n",
    "c_v_score = cross_val_score(model,X_train,Y_train,cv = 10).mean()\n",
    "print(\"cross val score: : %.4f\" %(c_v_score))"
   ]
  },
  {
   "cell_type": "code",
   "execution_count": null,
   "metadata": {},
   "outputs": [],
   "source": [
    "# ROC Curve   \n",
    "fpr, tpr, thresholds = roc_curve(Y_test, y_pred_class)\n",
    "fig, ax = plt.subplots()\n",
    "ax.plot(fpr, tpr)\n",
    "ax.plot([0, 1], [0, 1], transform=ax.transAxes, ls=\"--\", c=\".3\")\n",
    "plt.xlim([0.0, 1.0])\n",
    "plt.ylim([0.0, 1.0])\n",
    "plt.rcParams['font.size'] = 12\n",
    "plt.xlabel('False Positive Rate (1 - Specificity)')\n",
    "plt.ylabel('True Positive Rate (Sensitivity)')\n",
    "plt.grid(True)\n",
    "print (\"\\n\")\n",
    "print (\"Area Under Curve (Logistic Regression): %.2f\" %auc(fpr, tpr))\n",
    "print (\"\\n\")\n",
    "plt.show()\n",
    "a_u_c = auc(fpr, tpr)"
   ]
  },
  {
   "cell_type": "code",
   "execution_count": null,
   "metadata": {},
   "outputs": [],
   "source": [
    "matrix_table=[[\"Logistic Regression\", accuracy, classification_error, precision, \n",
    "               sensitivity, specificity, false_positive_rate, F1_measure, a_u_c, c_v_score,\"{:.4f}\".format(float(training_time)), \n",
    "               \"{:.4f}\".format((float)(test_time))]]"
   ]
  },
  {
   "cell_type": "markdown",
   "metadata": {},
   "source": [
    "## SVM"
   ]
  },
  {
   "cell_type": "code",
   "execution_count": null,
   "metadata": {},
   "outputs": [],
   "source": [
    "params = {'C': [0.75, 0.85, 0.95, 1], 'kernel': ['linear', 'poly', 'rbf', 'sigmoid'], \n",
    "          'degree': [3, 4, 5]}\n",
    "\n",
    "start = time.time()\n",
    "\n",
    "clf = SVC(random_state=42)\n",
    "grid_search_cv = GridSearchCV(clf, params)\n",
    "grid_search_cv.fit(X_train, Y_train)\n",
    "\n",
    "#run best estimator\n",
    "clf = grid_search_cv.best_estimator_\n",
    "clf.fit(X_train,Y_train)\n",
    "\n",
    "end = time.time()\n",
    "training_time = format((end-start)*1000)\n",
    "print(\"time elapsed {} milli seconds\".format((end-start)*1000))"
   ]
  },
  {
   "cell_type": "code",
   "execution_count": null,
   "metadata": {},
   "outputs": [],
   "source": [
    "print(grid_search_cv.best_estimator_)\n",
    "print(grid_search_cv.best_params_)"
   ]
  },
  {
   "cell_type": "code",
   "execution_count": null,
   "metadata": {},
   "outputs": [],
   "source": [
    "# run SVM predictor\n",
    "start=time.time()\n",
    "y_pred = clf.predict(X_test)\n",
    "end = time.time()\n",
    "test_time = format((end-start)*1000)\n",
    "print(\"time elapsed {} milli seconds\".format((end-start)*1000))"
   ]
  },
  {
   "cell_type": "code",
   "execution_count": null,
   "metadata": {},
   "outputs": [],
   "source": [
    "# Confusion Matrix\n",
    "conf_matrix = confusion_matrix(Y_test, y_pred_class)\n",
    "print(conf_matrix) #display confusion matrix\n",
    "y_true = [\"good\", \"bad\"]\n",
    "#y_pred = [\"good\", \"bad\"]\n",
    "df_cm = pd.DataFrame(conf_matrix, columns=np.unique(y_true), index = np.unique(y_true))\n",
    "df_cm.index.name = 'Actual'\n",
    "df_cm.columns.name = 'Predicted'\n",
    "df_cm.dtypes\n",
    "plt.figure(figsize = (8,5))\n",
    "\n",
    "cm_title='Confusion Matrix' + \" SVM\"\n",
    "plt.title(cm_title)\n",
    "sns.set(font_scale=1.4)#for label size\n",
    "sns.heatmap(df_cm, cmap=\"Blues\", annot=True,annot_kws={\"size\": 16})# font size\n",
    "# Save the Pie\n",
    "plt.savefig('../images/'+cm_title+'_confusion_matrix.png')\n",
    "plt.show()"
   ]
  },
  {
   "cell_type": "code",
   "execution_count": null,
   "metadata": {},
   "outputs": [],
   "source": [
    "#[row, column]\n",
    "TP = conf_matrix[1, 1]\n",
    "TN = conf_matrix[0, 0]\n",
    "FP = conf_matrix[0, 1]\n",
    "FN = conf_matrix[1, 0]\n",
    "\n",
    "# Classification Accuracy\n",
    "# use float to perform true division, not integer division\n",
    "accuracy = ((TP + TN) / float(TP + TN + FP + FN))\n",
    "#accuracy = accuracy_score(Y_test, y_pred_class)\n",
    "print(\"Accuracy : %.4f\" %accuracy)\n",
    "\n",
    "# Classification Error/Misclassification Rate = 1 - accuracy\n",
    "classification_error = (FP + FN) / float(TP + TN + FP + FN)\n",
    "print(\"Classification Error Rate : %.4f\" %(classification_error))\n",
    "\n",
    "# Precision\n",
    "precision = TP / float(TP + FP)\n",
    "print(\"Precision : %.4f\" %(precision))\n",
    "#print(\"Precision : %.4f\" %(precision_score(Y_test, y_pred)))\n",
    "\n",
    "# Sensitivity or Recall or True Positive Rate\n",
    "sensitivity = TP / float(FN + TP)\n",
    "print(\"Sensitivity/Recall :%.4f\" %(sensitivity))\n",
    "#print(\"Sensitivity/Recall : %.4f\" %(recall_score(Y_test, y_pred)))\n",
    "\n",
    "# Specificity oe true negative rate\n",
    "specificity = TN / (TN + FP)\n",
    "print(\"Specificity : %.4f\" %(specificity))\n",
    "\n",
    "# False Positive Rate (1 - specificity))\n",
    "false_positive_rate = FP / float(TN + FP)\n",
    "print(\"False Positive Rate : %.4f\" %(false_positive_rate))\n",
    "\n",
    "# False Negative Rate\n",
    "false_negative_rate = FN / float(TP + FN)\n",
    "print(\"False Negative Rate : %.4f\" %(false_negative_rate))\n",
    "\n",
    "# F1 Measure (F1 Score) = 2 * ((precision * sensitivity)/(precision + sensitivity))\n",
    "F1_measure = 2* ((precision * sensitivity)/(precision + sensitivity))\n",
    "print(\"F1-Measure : %.4f\" %(F1_measure))\n",
    "\n",
    "# Cross Validation is used to check the model is not overfitting\n",
    "c_v_score = cross_val_score(model,X_train,Y_train,cv = 10).mean()\n",
    "print(\"cross val score: : %.4f\" %(c_v_score))"
   ]
  },
  {
   "cell_type": "code",
   "execution_count": null,
   "metadata": {},
   "outputs": [],
   "source": [
    "# ROC Curve   \n",
    "fpr, tpr, thresholds = roc_curve(Y_test, y_pred_class)\n",
    "fig, ax = plt.subplots()\n",
    "ax.plot(fpr, tpr)\n",
    "ax.plot([0, 1], [0, 1], transform=ax.transAxes, ls=\"--\", c=\".3\")\n",
    "plt.xlim([0.0, 1.0])\n",
    "plt.ylim([0.0, 1.0])\n",
    "plt.rcParams['font.size'] = 12\n",
    "plt.xlabel('False Positive Rate (1 - Specificity)')\n",
    "plt.ylabel('True Positive Rate (Sensitivity)')\n",
    "plt.grid(True)\n",
    "print (\"\\n\")\n",
    "print (\"Area Under Curve (SVM): %.2f\" %auc(fpr, tpr))\n",
    "print (\"\\n\")\n",
    "plt.show()\n",
    "a_u_c = auc(fpr, tpr)"
   ]
  },
  {
   "cell_type": "code",
   "execution_count": null,
   "metadata": {},
   "outputs": [],
   "source": [
    "matrix_table.append([\"SVM\", accuracy, classification_error, precision, \n",
    "               sensitivity, specificity, false_positive_rate, F1_measure, a_u_c, c_v_score,\"{:.4f}\".format(float(training_time)), \n",
    "               \"{:.4f}\".format((float)(test_time))])"
   ]
  },
  {
   "cell_type": "markdown",
   "metadata": {},
   "source": [
    "## Random Forest"
   ]
  },
  {
   "cell_type": "code",
   "execution_count": null,
   "metadata": {},
   "outputs": [],
   "source": [
    "start=time.time()\n",
    "rfc_clf = RandomForestClassifier()\n",
    "params = {'n_estimators':[25,50,100,150,200,500],'max_depth':[0.5,1,5,10],'random_state':[1,10,20,42],\n",
    "          'n_jobs':[1,2]}\n",
    "grid_search_cv = GridSearchCV(rfc_clf, params, scoring='precision')\n",
    "grid_search_cv.fit(X_train, Y_train)\n",
    "\n",
    "end = time.time()\n",
    "training_time = ((end-start)*1000)\n",
    "print(\"time elapsed {} milli seconds\".format((end-start)*1000))"
   ]
  },
  {
   "cell_type": "code",
   "execution_count": null,
   "metadata": {},
   "outputs": [],
   "source": [
    "print(grid_search_cv.best_estimator_)\n",
    "print(grid_search_cv.best_params_)"
   ]
  },
  {
   "cell_type": "code",
   "execution_count": null,
   "metadata": {},
   "outputs": [],
   "source": [
    "start=time.time()\n",
    "rfc_clf = grid_search_cv.best_estimator_\n",
    "rfc_clf.fit(X_train,Y_train)\n",
    "end = time.time()\n",
    "training_time = training_time + ((end-start)*1000)\n",
    "print(\"time elapsed {} milli seconds\".format((end-start)*1000))\n",
    "\n",
    "start=time.time()\n",
    "rfc_clf_pred = rfc_clf.predict(X_test)\n",
    "end = time.time()\n",
    "test_time = format((end-start)*1000)\n",
    "print(\"time elapsed {} milli seconds\".format((end-start)*1000))\n",
    "print('Accuracy:',accuracy_score(rfc_clf_pred,Y_test) )\n",
    "print('Confusion Matrix:', confusion_matrix(rfc_clf_pred,Y_test).ravel()) #tn,fp,fn,tp\n",
    "conf_matrix = confusion_matrix(rfc_clf_pred, Y_test)\n",
    "print('Classification report:')\n",
    "print(classification_report(rfc_clf_pred,Y_test))"
   ]
  },
  {
   "cell_type": "code",
   "execution_count": null,
   "metadata": {},
   "outputs": [],
   "source": [
    "# Confusion Matrix\n",
    "conf_matrix = confusion_matrix(Y_test, y_pred_class)\n",
    "print(conf_matrix) #display confusion matrix\n",
    "y_true = [\"good\", \"bad\"]\n",
    "#y_pred = [\"good\", \"bad\"]\n",
    "df_cm = pd.DataFrame(conf_matrix, columns=np.unique(y_true), index = np.unique(y_true))\n",
    "df_cm.index.name = 'Actual'\n",
    "df_cm.columns.name = 'Predicted'\n",
    "df_cm.dtypes\n",
    "plt.figure(figsize = (8,5))\n",
    "cm_title='Confusion Matrix' + \" Random Forest\"\n",
    "plt.title(cm_title)\n",
    "sns.set(font_scale=1.4)#for label size\n",
    "sns.heatmap(df_cm, cmap=\"Blues\", annot=True,annot_kws={\"size\": 16})# font size\n",
    "# Save the Pie\n",
    "plt.savefig('../images/'+cm_title+'_confusion_matrix.png')\n",
    "\n",
    "plt.show()"
   ]
  },
  {
   "cell_type": "code",
   "execution_count": null,
   "metadata": {},
   "outputs": [],
   "source": [
    "#[row, column]\n",
    "TP = conf_matrix[1, 1]\n",
    "TN = conf_matrix[0, 0]\n",
    "FP = conf_matrix[0, 1]\n",
    "FN = conf_matrix[1, 0]\n",
    "\n",
    "# Classification Accuracy\n",
    "# use float to perform true division, not integer division\n",
    "accuracy = ((TP + TN) / float(TP + TN + FP + FN))\n",
    "#accuracy = accuracy_score(Y_test, y_pred_class)\n",
    "print(\"Accuracy : %.4f\" %accuracy)\n",
    "\n",
    "# Classification Error/Misclassification Rate = 1 - accuracy\n",
    "classification_error = (FP + FN) / float(TP + TN + FP + FN)\n",
    "print(\"Classification Error Rate : %.4f\" %(classification_error))\n",
    "\n",
    "# Precision\n",
    "precision = TP / float(TP + FP)\n",
    "print(\"Precision : %.4f\" %(precision))\n",
    "#print(\"Precision : %.4f\" %(precision_score(Y_test, y_pred)))\n",
    "\n",
    "# Sensitivity or Recall or True Positive Rate\n",
    "sensitivity = TP / float(FN + TP)\n",
    "print(\"Sensitivity/Recall :%.4f\" %(sensitivity))\n",
    "#print(\"Sensitivity/Recall : %.4f\" %(recall_score(Y_test, y_pred)))\n",
    "\n",
    "# Specificity oe true negative rate\n",
    "specificity = TN / (TN + FP)\n",
    "print(\"Specificity : %.4f\" %(specificity))\n",
    "\n",
    "# False Positive Rate (1 - specificity))\n",
    "false_positive_rate = FP / float(TN + FP)\n",
    "print(\"False Positive Rate : %.4f\" %(false_positive_rate))\n",
    "\n",
    "# False Negative Rate\n",
    "false_negative_rate = FN / float(TP + FN)\n",
    "print(\"False Negative Rate : %.4f\" %(false_negative_rate))\n",
    "\n",
    "# F1 Measure (F1 Score) = 2 * ((precision * sensitivity)/(precision + sensitivity))\n",
    "F1_measure = 2* ((precision * sensitivity)/(precision + sensitivity))\n",
    "print(\"F1-Measure : %.4f\" %(F1_measure))\n",
    "\n",
    "# Cross Validation is used to check the model is not overfitting\n",
    "c_v_score = cross_val_score(model,X_train,Y_train,cv = 10).mean()\n",
    "print(\"cross val score: : %.4f\" %(c_v_score))"
   ]
  },
  {
   "cell_type": "code",
   "execution_count": null,
   "metadata": {},
   "outputs": [],
   "source": [
    "# ROC Curve   \n",
    "fpr, tpr, thresholds = roc_curve(Y_test, y_pred_class)\n",
    "fig, ax = plt.subplots()\n",
    "ax.plot(fpr, tpr)\n",
    "ax.plot([0, 1], [0, 1], transform=ax.transAxes, ls=\"--\", c=\".3\")\n",
    "plt.xlim([0.0, 1.0])\n",
    "plt.ylim([0.0, 1.0])\n",
    "plt.rcParams['font.size'] = 12\n",
    "plt.xlabel('False Positive Rate (1 - Specificity)')\n",
    "plt.ylabel('True Positive Rate (Sensitivity)')\n",
    "plt.grid(True)\n",
    "print (\"\\n\")\n",
    "print (\"Area Under Curve (RF): %.2f\" %auc(fpr, tpr))\n",
    "print (\"\\n\")\n",
    "plt.show()\n",
    "a_u_c = auc(fpr, tpr)"
   ]
  },
  {
   "cell_type": "code",
   "execution_count": null,
   "metadata": {},
   "outputs": [],
   "source": [
    "matrix_table.append([\"Random Forest\", accuracy, classification_error, precision, \n",
    "               sensitivity, specificity, false_positive_rate, F1_measure, a_u_c, c_v_score,\"{:.4f}\".format(float(training_time)), \n",
    "               \"{:.4f}\".format((float)(test_time))])"
   ]
  },
  {
   "cell_type": "code",
   "execution_count": null,
   "metadata": {},
   "outputs": [],
   "source": [
    "#print(matrix_table)"
   ]
  },
  {
   "cell_type": "markdown",
   "metadata": {},
   "source": [
    "## Compare the metrics"
   ]
  },
  {
   "cell_type": "code",
   "execution_count": null,
   "metadata": {
    "scrolled": true
   },
   "outputs": [],
   "source": [
    "#convert metrics table into a dataframe\n",
    "metricsDF = pd.DataFrame(matrix_table, columns=['Model', 'Accuracy', 'Error Rate', 'Precision', \n",
    "    'Sensitivity', 'Specificity','False Positve Rate', 'F1_measure', 'ROC-AUC','Cross Validation Score','Model Training Time','Model Runtime on Test data'])\n",
    "display(metricsDF)"
   ]
  },
  {
   "cell_type": "code",
   "execution_count": null,
   "metadata": {},
   "outputs": [],
   "source": [
    "#switch the table to have the models as columns and statistics as rows\n",
    "metricsDFT = metricsDF.transpose()\n",
    "metricsDFT.columns = metricsDFT.iloc[0]\n",
    "metricsDFT1=metricsDFT.drop('Model')\n",
    "metricsDFT1"
   ]
  },
  {
   "cell_type": "code",
   "execution_count": null,
   "metadata": {},
   "outputs": [],
   "source": []
  },
  {
   "cell_type": "markdown",
   "metadata": {},
   "source": [
    "## Model Selection"
   ]
  },
  {
   "cell_type": "code",
   "execution_count": null,
   "metadata": {},
   "outputs": [],
   "source": [
    "#Model Selection\n",
    "# Logistic Regression, Random Forrest, CNN etc."
   ]
  }
 ],
 "metadata": {
  "kernelspec": {
   "display_name": "Python 3",
   "language": "python",
   "name": "python3"
  },
  "language_info": {
   "codemirror_mode": {
    "name": "ipython",
    "version": 3
   },
   "file_extension": ".py",
   "mimetype": "text/x-python",
   "name": "python",
   "nbconvert_exporter": "python",
   "pygments_lexer": "ipython3",
   "version": "3.8.5"
  }
 },
 "nbformat": 4,
 "nbformat_minor": 4
}
