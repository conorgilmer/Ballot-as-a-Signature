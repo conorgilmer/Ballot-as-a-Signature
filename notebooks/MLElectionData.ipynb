{
 "cells": [
  {
   "cell_type": "markdown",
   "metadata": {},
   "source": [
    "# Machine Learning Analysis and Classification of STV Data"
   ]
  },
  {
   "cell_type": "code",
   "execution_count": 1,
   "metadata": {},
   "outputs": [],
   "source": [
    "#import python libraries\n",
    "import pandas as pd\n",
    "import numpy as np\n",
    "import matplotlib.pyplot as plt\n",
    "import seaborn as sns\n",
    "import scipy as scp\n",
    "\n",
    "## for machine learning\n",
    "from sklearn import model_selection, preprocessing, feature_selection, ensemble, linear_model, metrics, decomposition\n",
    "#import libraries\n",
    "import matplotlib.image as mpimg\n",
    "import time\n",
    "#!pip install plotly\n",
    "import plotly.offline as py \n",
    "import plotly.graph_objs as go\n",
    "import plotly.express as px\n",
    "from collections import Counter  \n",
    "from subprocess import call\n",
    "from IPython.display import Image\n",
    "\n",
    "############################################################################################\n",
    "from sklearn.ensemble import RandomForestClassifier\n",
    "from sklearn.model_selection import train_test_split, RandomizedSearchCV\n",
    "from sklearn.preprocessing import StandardScaler\n",
    "from sklearn.metrics import confusion_matrix, roc_curve, roc_auc_score, auc, accuracy_score, recall_score, precision_score, classification_report\n",
    "from sklearn.model_selection import train_test_split\n",
    "from sklearn.model_selection import cross_val_score\n",
    "from sklearn.model_selection import StratifiedKFold\n",
    "from sklearn.linear_model import LogisticRegression\n",
    "from sklearn.tree import DecisionTreeClassifier\n",
    "from sklearn.neighbors import KNeighborsClassifier\n",
    "from sklearn.discriminant_analysis import LinearDiscriminantAnalysis\n",
    "from sklearn.naive_bayes import GaussianNB\n",
    "from sklearn.svm import SVC\n",
    "from sklearn.model_selection import GridSearchCV\n",
    "from sklearn.model_selection import cross_val_predict\n",
    "from sklearn.feature_selection import SelectKBest\n",
    "from sklearn.feature_selection import f_classif\n",
    "\n",
    "\n",
    "\n",
    "#set mathplot to inline (for jupyter)\n",
    "%matplotlib inline "
   ]
  },
  {
   "cell_type": "markdown",
   "metadata": {},
   "source": [
    "## Read in Data"
   ]
  },
  {
   "cell_type": "code",
   "execution_count": 3,
   "metadata": {},
   "outputs": [],
   "source": [
    "#read vote data from csv\n",
    "#input file\n",
    "constituency=\"DublinWest2002_merged\"\n",
    "in_csv='../data/processed/'+constituency+'.csv'\n",
    "#in_csv ='../data/Meath2002.csv'\n",
    "#in_csv ='../data/DublinNorth2002.csv'\n",
    "#in_csv ='../data/DublinWest2002.csv'\n",
    "\n",
    "#read in data (setting 1st row as header)\n",
    "df = pd.read_csv(in_csv,  header=[0])\n",
    "\n",
    "#set column names as first line\n",
    "#drop the numbers column (#df=df.drop(['No.'], 1))\n",
    "df = df.drop(df.columns[[0]], axis=1)  # df.columns is zero-based pd.Index\n",
    "#reset index to start a 1 and not 0\n",
    "df.index = df.index + 1"
   ]
  },
  {
   "cell_type": "code",
   "execution_count": 4,
   "metadata": {},
   "outputs": [
    {
     "name": "stdout",
     "output_type": "stream",
     "text": [
      "Print Data Frame (df)\n",
      "    GP   LB   FF   SP  FF.1   SF   PD   NP   FG  maxValues  Euclid Dist  \\\n",
      "1  4.0  1.0  7.0  3.0   5.0  6.0  8.0  9.0  2.0        9.0    47.771133   \n",
      "2  7.0  5.0  3.0  9.0   2.0  8.0  1.0  6.0  4.0        9.0    18.954230   \n",
      "3  NaN  3.0  1.0  5.0   2.0  4.0  NaN  NaN  NaN        5.0    13.553393   \n",
      "4  6.0  1.0  7.0  3.0   4.0  NaN  5.0  8.0  2.0        8.0    43.698941   \n",
      "5  5.0  3.0  8.0  1.0   9.0  7.0  4.0  6.0  2.0        9.0    40.591953   \n",
      "\n",
      "   Avg. Euc. Dist  Seq  \n",
      "1        5.971392    1  \n",
      "2        2.369279    1  \n",
      "3        3.388348    1  \n",
      "4        6.242706    1  \n",
      "5        5.073994    1  \n",
      "Print Column names\n",
      "Index(['GP', 'LB', 'FF', 'SP', 'FF.1', 'SF', 'PD', 'NP', 'FG', 'maxValues',\n",
      "       'Euclid Dist', 'Avg. Euc. Dist', 'Seq'],\n",
      "      dtype='object')\n"
     ]
    }
   ],
   "source": [
    "#print input data frame details\n",
    "print(\"Print Data Frame (df)\")\n",
    "print(df.head())\n",
    "print(\"Print Column names\")\n",
    "print(df.columns)"
   ]
  },
  {
   "cell_type": "markdown",
   "metadata": {},
   "source": [
    "## Data Analysis"
   ]
  },
  {
   "cell_type": "code",
   "execution_count": 5,
   "metadata": {},
   "outputs": [
    {
     "name": "stdout",
     "output_type": "stream",
     "text": [
      "<class 'pandas.core.frame.DataFrame'>\n",
      "RangeIndex: 11818 entries, 1 to 11818\n",
      "Data columns (total 13 columns):\n",
      " #   Column          Non-Null Count  Dtype  \n",
      "---  ------          --------------  -----  \n",
      " 0   GP              9102 non-null   float64\n",
      " 1   LB              9473 non-null   float64\n",
      " 2   FF              8835 non-null   float64\n",
      " 3   SP              9925 non-null   float64\n",
      " 4   FF.1            9467 non-null   float64\n",
      " 5   SF              8223 non-null   float64\n",
      " 6   PD              9695 non-null   float64\n",
      " 7   NP              5924 non-null   float64\n",
      " 8   FG              9673 non-null   float64\n",
      " 9   maxValues       11818 non-null  float64\n",
      " 10  Euclid Dist     11818 non-null  float64\n",
      " 11  Avg. Euc. Dist  11818 non-null  float64\n",
      " 12  Seq             11818 non-null  int64  \n",
      "dtypes: float64(12), int64(1)\n",
      "memory usage: 1.2 MB\n"
     ]
    }
   ],
   "source": [
    "#data preprocessing\n",
    "df.info()\n",
    "\n",
    "#backup dataset\n",
    "dataset_clean=df.copy()"
   ]
  },
  {
   "cell_type": "code",
   "execution_count": 6,
   "metadata": {},
   "outputs": [
    {
     "data": {
      "image/png": "[encoded data removed]",
      "text/plain": [
       "<Figure size 432x288 with 1 Axes>"
      ]
     },
     "metadata": {
      "needs_background": "light"
     },
     "output_type": "display_data"
    }
   ],
   "source": [
    "# how balanced is the dataset?\n",
    "sns.countplot(x='Seq', data = df)\n",
    "plt.title('Balance of Dataset')\n",
    "plt.ylabel('Number of Votes.')\n",
    "plt.xlabel('Sequence 1=Regular, 0= Irregular.')\n",
    "\n",
    "# Save the histogram\n",
    "plt.savefig('../images/'+constituency+'_dataset_balance_hist.png')\n",
    "plt.show()"
   ]
  },
  {
   "cell_type": "markdown",
   "metadata": {},
   "source": [
    "### Missing Values"
   ]
  },
  {
   "cell_type": "code",
   "execution_count": 7,
   "metadata": {},
   "outputs": [],
   "source": [
    "# Replace the '?'s with NaN (read.csv includes conversion of ? to NaN)\n",
    "#df = df.replace('?', np.NaN)\n",
    "df = df.replace(np.NaN, 0)\n",
    "# Drop rows (if you want to delete all rows containing Missing Values)\n",
    "#datasetq=dataset.dropna()\n",
    "\n",
    "# Imputation Numbers\n",
    "# Impute the missing values with mean imputation\n",
    "#df.fillna(df.mean(), inplace=True)\n",
    "\n",
    "# Imputation Categorical Data\n",
    "# Iterate over each column of cc_apps\n",
    "#for col in df.columns:\n",
    "    # Check if the column is of object type\n",
    " #   if df[col].dtype == 'object':\n",
    "        # Impute with the most frequent value\n",
    "  #      df = df.fillna(dataset[col].value_counts().index[0])\n",
    "#df.iloc[265:290,:]\n",
    "\n",
    "#backup dataset\n",
    "dataset_clean=df.copy()"
   ]
  },
  {
   "cell_type": "code",
   "execution_count": 8,
   "metadata": {},
   "outputs": [
    {
     "data": {
      "text/html": [
       "<div>\n",
       "<style scoped>\n",
       "    .dataframe tbody tr th:only-of-type {\n",
       "        vertical-align: middle;\n",
       "    }\n",
       "\n",
       "    .dataframe tbody tr th {\n",
       "        vertical-align: top;\n",
       "    }\n",
       "\n",
       "    .dataframe thead th {\n",
       "        text-align: right;\n",
       "    }\n",
       "</style>\n",
       "<table border=\"1\" class=\"dataframe\">\n",
       "  <thead>\n",
       "    <tr style=\"text-align: right;\">\n",
       "      <th></th>\n",
       "      <th>GP</th>\n",
       "      <th>LB</th>\n",
       "      <th>FF</th>\n",
       "      <th>SP</th>\n",
       "      <th>FF.1</th>\n",
       "      <th>SF</th>\n",
       "      <th>PD</th>\n",
       "      <th>NP</th>\n",
       "      <th>FG</th>\n",
       "      <th>maxValues</th>\n",
       "      <th>Euclid Dist</th>\n",
       "      <th>Avg. Euc. Dist</th>\n",
       "      <th>Seq</th>\n",
       "    </tr>\n",
       "  </thead>\n",
       "  <tbody>\n",
       "    <tr>\n",
       "      <th>1</th>\n",
       "      <td>4.0</td>\n",
       "      <td>1.0</td>\n",
       "      <td>7.0</td>\n",
       "      <td>3.0</td>\n",
       "      <td>5.0</td>\n",
       "      <td>6.0</td>\n",
       "      <td>8.0</td>\n",
       "      <td>9.0</td>\n",
       "      <td>2.0</td>\n",
       "      <td>9.0</td>\n",
       "      <td>47.771133</td>\n",
       "      <td>5.971392</td>\n",
       "      <td>1</td>\n",
       "    </tr>\n",
       "    <tr>\n",
       "      <th>2</th>\n",
       "      <td>7.0</td>\n",
       "      <td>5.0</td>\n",
       "      <td>3.0</td>\n",
       "      <td>9.0</td>\n",
       "      <td>2.0</td>\n",
       "      <td>8.0</td>\n",
       "      <td>1.0</td>\n",
       "      <td>6.0</td>\n",
       "      <td>4.0</td>\n",
       "      <td>9.0</td>\n",
       "      <td>18.954230</td>\n",
       "      <td>2.369279</td>\n",
       "      <td>1</td>\n",
       "    </tr>\n",
       "    <tr>\n",
       "      <th>3</th>\n",
       "      <td>0.0</td>\n",
       "      <td>3.0</td>\n",
       "      <td>1.0</td>\n",
       "      <td>5.0</td>\n",
       "      <td>2.0</td>\n",
       "      <td>4.0</td>\n",
       "      <td>0.0</td>\n",
       "      <td>0.0</td>\n",
       "      <td>0.0</td>\n",
       "      <td>5.0</td>\n",
       "      <td>13.553393</td>\n",
       "      <td>3.388348</td>\n",
       "      <td>1</td>\n",
       "    </tr>\n",
       "    <tr>\n",
       "      <th>4</th>\n",
       "      <td>6.0</td>\n",
       "      <td>1.0</td>\n",
       "      <td>7.0</td>\n",
       "      <td>3.0</td>\n",
       "      <td>4.0</td>\n",
       "      <td>0.0</td>\n",
       "      <td>5.0</td>\n",
       "      <td>8.0</td>\n",
       "      <td>2.0</td>\n",
       "      <td>8.0</td>\n",
       "      <td>43.698941</td>\n",
       "      <td>6.242706</td>\n",
       "      <td>1</td>\n",
       "    </tr>\n",
       "    <tr>\n",
       "      <th>5</th>\n",
       "      <td>5.0</td>\n",
       "      <td>3.0</td>\n",
       "      <td>8.0</td>\n",
       "      <td>1.0</td>\n",
       "      <td>9.0</td>\n",
       "      <td>7.0</td>\n",
       "      <td>4.0</td>\n",
       "      <td>6.0</td>\n",
       "      <td>2.0</td>\n",
       "      <td>9.0</td>\n",
       "      <td>40.591953</td>\n",
       "      <td>5.073994</td>\n",
       "      <td>1</td>\n",
       "    </tr>\n",
       "  </tbody>\n",
       "</table>\n",
       "</div>"
      ],
      "text/plain": [
       "    GP   LB   FF   SP  FF.1   SF   PD   NP   FG  maxValues  Euclid Dist  \\\n",
       "1  4.0  1.0  7.0  3.0   5.0  6.0  8.0  9.0  2.0        9.0    47.771133   \n",
       "2  7.0  5.0  3.0  9.0   2.0  8.0  1.0  6.0  4.0        9.0    18.954230   \n",
       "3  0.0  3.0  1.0  5.0   2.0  4.0  0.0  0.0  0.0        5.0    13.553393   \n",
       "4  6.0  1.0  7.0  3.0   4.0  0.0  5.0  8.0  2.0        8.0    43.698941   \n",
       "5  5.0  3.0  8.0  1.0   9.0  7.0  4.0  6.0  2.0        9.0    40.591953   \n",
       "\n",
       "   Avg. Euc. Dist  Seq  \n",
       "1        5.971392    1  \n",
       "2        2.369279    1  \n",
       "3        3.388348    1  \n",
       "4        6.242706    1  \n",
       "5        5.073994    1  "
      ]
     },
     "execution_count": 8,
     "metadata": {},
     "output_type": "execute_result"
    }
   ],
   "source": [
    "dataset_clean.head()"
   ]
  },
  {
   "cell_type": "markdown",
   "metadata": {},
   "source": [
    "## Feature Engineering"
   ]
  },
  {
   "cell_type": "code",
   "execution_count": 9,
   "metadata": {},
   "outputs": [
    {
     "name": "stdout",
     "output_type": "stream",
     "text": [
      "['GP', 'LB', 'FF', 'SP', 'FF.1', 'SF', 'PD', 'NP', 'FG']\n",
      "['maxValues', 'Euclid Dist', 'Avg. Euc. Dist', 'Seq']\n"
     ]
    }
   ],
   "source": [
    "#Feature Engineering\n",
    "cols = list(df.columns)\n",
    "#cols.pop()\n",
    "cat_f = cols[:-4]\n",
    "\n",
    "cat_features = cat_f\n",
    "num_features = ['maxValues', 'Euclid Dist', 'Avg. Euc. Dist', 'Seq']\n",
    "print(cat_features)\n",
    "print(num_features)\n",
    "#convert categorical data into \"dummy\" indicator variables\n",
    "for variable in cat_features:\n",
    "    dummies = pd.get_dummies(dataset_clean[cat_features])\n",
    "    df1= pd.concat([dataset_clean[num_features], dummies],axis=1)"
   ]
  },
  {
   "cell_type": "code",
   "execution_count": 10,
   "metadata": {},
   "outputs": [
    {
     "name": "stderr",
     "output_type": "stream",
     "text": [
      "/anaconda38/anaconda3/lib/python3.8/site-packages/seaborn/distributions.py:2551: FutureWarning:\n",
      "\n",
      "`distplot` is a deprecated function and will be removed in a future version. Please adapt your code to use either `displot` (a figure-level function with similar flexibility) or `histplot` (an axes-level function for histograms).\n",
      "\n"
     ]
    },
    {
     "data": {
      "image/png": "[encoded data removed]",
      "text/plain": [
       "<Figure size 576x360 with 1 Axes>"
      ]
     },
     "metadata": {},
     "output_type": "display_data"
    }
   ],
   "source": [
    "import seaborn as sns\n",
    "\n",
    "sns.set(style='whitegrid', palette=\"deep\", font_scale=1.1, rc={\"figure.figsize\": [8, 5]})\n",
    "sns.distplot(\n",
    "    df1['Avg. Euc. Dist'], norm_hist=False, kde=False, bins=20, hist_kws={\"alpha\": 1}\n",
    ").set(xlabel='Avg Euclid Distance', ylabel='Votes');"
   ]
  },
  {
   "cell_type": "code",
   "execution_count": 11,
   "metadata": {},
   "outputs": [
    {
     "data": {
      "image/png": "[encoded data removed]",
      "text/plain": [
       "<Figure size 576x360 with 1 Axes>"
      ]
     },
     "metadata": {},
     "output_type": "display_data"
    }
   ],
   "source": [
    "import seaborn as sns\n",
    "\n",
    "sns.set(style='whitegrid', palette=\"deep\", font_scale=1.1, rc={\"figure.figsize\": [8, 5]})\n",
    "sns.distplot(\n",
    "    df1['Euclid Dist'], norm_hist=False, kde=False, bins=20, hist_kws={\"alpha\": 1}\n",
    ").set(xlabel='Euclid Distance', ylabel='Votes');"
   ]
  },
  {
   "cell_type": "markdown",
   "metadata": {},
   "source": [
    "## Feature Extraction"
   ]
  },
  {
   "cell_type": "markdown",
   "metadata": {},
   "source": [
    "### Split Data Set into Test and Train"
   ]
  },
  {
   "cell_type": "code",
   "execution_count": 12,
   "metadata": {},
   "outputs": [],
   "source": [
    "#Split Data Set into Test and Train\n",
    "features = list(df1)\n",
    "features.pop(6)\n",
    "x = df1.loc[:,features].values\n",
    "y = df1.loc[:,['Seq']].values #target var"
   ]
  },
  {
   "cell_type": "code",
   "execution_count": 13,
   "metadata": {},
   "outputs": [],
   "source": [
    "X = StandardScaler().fit_transform(x) "
   ]
  },
  {
   "cell_type": "code",
   "execution_count": 14,
   "metadata": {},
   "outputs": [
    {
     "data": {
      "text/html": [
       "<div>\n",
       "<style scoped>\n",
       "    .dataframe tbody tr th:only-of-type {\n",
       "        vertical-align: middle;\n",
       "    }\n",
       "\n",
       "    .dataframe tbody tr th {\n",
       "        vertical-align: top;\n",
       "    }\n",
       "\n",
       "    .dataframe thead th {\n",
       "        text-align: right;\n",
       "    }\n",
       "</style>\n",
       "<table border=\"1\" class=\"dataframe\">\n",
       "  <thead>\n",
       "    <tr style=\"text-align: right;\">\n",
       "      <th></th>\n",
       "      <th>maxValues</th>\n",
       "      <th>Euclid Dist</th>\n",
       "      <th>Avg. Euc. Dist</th>\n",
       "      <th>Seq</th>\n",
       "      <th>GP</th>\n",
       "      <th>LB</th>\n",
       "      <th>SP</th>\n",
       "      <th>FF.1</th>\n",
       "      <th>SF</th>\n",
       "      <th>PD</th>\n",
       "      <th>NP</th>\n",
       "      <th>FG</th>\n",
       "    </tr>\n",
       "  </thead>\n",
       "  <tbody>\n",
       "    <tr>\n",
       "      <th>0</th>\n",
       "      <td>1.169789</td>\n",
       "      <td>1.328511</td>\n",
       "      <td>0.358506</td>\n",
       "      <td>0.378805</td>\n",
       "      <td>0.143343</td>\n",
       "      <td>-0.790801</td>\n",
       "      <td>0.039270</td>\n",
       "      <td>0.907440</td>\n",
       "      <td>0.923724</td>\n",
       "      <td>1.921477</td>\n",
       "      <td>1.622675</td>\n",
       "      <td>-0.517248</td>\n",
       "    </tr>\n",
       "    <tr>\n",
       "      <th>1</th>\n",
       "      <td>1.169789</td>\n",
       "      <td>-0.938241</td>\n",
       "      <td>-1.744793</td>\n",
       "      <td>0.378805</td>\n",
       "      <td>1.259060</td>\n",
       "      <td>0.992472</td>\n",
       "      <td>2.644113</td>\n",
       "      <td>-0.303641</td>\n",
       "      <td>1.596362</td>\n",
       "      <td>-0.966481</td>\n",
       "      <td>0.785298</td>\n",
       "      <td>0.279213</td>\n",
       "    </tr>\n",
       "    <tr>\n",
       "      <th>2</th>\n",
       "      <td>-0.953392</td>\n",
       "      <td>-1.363074</td>\n",
       "      <td>-1.149751</td>\n",
       "      <td>0.378805</td>\n",
       "      <td>-1.344279</td>\n",
       "      <td>0.100835</td>\n",
       "      <td>0.907551</td>\n",
       "      <td>-0.303641</td>\n",
       "      <td>0.251087</td>\n",
       "      <td>-1.379047</td>\n",
       "      <td>-0.889456</td>\n",
       "      <td>-1.313709</td>\n",
       "    </tr>\n",
       "    <tr>\n",
       "      <th>3</th>\n",
       "      <td>0.638993</td>\n",
       "      <td>1.008191</td>\n",
       "      <td>0.516928</td>\n",
       "      <td>0.378805</td>\n",
       "      <td>0.887155</td>\n",
       "      <td>-0.790801</td>\n",
       "      <td>0.039270</td>\n",
       "      <td>0.503746</td>\n",
       "      <td>-1.094189</td>\n",
       "      <td>0.683781</td>\n",
       "      <td>1.343549</td>\n",
       "      <td>-0.517248</td>\n",
       "    </tr>\n",
       "    <tr>\n",
       "      <th>4</th>\n",
       "      <td>1.169789</td>\n",
       "      <td>0.763793</td>\n",
       "      <td>-0.165491</td>\n",
       "      <td>0.378805</td>\n",
       "      <td>0.515249</td>\n",
       "      <td>0.100835</td>\n",
       "      <td>-0.829011</td>\n",
       "      <td>2.522214</td>\n",
       "      <td>1.260043</td>\n",
       "      <td>0.271215</td>\n",
       "      <td>0.785298</td>\n",
       "      <td>-0.517248</td>\n",
       "    </tr>\n",
       "  </tbody>\n",
       "</table>\n",
       "</div>"
      ],
      "text/plain": [
       "   maxValues  Euclid Dist  Avg. Euc. Dist       Seq        GP        LB  \\\n",
       "0   1.169789     1.328511        0.358506  0.378805  0.143343 -0.790801   \n",
       "1   1.169789    -0.938241       -1.744793  0.378805  1.259060  0.992472   \n",
       "2  -0.953392    -1.363074       -1.149751  0.378805 -1.344279  0.100835   \n",
       "3   0.638993     1.008191        0.516928  0.378805  0.887155 -0.790801   \n",
       "4   1.169789     0.763793       -0.165491  0.378805  0.515249  0.100835   \n",
       "\n",
       "         SP      FF.1        SF        PD        NP        FG  \n",
       "0  0.039270  0.907440  0.923724  1.921477  1.622675 -0.517248  \n",
       "1  2.644113 -0.303641  1.596362 -0.966481  0.785298  0.279213  \n",
       "2  0.907551 -0.303641  0.251087 -1.379047 -0.889456 -1.313709  \n",
       "3  0.039270  0.503746 -1.094189  0.683781  1.343549 -0.517248  \n",
       "4 -0.829011  2.522214  1.260043  0.271215  0.785298 -0.517248  "
      ]
     },
     "execution_count": 14,
     "metadata": {},
     "output_type": "execute_result"
    }
   ],
   "source": [
    "pd.DataFrame(data = X, columns = features).head()"
   ]
  },
  {
   "cell_type": "code",
   "execution_count": 15,
   "metadata": {},
   "outputs": [
    {
     "data": {
      "text/html": [
       "<div>\n",
       "<style scoped>\n",
       "    .dataframe tbody tr th:only-of-type {\n",
       "        vertical-align: middle;\n",
       "    }\n",
       "\n",
       "    .dataframe tbody tr th {\n",
       "        vertical-align: top;\n",
       "    }\n",
       "\n",
       "    .dataframe thead th {\n",
       "        text-align: right;\n",
       "    }\n",
       "</style>\n",
       "<table border=\"1\" class=\"dataframe\">\n",
       "  <thead>\n",
       "    <tr style=\"text-align: right;\">\n",
       "      <th></th>\n",
       "      <th>PC1</th>\n",
       "      <th>PC2</th>\n",
       "      <th>PC3</th>\n",
       "      <th>PC4</th>\n",
       "      <th>PC5</th>\n",
       "    </tr>\n",
       "  </thead>\n",
       "  <tbody>\n",
       "    <tr>\n",
       "      <th>0</th>\n",
       "      <td>-17.952950</td>\n",
       "      <td>2.356429</td>\n",
       "      <td>-1.777810</td>\n",
       "      <td>3.718544</td>\n",
       "      <td>0.193279</td>\n",
       "    </tr>\n",
       "    <tr>\n",
       "      <th>1</th>\n",
       "      <td>9.828171</td>\n",
       "      <td>8.621977</td>\n",
       "      <td>-3.791179</td>\n",
       "      <td>-4.596661</td>\n",
       "      <td>-0.525060</td>\n",
       "    </tr>\n",
       "    <tr>\n",
       "      <th>2</th>\n",
       "      <td>17.994919</td>\n",
       "      <td>-0.628736</td>\n",
       "      <td>-3.874605</td>\n",
       "      <td>-1.002148</td>\n",
       "      <td>1.716410</td>\n",
       "    </tr>\n",
       "    <tr>\n",
       "      <th>3</th>\n",
       "      <td>-12.982524</td>\n",
       "      <td>0.453224</td>\n",
       "      <td>0.980332</td>\n",
       "      <td>2.308992</td>\n",
       "      <td>-4.081459</td>\n",
       "    </tr>\n",
       "    <tr>\n",
       "      <th>4</th>\n",
       "      <td>-10.588852</td>\n",
       "      <td>2.670985</td>\n",
       "      <td>-2.466977</td>\n",
       "      <td>5.529782</td>\n",
       "      <td>-0.587947</td>\n",
       "    </tr>\n",
       "  </tbody>\n",
       "</table>\n",
       "</div>"
      ],
      "text/plain": [
       "         PC1       PC2       PC3       PC4       PC5\n",
       "0 -17.952950  2.356429 -1.777810  3.718544  0.193279\n",
       "1   9.828171  8.621977 -3.791179 -4.596661 -0.525060\n",
       "2  17.994919 -0.628736 -3.874605 -1.002148  1.716410\n",
       "3 -12.982524  0.453224  0.980332  2.308992 -4.081459\n",
       "4 -10.588852  2.670985 -2.466977  5.529782 -0.587947"
      ]
     },
     "execution_count": 15,
     "metadata": {},
     "output_type": "execute_result"
    }
   ],
   "source": [
    "# Feature Extraction - Principal Component Analysis\n",
    "from sklearn.decomposition import PCA\n",
    "pca = PCA(n_components=5)\n",
    "principalComponents = pca.fit_transform (x)\n",
    "principalDf = pd.DataFrame(data = principalComponents, columns=['PC1','PC2','PC3','PC4','PC5']) #PC = Principal component \n",
    "principalDf.head()"
   ]
  },
  {
   "cell_type": "code",
   "execution_count": 16,
   "metadata": {},
   "outputs": [],
   "source": [
    "finalDf = pd.concat([principalDf,df1[['Seq']]], axis = 1)\n",
    "#finalDf.tail()"
   ]
  },
  {
   "cell_type": "code",
   "execution_count": 17,
   "metadata": {},
   "outputs": [],
   "source": [
    "# drop the target column\n",
    "#Target= finalDf['A16']          \n",
    "#df2=finalDf.drop(['A16'],axis=1)\n",
    "Target= df1['Seq']          \n",
    "df2=df1.drop(['Seq'],axis=1)"
   ]
  },
  {
   "cell_type": "code",
   "execution_count": 18,
   "metadata": {},
   "outputs": [],
   "source": [
    "#split dataset(df2) into training and testing \n",
    "X_train_nonstd,X_test_nonstd,Y_train,Y_test = train_test_split(df2,Target,test_size=0.20,random_state = 30)"
   ]
  },
  {
   "cell_type": "code",
   "execution_count": 19,
   "metadata": {},
   "outputs": [],
   "source": [
    "#Standardization\n",
    "sc=StandardScaler()\n",
    "X_train=sc.fit_transform(X_train_nonstd)\n",
    "X_test=sc.transform(X_test_nonstd)"
   ]
  },
  {
   "cell_type": "code",
   "execution_count": 20,
   "metadata": {},
   "outputs": [],
   "source": [
    "# configure to select all features\n",
    "fs = SelectKBest(score_func=f_classif, k='all')\n",
    "# learn relationship from training data\n",
    "fs.fit(X_train, Y_train)\n",
    "# transform train input data\n",
    "X_train = fs.transform(X_train)\n",
    "# transform test input data\n",
    "X_test = fs.transform(X_test)"
   ]
  },
  {
   "cell_type": "code",
   "execution_count": 21,
   "metadata": {},
   "outputs": [
    {
     "name": "stdout",
     "output_type": "stream",
     "text": [
      "Feature 0: 26.376390\n",
      "Feature 1: 3705.679441\n",
      "Feature 2: 5173.162631\n",
      "Feature 3: 0.107559\n",
      "Feature 4: 261.300123\n",
      "Feature 5: 22.358109\n",
      "Feature 6: 334.186382\n",
      "Feature 7: 0.490351\n",
      "Feature 8: 92.153426\n",
      "Feature 9: 61.672410\n",
      "Feature 10: 166.756609\n",
      "Feature 11: 19.674297\n"
     ]
    },
    {
     "data": {
      "image/png": "[encoded data removed]",
      "text/plain": [
       "<Figure size 576x360 with 1 Axes>"
      ]
     },
     "metadata": {},
     "output_type": "display_data"
    }
   ],
   "source": [
    "# what are scores for the features\n",
    "for i in range(len(fs.scores_)):\n",
    "    print('Feature %d: %f' % (i, fs.scores_[i]))\n",
    "# plot the scores\n",
    "plt.bar([i for i in range(len(fs.scores_))], fs.scores_)\n",
    "plt.xlabel('Features')\n",
    "plt.show()"
   ]
  },
  {
   "cell_type": "markdown",
   "metadata": {},
   "source": [
    "## Logistic Regression"
   ]
  },
  {
   "cell_type": "code",
   "execution_count": 22,
   "metadata": {},
   "outputs": [
    {
     "name": "stdout",
     "output_type": "stream",
     "text": [
      "Logistic Regression: 0.993971 (0.003210)\n"
     ]
    }
   ],
   "source": [
    "#Logistic Regression\n",
    "model = LogisticRegression(solver='lbfgs')\n",
    "kfold = StratifiedKFold(n_splits=10, random_state=1, shuffle=True)\n",
    "cv_results = cross_val_score(model, X_train, Y_train, cv=kfold, scoring='accuracy')\n",
    "print('%s: %f (%f)' % (\"Logistic Regression\", cv_results.mean(), cv_results.std()))"
   ]
  },
  {
   "cell_type": "code",
   "execution_count": 23,
   "metadata": {},
   "outputs": [
    {
     "data": {
      "text/plain": [
       "LogisticRegression()"
      ]
     },
     "execution_count": 23,
     "metadata": {},
     "output_type": "execute_result"
    }
   ],
   "source": [
    "model.fit(X_train, Y_train)"
   ]
  },
  {
   "cell_type": "code",
   "execution_count": 24,
   "metadata": {},
   "outputs": [
    {
     "name": "stdout",
     "output_type": "stream",
     "text": [
      "time elapsed 148.58388900756836 milli seconds\n"
     ]
    }
   ],
   "source": [
    "start = time.time()\n",
    "\n",
    "model = LogisticRegression()\n",
    "model.fit(X_train, Y_train)\n",
    "\n",
    "end = time.time()\n",
    "training_time = format((end-start)*1000)\n",
    "print(\"time elapsed {} milli seconds\".format((end-start)*1000))"
   ]
  },
  {
   "cell_type": "code",
   "execution_count": 25,
   "metadata": {},
   "outputs": [
    {
     "name": "stdout",
     "output_type": "stream",
     "text": [
      "time elapsed 6.283998489379883 milli seconds\n"
     ]
    }
   ],
   "source": [
    "# make class predictions for the testing set\n",
    "start = time.time()\n",
    "y_pred_class = model.predict(X_test)\n",
    "end = time.time()\n",
    "test_time = format((end-start)*1000)\n",
    "print(\"time elapsed {} milli seconds\".format((end-start)*1000))"
   ]
  },
  {
   "cell_type": "code",
   "execution_count": 26,
   "metadata": {},
   "outputs": [
    {
     "name": "stdout",
     "output_type": "stream",
     "text": [
      "[[ 284    0]\n",
      " [   7 2073]]\n"
     ]
    },
    {
     "data": {
      "image/png": "[encoded data removed]",
      "text/plain": [
       "<Figure size 576x360 with 2 Axes>"
      ]
     },
     "metadata": {},
     "output_type": "display_data"
    }
   ],
   "source": [
    "# Confusion Matrix\n",
    "conf_matrix = confusion_matrix(Y_test, y_pred_class)\n",
    "print(conf_matrix) #display confusion matrix\n",
    "y_true = [\"good\", \"bad\"]\n",
    "#y_pred = [\"good\", \"bad\"]\n",
    "df_cm = pd.DataFrame(conf_matrix, columns=np.unique(y_true), index = np.unique(y_true))\n",
    "df_cm.index.name = 'Actual'\n",
    "df_cm.columns.name = 'Predicted'\n",
    "df_cm.dtypes\n",
    "plt.figure(figsize = (8,5))\n",
    "cm_title='Confusion Matrix' + \" Logistic Regression\"\n",
    "plt.title(cm_title)\n",
    "sns.set(font_scale=1.4)#for label size\n",
    "sns.heatmap(df_cm, cmap=\"Blues\", annot=True,annot_kws={\"size\": 16})# font size\n",
    "# Save the Pie\n",
    "plt.savefig('../images/'+cm_title+'_confusion_matrix.png')\n",
    "plt.show()"
   ]
  },
  {
   "cell_type": "code",
   "execution_count": 27,
   "metadata": {},
   "outputs": [
    {
     "name": "stdout",
     "output_type": "stream",
     "text": [
      "Accuracy : 0.9970\n",
      "Classification Error Rate : 0.0030\n",
      "Precision : 1.0000\n",
      "Sensitivity/Recall :0.9966\n",
      "Specificity : 1.0000\n",
      "False Positive Rate : 0.0000\n",
      "False Negative Rate : 0.0034\n",
      "F1-Measure : 0.9983\n",
      "cross val score: : 0.9941\n"
     ]
    }
   ],
   "source": [
    "#[row, column]\n",
    "TP = conf_matrix[1, 1]\n",
    "TN = conf_matrix[0, 0]\n",
    "FP = conf_matrix[0, 1]\n",
    "FN = conf_matrix[1, 0]\n",
    "\n",
    "# Classification Accuracy\n",
    "# use float to perform true division, not integer division\n",
    "accuracy = ((TP + TN) / float(TP + TN + FP + FN))\n",
    "#accuracy = accuracy_score(Y_test, y_pred_class)\n",
    "print(\"Accuracy : %.4f\" %accuracy)\n",
    "\n",
    "# Classification Error/Misclassification Rate = 1 - accuracy\n",
    "classification_error = (FP + FN) / float(TP + TN + FP + FN)\n",
    "print(\"Classification Error Rate : %.4f\" %(classification_error))\n",
    "\n",
    "# Precision\n",
    "precision = TP / float(TP + FP)\n",
    "print(\"Precision : %.4f\" %(precision))\n",
    "#print(\"Precision : %.4f\" %(precision_score(Y_test, y_pred)))\n",
    "\n",
    "# Sensitivity or Recall or True Positive Rate\n",
    "sensitivity = TP / float(FN + TP)\n",
    "print(\"Sensitivity/Recall :%.4f\" %(sensitivity))\n",
    "#print(\"Sensitivity/Recall : %.4f\" %(recall_score(Y_test, y_pred)))\n",
    "\n",
    "# Specificity oe true negative rate\n",
    "specificity = TN / (TN + FP)\n",
    "print(\"Specificity : %.4f\" %(specificity))\n",
    "\n",
    "# False Positive Rate (1 - specificity))\n",
    "false_positive_rate = FP / float(TN + FP)\n",
    "print(\"False Positive Rate : %.4f\" %(false_positive_rate))\n",
    "\n",
    "# False Negative Rate\n",
    "false_negative_rate = FN / float(TP + FN)\n",
    "print(\"False Negative Rate : %.4f\" %(false_negative_rate))\n",
    "\n",
    "# F1 Measure (F1 Score) = 2 * ((precision * sensitivity)/(precision + sensitivity))\n",
    "F1_measure = 2* ((precision * sensitivity)/(precision + sensitivity))\n",
    "print(\"F1-Measure : %.4f\" %(F1_measure))\n",
    "\n",
    "# Cross Validation is used to check the model is not overfitting\n",
    "c_v_score = cross_val_score(model,X_train,Y_train,cv = 10).mean()\n",
    "print(\"cross val score: : %.4f\" %(c_v_score))"
   ]
  },
  {
   "cell_type": "code",
   "execution_count": 28,
   "metadata": {},
   "outputs": [
    {
     "name": "stdout",
     "output_type": "stream",
     "text": [
      "\n",
      "\n",
      "Area Under Curve (Logistic Regression): 1.00\n",
      "\n",
      "\n"
     ]
    },
    {
     "data": {
      "image/png": "[encoded data removed]",
      "text/plain": [
       "<Figure size 576x360 with 1 Axes>"
      ]
     },
     "metadata": {},
     "output_type": "display_data"
    }
   ],
   "source": [
    "# ROC Curve   \n",
    "fpr, tpr, thresholds = roc_curve(Y_test, y_pred_class)\n",
    "fig, ax = plt.subplots()\n",
    "ax.plot(fpr, tpr)\n",
    "ax.plot([0, 1], [0, 1], transform=ax.transAxes, ls=\"--\", c=\".3\")\n",
    "plt.xlim([0.0, 1.0])\n",
    "plt.ylim([0.0, 1.0])\n",
    "plt.rcParams['font.size'] = 12\n",
    "plt.xlabel('False Positive Rate (1 - Specificity)')\n",
    "plt.ylabel('True Positive Rate (Sensitivity)')\n",
    "plt.grid(True)\n",
    "print (\"\\n\")\n",
    "print (\"Area Under Curve (Logistic Regression): %.2f\" %auc(fpr, tpr))\n",
    "print (\"\\n\")\n",
    "plt.show()\n",
    "a_u_c = auc(fpr, tpr)"
   ]
  },
  {
   "cell_type": "code",
   "execution_count": 29,
   "metadata": {},
   "outputs": [],
   "source": [
    "matrix_table=[[\"Logistic Regression\", accuracy, classification_error, precision, \n",
    "               sensitivity, specificity, false_positive_rate, F1_measure, a_u_c, c_v_score,\"{:.4f}\".format(float(training_time)), \n",
    "               \"{:.4f}\".format((float)(test_time))]]"
   ]
  },
  {
   "cell_type": "markdown",
   "metadata": {},
   "source": [
    "## SVM"
   ]
  },
  {
   "cell_type": "code",
   "execution_count": 30,
   "metadata": {},
   "outputs": [
    {
     "name": "stdout",
     "output_type": "stream",
     "text": [
      "time elapsed 80316.97297096252 milli seconds\n"
     ]
    }
   ],
   "source": [
    "params = {'C': [0.75, 0.85, 0.95, 1], 'kernel': ['linear', 'poly', 'rbf', 'sigmoid'], \n",
    "          'degree': [3, 4, 5]}\n",
    "\n",
    "start = time.time()\n",
    "\n",
    "clf = SVC(random_state=42)\n",
    "grid_search_cv = GridSearchCV(clf, params)\n",
    "grid_search_cv.fit(X_train, Y_train)\n",
    "\n",
    "#run best estimator\n",
    "clf = grid_search_cv.best_estimator_\n",
    "clf.fit(X_train,Y_train)\n",
    "\n",
    "end = time.time()\n",
    "training_time = format((end-start)*1000)\n",
    "print(\"time elapsed {} milli seconds\".format((end-start)*1000))"
   ]
  },
  {
   "cell_type": "code",
   "execution_count": 31,
   "metadata": {},
   "outputs": [
    {
     "name": "stdout",
     "output_type": "stream",
     "text": [
      "SVC(C=0.95, degree=5, kernel='poly', random_state=42)\n",
      "{'C': 0.95, 'degree': 5, 'kernel': 'poly'}\n"
     ]
    }
   ],
   "source": [
    "print(grid_search_cv.best_estimator_)\n",
    "print(grid_search_cv.best_params_)"
   ]
  },
  {
   "cell_type": "code",
   "execution_count": 32,
   "metadata": {},
   "outputs": [
    {
     "name": "stdout",
     "output_type": "stream",
     "text": [
      "time elapsed 108.32977294921875 milli seconds\n"
     ]
    }
   ],
   "source": [
    "# run SVM predictor\n",
    "start=time.time()\n",
    "y_pred = clf.predict(X_test)\n",
    "end = time.time()\n",
    "test_time = format((end-start)*1000)\n",
    "print(\"time elapsed {} milli seconds\".format((end-start)*1000))"
   ]
  },
  {
   "cell_type": "code",
   "execution_count": 33,
   "metadata": {},
   "outputs": [
    {
     "name": "stdout",
     "output_type": "stream",
     "text": [
      "[[ 284    0]\n",
      " [   7 2073]]\n"
     ]
    },
    {
     "data": {
      "image/png": "[encoded data removed]",
      "text/plain": [
       "<Figure size 576x360 with 2 Axes>"
      ]
     },
     "metadata": {},
     "output_type": "display_data"
    }
   ],
   "source": [
    "# Confusion Matrix\n",
    "conf_matrix = confusion_matrix(Y_test, y_pred_class)\n",
    "print(conf_matrix) #display confusion matrix\n",
    "y_true = [\"good\", \"bad\"]\n",
    "#y_pred = [\"good\", \"bad\"]\n",
    "df_cm = pd.DataFrame(conf_matrix, columns=np.unique(y_true), index = np.unique(y_true))\n",
    "df_cm.index.name = 'Actual'\n",
    "df_cm.columns.name = 'Predicted'\n",
    "df_cm.dtypes\n",
    "plt.figure(figsize = (8,5))\n",
    "\n",
    "cm_title='Confusion Matrix' + \" SVM\"\n",
    "plt.title(cm_title)\n",
    "sns.set(font_scale=1.4)#for label size\n",
    "sns.heatmap(df_cm, cmap=\"Blues\", annot=True,annot_kws={\"size\": 16})# font size\n",
    "# Save the Pie\n",
    "plt.savefig('../images/'+cm_title+'_confusion_matrix.png')\n",
    "plt.show()"
   ]
  },
  {
   "cell_type": "code",
   "execution_count": 34,
   "metadata": {},
   "outputs": [
    {
     "name": "stdout",
     "output_type": "stream",
     "text": [
      "Accuracy : 0.9970\n",
      "Classification Error Rate : 0.0030\n",
      "Precision : 1.0000\n",
      "Sensitivity/Recall :0.9966\n",
      "Specificity : 1.0000\n",
      "False Positive Rate : 0.0000\n",
      "False Negative Rate : 0.0034\n",
      "F1-Measure : 0.9983\n",
      "cross val score: : 0.9941\n"
     ]
    }
   ],
   "source": [
    "#[row, column]\n",
    "TP = conf_matrix[1, 1]\n",
    "TN = conf_matrix[0, 0]\n",
    "FP = conf_matrix[0, 1]\n",
    "FN = conf_matrix[1, 0]\n",
    "\n",
    "# Classification Accuracy\n",
    "# use float to perform true division, not integer division\n",
    "accuracy = ((TP + TN) / float(TP + TN + FP + FN))\n",
    "#accuracy = accuracy_score(Y_test, y_pred_class)\n",
    "print(\"Accuracy : %.4f\" %accuracy)\n",
    "\n",
    "# Classification Error/Misclassification Rate = 1 - accuracy\n",
    "classification_error = (FP + FN) / float(TP + TN + FP + FN)\n",
    "print(\"Classification Error Rate : %.4f\" %(classification_error))\n",
    "\n",
    "# Precision\n",
    "precision = TP / float(TP + FP)\n",
    "print(\"Precision : %.4f\" %(precision))\n",
    "#print(\"Precision : %.4f\" %(precision_score(Y_test, y_pred)))\n",
    "\n",
    "# Sensitivity or Recall or True Positive Rate\n",
    "sensitivity = TP / float(FN + TP)\n",
    "print(\"Sensitivity/Recall :%.4f\" %(sensitivity))\n",
    "#print(\"Sensitivity/Recall : %.4f\" %(recall_score(Y_test, y_pred)))\n",
    "\n",
    "# Specificity oe true negative rate\n",
    "specificity = TN / (TN + FP)\n",
    "print(\"Specificity : %.4f\" %(specificity))\n",
    "\n",
    "# False Positive Rate (1 - specificity))\n",
    "false_positive_rate = FP / float(TN + FP)\n",
    "print(\"False Positive Rate : %.4f\" %(false_positive_rate))\n",
    "\n",
    "# False Negative Rate\n",
    "false_negative_rate = FN / float(TP + FN)\n",
    "print(\"False Negative Rate : %.4f\" %(false_negative_rate))\n",
    "\n",
    "# F1 Measure (F1 Score) = 2 * ((precision * sensitivity)/(precision + sensitivity))\n",
    "F1_measure = 2* ((precision * sensitivity)/(precision + sensitivity))\n",
    "print(\"F1-Measure : %.4f\" %(F1_measure))\n",
    "\n",
    "# Cross Validation is used to check the model is not overfitting\n",
    "c_v_score = cross_val_score(model,X_train,Y_train,cv = 10).mean()\n",
    "print(\"cross val score: : %.4f\" %(c_v_score))"
   ]
  },
  {
   "cell_type": "code",
   "execution_count": 35,
   "metadata": {},
   "outputs": [
    {
     "name": "stdout",
     "output_type": "stream",
     "text": [
      "\n",
      "\n",
      "Area Under Curve (SVM): 1.00\n",
      "\n",
      "\n"
     ]
    },
    {
     "data": {
      "image/png": "[encoded data removed]",
      "text/plain": [
       "<Figure size 576x360 with 1 Axes>"
      ]
     },
     "metadata": {},
     "output_type": "display_data"
    }
   ],
   "source": [
    "# ROC Curve   \n",
    "fpr, tpr, thresholds = roc_curve(Y_test, y_pred_class)\n",
    "fig, ax = plt.subplots()\n",
    "ax.plot(fpr, tpr)\n",
    "ax.plot([0, 1], [0, 1], transform=ax.transAxes, ls=\"--\", c=\".3\")\n",
    "plt.xlim([0.0, 1.0])\n",
    "plt.ylim([0.0, 1.0])\n",
    "plt.rcParams['font.size'] = 12\n",
    "plt.xlabel('False Positive Rate (1 - Specificity)')\n",
    "plt.ylabel('True Positive Rate (Sensitivity)')\n",
    "plt.grid(True)\n",
    "print (\"\\n\")\n",
    "print (\"Area Under Curve (SVM): %.2f\" %auc(fpr, tpr))\n",
    "print (\"\\n\")\n",
    "plt.show()\n",
    "a_u_c = auc(fpr, tpr)"
   ]
  },
  {
   "cell_type": "code",
   "execution_count": 36,
   "metadata": {},
   "outputs": [],
   "source": [
    "matrix_table.append([\"SVM\", accuracy, classification_error, precision, \n",
    "               sensitivity, specificity, false_positive_rate, F1_measure, a_u_c, c_v_score,\"{:.4f}\".format(float(training_time)), \n",
    "               \"{:.4f}\".format((float)(test_time))])"
   ]
  },
  {
   "cell_type": "markdown",
   "metadata": {},
   "source": [
    "## Random Forest"
   ]
  },
  {
   "cell_type": "code",
   "execution_count": null,
   "metadata": {},
   "outputs": [],
   "source": [
    "start=time.time()\n",
    "rfc_clf = RandomForestClassifier()\n",
    "params = {'n_estimators':[25,50,100,150,200,500],'max_depth':[0.5,1,5,10],'random_state':[1,10,20,42],\n",
    "          'n_jobs':[1,2]}\n",
    "grid_search_cv = GridSearchCV(rfc_clf, params, scoring='precision')\n",
    "grid_search_cv.fit(X_train, Y_train)\n",
    "\n",
    "end = time.time()\n",
    "training_time = ((end-start)*1000)\n",
    "print(\"time elapsed {} milli seconds\".format((end-start)*1000))"
   ]
  },
  {
   "cell_type": "code",
   "execution_count": null,
   "metadata": {},
   "outputs": [],
   "source": [
    "print(grid_search_cv.best_estimator_)\n",
    "print(grid_search_cv.best_params_)"
   ]
  },
  {
   "cell_type": "code",
   "execution_count": null,
   "metadata": {},
   "outputs": [],
   "source": [
    "start=time.time()\n",
    "rfc_clf = grid_search_cv.best_estimator_\n",
    "rfc_clf.fit(X_train,Y_train)\n",
    "end = time.time()\n",
    "training_time = training_time + ((end-start)*1000)\n",
    "print(\"time elapsed {} milli seconds\".format((end-start)*1000))\n",
    "\n",
    "start=time.time()\n",
    "rfc_clf_pred = rfc_clf.predict(X_test)\n",
    "end = time.time()\n",
    "test_time = format((end-start)*1000)\n",
    "print(\"time elapsed {} milli seconds\".format((end-start)*1000))\n",
    "print('Accuracy:',accuracy_score(rfc_clf_pred,Y_test) )\n",
    "print('Confusion Matrix:', confusion_matrix(rfc_clf_pred,Y_test).ravel()) #tn,fp,fn,tp\n",
    "conf_matrix = confusion_matrix(rfc_clf_pred, Y_test)\n",
    "print('Classification report:')\n",
    "print(classification_report(rfc_clf_pred,Y_test))"
   ]
  },
  {
   "cell_type": "code",
   "execution_count": null,
   "metadata": {},
   "outputs": [],
   "source": [
    "# Confusion Matrix\n",
    "conf_matrix = confusion_matrix(Y_test, y_pred_class)\n",
    "print(conf_matrix) #display confusion matrix\n",
    "y_true = [\"good\", \"bad\"]\n",
    "#y_pred = [\"good\", \"bad\"]\n",
    "df_cm = pd.DataFrame(conf_matrix, columns=np.unique(y_true), index = np.unique(y_true))\n",
    "df_cm.index.name = 'Actual'\n",
    "df_cm.columns.name = 'Predicted'\n",
    "df_cm.dtypes\n",
    "plt.figure(figsize = (8,5))\n",
    "cm_title='Confusion Matrix' + \" Random Forest\"\n",
    "plt.title(cm_title)\n",
    "sns.set(font_scale=1.4)#for label size\n",
    "sns.heatmap(df_cm, cmap=\"Blues\", annot=True,annot_kws={\"size\": 16})# font size\n",
    "# Save the Pie\n",
    "plt.savefig('../images/'+cm_title+'_confusion_matrix.png')\n",
    "\n",
    "plt.show()"
   ]
  },
  {
   "cell_type": "code",
   "execution_count": null,
   "metadata": {},
   "outputs": [],
   "source": [
    "#[row, column]\n",
    "TP = conf_matrix[1, 1]\n",
    "TN = conf_matrix[0, 0]\n",
    "FP = conf_matrix[0, 1]\n",
    "FN = conf_matrix[1, 0]\n",
    "\n",
    "# Classification Accuracy\n",
    "# use float to perform true division, not integer division\n",
    "accuracy = ((TP + TN) / float(TP + TN + FP + FN))\n",
    "#accuracy = accuracy_score(Y_test, y_pred_class)\n",
    "print(\"Accuracy : %.4f\" %accuracy)\n",
    "\n",
    "# Classification Error/Misclassification Rate = 1 - accuracy\n",
    "classification_error = (FP + FN) / float(TP + TN + FP + FN)\n",
    "print(\"Classification Error Rate : %.4f\" %(classification_error))\n",
    "\n",
    "# Precision\n",
    "precision = TP / float(TP + FP)\n",
    "print(\"Precision : %.4f\" %(precision))\n",
    "#print(\"Precision : %.4f\" %(precision_score(Y_test, y_pred)))\n",
    "\n",
    "# Sensitivity or Recall or True Positive Rate\n",
    "sensitivity = TP / float(FN + TP)\n",
    "print(\"Sensitivity/Recall :%.4f\" %(sensitivity))\n",
    "#print(\"Sensitivity/Recall : %.4f\" %(recall_score(Y_test, y_pred)))\n",
    "\n",
    "# Specificity oe true negative rate\n",
    "specificity = TN / (TN + FP)\n",
    "print(\"Specificity : %.4f\" %(specificity))\n",
    "\n",
    "# False Positive Rate (1 - specificity))\n",
    "false_positive_rate = FP / float(TN + FP)\n",
    "print(\"False Positive Rate : %.4f\" %(false_positive_rate))\n",
    "\n",
    "# False Negative Rate\n",
    "false_negative_rate = FN / float(TP + FN)\n",
    "print(\"False Negative Rate : %.4f\" %(false_negative_rate))\n",
    "\n",
    "# F1 Measure (F1 Score) = 2 * ((precision * sensitivity)/(precision + sensitivity))\n",
    "F1_measure = 2* ((precision * sensitivity)/(precision + sensitivity))\n",
    "print(\"F1-Measure : %.4f\" %(F1_measure))\n",
    "\n",
    "# Cross Validation is used to check the model is not overfitting\n",
    "c_v_score = cross_val_score(model,X_train,Y_train,cv = 10).mean()\n",
    "print(\"cross val score: : %.4f\" %(c_v_score))"
   ]
  },
  {
   "cell_type": "code",
   "execution_count": null,
   "metadata": {},
   "outputs": [],
   "source": [
    "# ROC Curve   \n",
    "fpr, tpr, thresholds = roc_curve(Y_test, y_pred_class)\n",
    "fig, ax = plt.subplots()\n",
    "ax.plot(fpr, tpr)\n",
    "ax.plot([0, 1], [0, 1], transform=ax.transAxes, ls=\"--\", c=\".3\")\n",
    "plt.xlim([0.0, 1.0])\n",
    "plt.ylim([0.0, 1.0])\n",
    "plt.rcParams['font.size'] = 12\n",
    "plt.xlabel('False Positive Rate (1 - Specificity)')\n",
    "plt.ylabel('True Positive Rate (Sensitivity)')\n",
    "plt.grid(True)\n",
    "print (\"\\n\")\n",
    "print (\"Area Under Curve (RF): %.2f\" %auc(fpr, tpr))\n",
    "print (\"\\n\")\n",
    "plt.show()\n",
    "a_u_c = auc(fpr, tpr)"
   ]
  },
  {
   "cell_type": "code",
   "execution_count": null,
   "metadata": {},
   "outputs": [],
   "source": [
    "matrix_table.append([\"Random Forest\", accuracy, classification_error, precision, \n",
    "               sensitivity, specificity, false_positive_rate, F1_measure, a_u_c, c_v_score,\"{:.4f}\".format(float(training_time)), \n",
    "               \"{:.4f}\".format((float)(test_time))])"
   ]
  },
  {
   "cell_type": "code",
   "execution_count": null,
   "metadata": {},
   "outputs": [],
   "source": [
    "#print(matrix_table)"
   ]
  },
  {
   "cell_type": "markdown",
   "metadata": {},
   "source": [
    "## Compare the metrics"
   ]
  },
  {
   "cell_type": "code",
   "execution_count": null,
   "metadata": {
    "scrolled": true
   },
   "outputs": [],
   "source": [
    "#convert metrics table into a dataframe\n",
    "metricsDF = pd.DataFrame(matrix_table, columns=['Model', 'Accuracy', 'Error Rate', 'Precision', \n",
    "    'Sensitivity', 'Specificity','False Positve Rate', 'F1_measure', 'ROC-AUC','Cross Validation Score','Model Training Time','Model Runtime on Test data'])\n",
    "display(metricsDF)"
   ]
  },
  {
   "cell_type": "code",
   "execution_count": null,
   "metadata": {},
   "outputs": [],
   "source": [
    "#switch the table to have the models as columns and statistics as rows\n",
    "metricsDFT = metricsDF.transpose()\n",
    "metricsDFT.columns = metricsDFT.iloc[0]\n",
    "metricsDFT1=metricsDFT.drop('Model')\n",
    "metricsDFT1"
   ]
  },
  {
   "cell_type": "code",
   "execution_count": null,
   "metadata": {},
   "outputs": [],
   "source": []
  },
  {
   "cell_type": "markdown",
   "metadata": {},
   "source": [
    "## Model Selection"
   ]
  },
  {
   "cell_type": "code",
   "execution_count": null,
   "metadata": {},
   "outputs": [],
   "source": [
    "#Model Selection\n",
    "# Logistic Regression, Random Forrest, CNN etc."
   ]
  }
 ],
 "metadata": {
  "kernelspec": {
   "display_name": "Python 3",
   "language": "python",
   "name": "python3"
  },
  "language_info": {
   "codemirror_mode": {
    "name": "ipython",
    "version": 3
   },
   "file_extension": ".py",
   "mimetype": "text/x-python",
   "name": "python",
   "nbconvert_exporter": "python",
   "pygments_lexer": "ipython3",
   "version": "3.8.5"
  }
 },
 "nbformat": 4,
 "nbformat_minor": 4
}
