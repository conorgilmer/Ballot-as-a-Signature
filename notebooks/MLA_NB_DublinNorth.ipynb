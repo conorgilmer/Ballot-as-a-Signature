{
 "cells": [
  {
   "cell_type": "code",
   "execution_count": 1,
   "metadata": {},
   "outputs": [],
   "source": [
    "# Import libraries and classes required for this example:\n",
    "from sklearn.model_selection import train_test_split\n",
    "from sklearn.preprocessing import StandardScaler \n",
    "from sklearn.neighbors import KNeighborsClassifier\n",
    "from sklearn.metrics import classification_report, confusion_matrix, roc_curve, roc_auc_score, auc\n",
    "from sklearn.model_selection import cross_val_score\n",
    "import pandas as pd \n",
    "import time\n",
    "# Import dataset:\n",
    "#input file\n",
    "constituency_name=\"DublinNorth2002\"\n",
    "constituency=constituency_name+\"_merged\"\n",
    "#url='../data/processed/'+constituency+'_dist.csv'\n",
    "urltxt=constituency+'_dist.csv'\n",
    "url='https://raw.githubusercontent.com/conorgilmer/Ballot-as-a-signature/master/data/processed/'+urltxt\n",
    "\n",
    "# Assign column names to dataset:\n",
    "\n",
    "# Convert dataset to a pandas dataframe:\n",
    "dataset = pd.read_csv(url,  na_values=[\"Missing\"], header=[0]) "
   ]
  },
  {
   "cell_type": "code",
   "execution_count": 2,
   "metadata": {},
   "outputs": [
    {
     "data": {
      "text/plain": [
       "(39289, 13)"
      ]
     },
     "execution_count": 2,
     "metadata": {},
     "output_type": "execute_result"
    }
   ],
   "source": [
    "dataset.shape"
   ]
  },
  {
   "cell_type": "code",
   "execution_count": 3,
   "metadata": {},
   "outputs": [
    {
     "name": "stdout",
     "output_type": "stream",
     "text": [
      "Index(['Unnamed: 0', '1', '2', '3', '4', '5', '6', '7', '8', '9', '10', '11',\n",
      "       'Seq'],\n",
      "      dtype='object')\n"
     ]
    },
    {
     "data": {
      "text/html": [
       "<div>\n",
       "<style scoped>\n",
       "    .dataframe tbody tr th:only-of-type {\n",
       "        vertical-align: middle;\n",
       "    }\n",
       "\n",
       "    .dataframe tbody tr th {\n",
       "        vertical-align: top;\n",
       "    }\n",
       "\n",
       "    .dataframe thead th {\n",
       "        text-align: right;\n",
       "    }\n",
       "</style>\n",
       "<table border=\"1\" class=\"dataframe\">\n",
       "  <thead>\n",
       "    <tr style=\"text-align: right;\">\n",
       "      <th></th>\n",
       "      <th>Unnamed: 0</th>\n",
       "      <th>1</th>\n",
       "      <th>2</th>\n",
       "      <th>3</th>\n",
       "      <th>4</th>\n",
       "      <th>5</th>\n",
       "      <th>6</th>\n",
       "      <th>7</th>\n",
       "      <th>8</th>\n",
       "      <th>9</th>\n",
       "      <th>10</th>\n",
       "      <th>11</th>\n",
       "      <th>Seq</th>\n",
       "    </tr>\n",
       "  </thead>\n",
       "  <tbody>\n",
       "    <tr>\n",
       "      <th>0</th>\n",
       "      <td>0</td>\n",
       "      <td>0.000000</td>\n",
       "      <td>0.000000</td>\n",
       "      <td>3.465545</td>\n",
       "      <td>2.236068</td>\n",
       "      <td>0.000000</td>\n",
       "      <td>0.000000</td>\n",
       "      <td>0.000000</td>\n",
       "      <td>0.000000</td>\n",
       "      <td>0.000000</td>\n",
       "      <td>0.0</td>\n",
       "      <td>0.000000</td>\n",
       "      <td>1</td>\n",
       "    </tr>\n",
       "    <tr>\n",
       "      <th>1</th>\n",
       "      <td>1</td>\n",
       "      <td>6.020797</td>\n",
       "      <td>11.629703</td>\n",
       "      <td>4.301163</td>\n",
       "      <td>4.301163</td>\n",
       "      <td>0.000000</td>\n",
       "      <td>0.000000</td>\n",
       "      <td>0.000000</td>\n",
       "      <td>0.000000</td>\n",
       "      <td>0.000000</td>\n",
       "      <td>0.0</td>\n",
       "      <td>0.000000</td>\n",
       "      <td>1</td>\n",
       "    </tr>\n",
       "    <tr>\n",
       "      <th>2</th>\n",
       "      <td>2</td>\n",
       "      <td>1.004988</td>\n",
       "      <td>0.000000</td>\n",
       "      <td>6.363961</td>\n",
       "      <td>2.915476</td>\n",
       "      <td>1.581139</td>\n",
       "      <td>7.433034</td>\n",
       "      <td>10.689247</td>\n",
       "      <td>0.000000</td>\n",
       "      <td>3.465545</td>\n",
       "      <td>0.0</td>\n",
       "      <td>4.609772</td>\n",
       "      <td>1</td>\n",
       "    </tr>\n",
       "    <tr>\n",
       "      <th>3</th>\n",
       "      <td>3</td>\n",
       "      <td>6.363961</td>\n",
       "      <td>1.004988</td>\n",
       "      <td>1.004988</td>\n",
       "      <td>1.004988</td>\n",
       "      <td>3.465545</td>\n",
       "      <td>0.000000</td>\n",
       "      <td>0.000000</td>\n",
       "      <td>0.000000</td>\n",
       "      <td>0.000000</td>\n",
       "      <td>0.0</td>\n",
       "      <td>0.000000</td>\n",
       "      <td>1</td>\n",
       "    </tr>\n",
       "    <tr>\n",
       "      <th>4</th>\n",
       "      <td>4</td>\n",
       "      <td>2.915476</td>\n",
       "      <td>6.020797</td>\n",
       "      <td>11.629703</td>\n",
       "      <td>4.301163</td>\n",
       "      <td>4.301163</td>\n",
       "      <td>4.301163</td>\n",
       "      <td>0.000000</td>\n",
       "      <td>3.465545</td>\n",
       "      <td>0.000000</td>\n",
       "      <td>0.0</td>\n",
       "      <td>0.000000</td>\n",
       "      <td>1</td>\n",
       "    </tr>\n",
       "    <tr>\n",
       "      <th>...</th>\n",
       "      <td>...</td>\n",
       "      <td>...</td>\n",
       "      <td>...</td>\n",
       "      <td>...</td>\n",
       "      <td>...</td>\n",
       "      <td>...</td>\n",
       "      <td>...</td>\n",
       "      <td>...</td>\n",
       "      <td>...</td>\n",
       "      <td>...</td>\n",
       "      <td>...</td>\n",
       "      <td>...</td>\n",
       "      <td>...</td>\n",
       "    </tr>\n",
       "    <tr>\n",
       "      <th>39284</th>\n",
       "      <td>39284</td>\n",
       "      <td>3.465545</td>\n",
       "      <td>3.465545</td>\n",
       "      <td>2.236068</td>\n",
       "      <td>6.363961</td>\n",
       "      <td>11.629703</td>\n",
       "      <td>4.301163</td>\n",
       "      <td>0.000000</td>\n",
       "      <td>0.000000</td>\n",
       "      <td>0.000000</td>\n",
       "      <td>0.0</td>\n",
       "      <td>0.000000</td>\n",
       "      <td>0</td>\n",
       "    </tr>\n",
       "    <tr>\n",
       "      <th>39285</th>\n",
       "      <td>39285</td>\n",
       "      <td>7.433034</td>\n",
       "      <td>7.433034</td>\n",
       "      <td>3.465545</td>\n",
       "      <td>1.004988</td>\n",
       "      <td>0.000000</td>\n",
       "      <td>1.004988</td>\n",
       "      <td>0.000000</td>\n",
       "      <td>0.000000</td>\n",
       "      <td>0.000000</td>\n",
       "      <td>0.0</td>\n",
       "      <td>0.000000</td>\n",
       "      <td>0</td>\n",
       "    </tr>\n",
       "    <tr>\n",
       "      <th>39286</th>\n",
       "      <td>39286</td>\n",
       "      <td>7.138627</td>\n",
       "      <td>3.465545</td>\n",
       "      <td>2.236068</td>\n",
       "      <td>6.020797</td>\n",
       "      <td>10.689247</td>\n",
       "      <td>0.000000</td>\n",
       "      <td>0.000000</td>\n",
       "      <td>0.000000</td>\n",
       "      <td>0.000000</td>\n",
       "      <td>0.0</td>\n",
       "      <td>0.000000</td>\n",
       "      <td>0</td>\n",
       "    </tr>\n",
       "    <tr>\n",
       "      <th>39287</th>\n",
       "      <td>39287</td>\n",
       "      <td>3.465545</td>\n",
       "      <td>3.465545</td>\n",
       "      <td>3.465545</td>\n",
       "      <td>4.301163</td>\n",
       "      <td>3.605551</td>\n",
       "      <td>3.605551</td>\n",
       "      <td>0.000000</td>\n",
       "      <td>0.000000</td>\n",
       "      <td>0.000000</td>\n",
       "      <td>0.0</td>\n",
       "      <td>0.000000</td>\n",
       "      <td>0</td>\n",
       "    </tr>\n",
       "    <tr>\n",
       "      <th>39288</th>\n",
       "      <td>39288</td>\n",
       "      <td>1.004988</td>\n",
       "      <td>1.004988</td>\n",
       "      <td>8.139410</td>\n",
       "      <td>7.138627</td>\n",
       "      <td>0.000000</td>\n",
       "      <td>3.067572</td>\n",
       "      <td>0.000000</td>\n",
       "      <td>0.000000</td>\n",
       "      <td>0.000000</td>\n",
       "      <td>0.0</td>\n",
       "      <td>0.000000</td>\n",
       "      <td>0</td>\n",
       "    </tr>\n",
       "  </tbody>\n",
       "</table>\n",
       "<p>39289 rows × 13 columns</p>\n",
       "</div>"
      ],
      "text/plain": [
       "       Unnamed: 0         1          2          3         4          5  \\\n",
       "0               0  0.000000   0.000000   3.465545  2.236068   0.000000   \n",
       "1               1  6.020797  11.629703   4.301163  4.301163   0.000000   \n",
       "2               2  1.004988   0.000000   6.363961  2.915476   1.581139   \n",
       "3               3  6.363961   1.004988   1.004988  1.004988   3.465545   \n",
       "4               4  2.915476   6.020797  11.629703  4.301163   4.301163   \n",
       "...           ...       ...        ...        ...       ...        ...   \n",
       "39284       39284  3.465545   3.465545   2.236068  6.363961  11.629703   \n",
       "39285       39285  7.433034   7.433034   3.465545  1.004988   0.000000   \n",
       "39286       39286  7.138627   3.465545   2.236068  6.020797  10.689247   \n",
       "39287       39287  3.465545   3.465545   3.465545  4.301163   3.605551   \n",
       "39288       39288  1.004988   1.004988   8.139410  7.138627   0.000000   \n",
       "\n",
       "              6          7         8         9   10        11  Seq  \n",
       "0      0.000000   0.000000  0.000000  0.000000  0.0  0.000000    1  \n",
       "1      0.000000   0.000000  0.000000  0.000000  0.0  0.000000    1  \n",
       "2      7.433034  10.689247  0.000000  3.465545  0.0  4.609772    1  \n",
       "3      0.000000   0.000000  0.000000  0.000000  0.0  0.000000    1  \n",
       "4      4.301163   0.000000  3.465545  0.000000  0.0  0.000000    1  \n",
       "...         ...        ...       ...       ...  ...       ...  ...  \n",
       "39284  4.301163   0.000000  0.000000  0.000000  0.0  0.000000    0  \n",
       "39285  1.004988   0.000000  0.000000  0.000000  0.0  0.000000    0  \n",
       "39286  0.000000   0.000000  0.000000  0.000000  0.0  0.000000    0  \n",
       "39287  3.605551   0.000000  0.000000  0.000000  0.0  0.000000    0  \n",
       "39288  3.067572   0.000000  0.000000  0.000000  0.0  0.000000    0  \n",
       "\n",
       "[39289 rows x 13 columns]"
      ]
     },
     "metadata": {},
     "output_type": "display_data"
    }
   ],
   "source": [
    "print(dataset.columns)\n",
    "display(dataset)"
   ]
  },
  {
   "cell_type": "code",
   "execution_count": 4,
   "metadata": {},
   "outputs": [],
   "source": [
    "# Use head() function to return the first 5 rows: \n",
    "dataset.head() \n",
    "# Assign values to the X and y variables:\n",
    "X = dataset.iloc[:, :-1].values\n",
    "y = dataset.iloc[:, 12].values #Dublin north"
   ]
  },
  {
   "cell_type": "code",
   "execution_count": 5,
   "metadata": {},
   "outputs": [
    {
     "name": "stdout",
     "output_type": "stream",
     "text": [
      "[1 1 1 ... 0 0 0]\n"
     ]
    }
   ],
   "source": [
    "print(y)"
   ]
  },
  {
   "cell_type": "code",
   "execution_count": 6,
   "metadata": {},
   "outputs": [],
   "source": [
    "# Split dataset into random train and test subsets:\n",
    "X_train, X_test, y_train, y_test = train_test_split(X, y, test_size=0.20) \n",
    "\n",
    "#from sklearn.preprocessing import StandardScaler\n",
    "sc = StandardScaler()\n",
    "X_train = sc.fit_transform(X_train)\n",
    "X_test = sc.transform(X_test)\n"
   ]
  },
  {
   "cell_type": "code",
   "execution_count": 7,
   "metadata": {},
   "outputs": [
    {
     "name": "stdout",
     "output_type": "stream",
     "text": [
      "trainingtime elapsed 46.40674591064453 milli seconds\n"
     ]
    }
   ],
   "source": [
    "from sklearn.naive_bayes import GaussianNB\n",
    "classifier = GaussianNB()\n",
    "\n",
    "start = time.time()\n",
    "classifier.fit(X_train, y_train)\n",
    "\n",
    "end = time.time()\n",
    "\n",
    "training_time = format((end-start)*1000)\n",
    "print(\"trainingtime elapsed {} milli seconds\".format((end-start)*1000))"
   ]
  },
  {
   "cell_type": "code",
   "execution_count": 8,
   "metadata": {},
   "outputs": [
    {
     "name": "stdout",
     "output_type": "stream",
     "text": [
      "testing time elapsed 9.7808837890625 milli seconds\n"
     ]
    }
   ],
   "source": [
    "\n",
    "start = time.time()\n",
    "y_pred  =  classifier.predict(X_test)\n",
    "\n",
    "end = time.time()\n",
    "\n",
    "test_time = format((end-start)*1000)\n",
    "print(\"testing time elapsed {} milli seconds\".format((end-start)*1000))\n",
    "#y_pred"
   ]
  },
  {
   "cell_type": "code",
   "execution_count": 9,
   "metadata": {},
   "outputs": [
    {
     "name": "stdout",
     "output_type": "stream",
     "text": [
      "[0 1 1 ... 0 0 0]\n"
     ]
    }
   ],
   "source": [
    "print(y_pred)"
   ]
  },
  {
   "cell_type": "code",
   "execution_count": 10,
   "metadata": {},
   "outputs": [],
   "source": [
    "from sklearn.metrics import accuracy_score\n",
    "cm = confusion_matrix(y_test, y_pred)\n",
    "ac = accuracy_score(y_test,y_pred)"
   ]
  },
  {
   "cell_type": "code",
   "execution_count": 11,
   "metadata": {},
   "outputs": [
    {
     "name": "stdout",
     "output_type": "stream",
     "text": [
      "0.6709086281496563\n",
      "[[3984    0]\n",
      " [2586 1288]]\n"
     ]
    }
   ],
   "source": [
    "print(ac)\n",
    "print(cm)"
   ]
  },
  {
   "cell_type": "code",
   "execution_count": 12,
   "metadata": {},
   "outputs": [
    {
     "name": "stdout",
     "output_type": "stream",
     "text": [
      "[[3984    0]\n",
      " [2586 1288]]\n",
      "              precision    recall  f1-score   support\n",
      "\n",
      "           0       0.61      1.00      0.75      3984\n",
      "           1       1.00      0.33      0.50      3874\n",
      "\n",
      "    accuracy                           0.67      7858\n",
      "   macro avg       0.80      0.67      0.63      7858\n",
      "weighted avg       0.80      0.67      0.63      7858\n",
      "\n"
     ]
    }
   ],
   "source": [
    "# Print results: \n",
    "print(confusion_matrix(y_test, y_pred))\n",
    "print(classification_report(y_test, y_pred)) "
   ]
  },
  {
   "cell_type": "code",
   "execution_count": 13,
   "metadata": {
    "scrolled": true
   },
   "outputs": [
    {
     "name": "stdout",
     "output_type": "stream",
     "text": [
      "[[3984    0]\n",
      " [2586 1288]]\n"
     ]
    },
    {
     "data": {
      "image/png": "[encoded data removed]",
      "text/plain": [
       "<Figure size 576x360 with 2 Axes>"
      ]
     },
     "metadata": {
      "needs_background": "light"
     },
     "output_type": "display_data"
    }
   ],
   "source": [
    "import numpy as np\n",
    "import matplotlib.pyplot as plt\n",
    "import seaborn as sns\n",
    "# Confusion Matrix\n",
    "conf_matrix = confusion_matrix(y_test, y_pred)\n",
    "print(conf_matrix) #display confusion matrix\n",
    "y_true = [\"good\", \"bad\"]\n",
    "#y_pred = [\"good\", \"bad\"]\n",
    "df_cm = pd.DataFrame(conf_matrix, columns=np.unique(y_true), index = np.unique(y_true))\n",
    "df_cm.index.name = 'Actual'\n",
    "df_cm.columns.name = 'Predicted'\n",
    "df_cm.dtypes\n",
    "plt.figure(figsize = (8,5))\n",
    "plt.title('Confusion Matrix' + \" Naive Bayes Classifer - \" + constituency_name)\n",
    "sns.set(font_scale=1.4)#for label size\n",
    "sns.heatmap(df_cm, cmap=\"Blues\", annot=True,annot_kws={\"size\": 16})# font size\n",
    "plt.show()"
   ]
  },
  {
   "cell_type": "code",
   "execution_count": 14,
   "metadata": {},
   "outputs": [
    {
     "name": "stdout",
     "output_type": "stream",
     "text": [
      "\n",
      "\n",
      "Area Under Curve (NB): 0.67\n",
      "\n",
      "\n"
     ]
    },
    {
     "data": {
      "image/png": "[encoded data removed]",
      "text/plain": [
       "<Figure size 432x288 with 1 Axes>"
      ]
     },
     "metadata": {},
     "output_type": "display_data"
    }
   ],
   "source": [
    "\n",
    "# ROC Curve   \n",
    "fpr, tpr, thresholds = roc_curve(y_test, y_pred)\n",
    "fig, ax = plt.subplots()\n",
    "ax.plot(fpr, tpr)\n",
    "ax.plot([0, 1], [0, 1], transform=ax.transAxes, ls=\"--\", c=\".3\")\n",
    "plt.xlim([0.0, 1.0])\n",
    "plt.ylim([0.0, 1.0])\n",
    "plt.rcParams['font.size'] = 12\n",
    "plt.xlabel('False Positive Rate (1 - Specificity)')\n",
    "plt.ylabel('True Positive Rate (Sensitivity)')\n",
    "plt.grid(True)\n",
    "print (\"\\n\")\n",
    "print (\"Area Under Curve (NB): %.2f\" %auc(fpr, tpr))\n",
    "print (\"\\n\")\n",
    "plt.show()\n",
    "a_u_c = auc(fpr, tpr)"
   ]
  },
  {
   "cell_type": "code",
   "execution_count": 15,
   "metadata": {},
   "outputs": [
    {
     "name": "stdout",
     "output_type": "stream",
     "text": [
      "Accuracy : 0.6709\n",
      "Classification Error Rate : 0.3291\n",
      "Precision : 1.0000\n",
      "Sensitivity/Recall :0.3325\n",
      "Specificity : 1.0000\n",
      "False Positive Rate : 0.0000\n",
      "False Negative Rate : 0.6675\n",
      "F1-Measure : 0.4990\n",
      "cross val score: : 0.6755\n",
      "Training Time : 46.4067\n",
      "Testing Time : 9.7809\n"
     ]
    }
   ],
   "source": [
    "#[row, column]\n",
    "TP = conf_matrix[1, 1]\n",
    "TN = conf_matrix[0, 0]\n",
    "FP = conf_matrix[0, 1]\n",
    "FN = conf_matrix[1, 0]\n",
    "\n",
    "# Classification Accuracy\n",
    "# use float to perform true division, not integer division\n",
    "accuracy = ((TP + TN) / float(TP + TN + FP + FN))\n",
    "#accuracy = accuracy_score(Y_test, y_pred_class)\n",
    "print(\"Accuracy : %.4f\" %accuracy)\n",
    "\n",
    "# Classification Error/Misclassification Rate = 1 - accuracy\n",
    "classification_error = (FP + FN) / float(TP + TN + FP + FN)\n",
    "print(\"Classification Error Rate : %.4f\" %(classification_error))\n",
    "\n",
    "# Precision\n",
    "precision = TP / float(TP + FP)\n",
    "print(\"Precision : %.4f\" %(precision))\n",
    "#print(\"Precision : %.4f\" %(precision_score(Y_test, y_pred)))\n",
    "\n",
    "# Sensitivity or Recall or True Positive Rate\n",
    "sensitivity = TP / float(FN + TP)\n",
    "print(\"Sensitivity/Recall :%.4f\" %(sensitivity))\n",
    "#print(\"Sensitivity/Recall : %.4f\" %(recall_score(Y_test, y_pred)))\n",
    "\n",
    "# Specificity oe true negative rate\n",
    "specificity = TN / (TN + FP)\n",
    "print(\"Specificity : %.4f\" %(specificity))\n",
    "\n",
    "# False Positive Rate (1 - specificity))\n",
    "false_positive_rate = FP / float(TN + FP)\n",
    "print(\"False Positive Rate : %.4f\" %(false_positive_rate))\n",
    "\n",
    "# False Negative Rate\n",
    "false_negative_rate = FN / float(TP + FN)\n",
    "print(\"False Negative Rate : %.4f\" %(false_negative_rate))\n",
    "\n",
    "# F1 Measure (F1 Score) = 2 * ((precision * sensitivity)/(precision + sensitivity))\n",
    "F1_measure = 2* ((precision * sensitivity)/(precision + sensitivity))\n",
    "print(\"F1-Measure : %.4f\" %(F1_measure))\n",
    "\n",
    "# Cross Validation is used to check the model is not overfitting\n",
    "c_v_score = cross_val_score(classifier,X_train,y_train,cv = 10).mean()\n",
    "print(\"cross val score: : %.4f\" %(c_v_score))\n",
    "\n",
    "# Training time\n",
    "print(\"Training Time : %.4f\" % float(training_time))\n",
    "\n",
    "# Test time\n",
    "print(\"Testing Time : %.4f\" %float(test_time))"
   ]
  },
  {
   "cell_type": "code",
   "execution_count": null,
   "metadata": {},
   "outputs": [],
   "source": []
  }
 ],
 "metadata": {
  "kernelspec": {
   "display_name": "Python 3",
   "language": "python",
   "name": "python3"
  },
  "language_info": {
   "codemirror_mode": {
    "name": "ipython",
    "version": 3
   },
   "file_extension": ".py",
   "mimetype": "text/x-python",
   "name": "python",
   "nbconvert_exporter": "python",
   "pygments_lexer": "ipython3",
   "version": "3.8.5"
  }
 },
 "nbformat": 4,
 "nbformat_minor": 4
}
