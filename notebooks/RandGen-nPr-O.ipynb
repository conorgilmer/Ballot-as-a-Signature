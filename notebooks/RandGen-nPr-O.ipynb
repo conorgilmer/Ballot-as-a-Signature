{
 "cells": [
  {
   "cell_type": "markdown",
   "metadata": {},
   "source": [
    "# Generate Random numbers nPr with r between 2 values"
   ]
  },
  {
   "cell_type": "code",
   "execution_count": 1,
   "metadata": {},
   "outputs": [],
   "source": [
    "#generate random permutations nPr = P(n,r) = n!/(n-r)!\n",
    "import random\n",
    "import itertools\n",
    "import pandas as pd\n",
    "import numpy as np\n",
    "\n",
    "#constituency = 'Meath2002'\n",
    "#constituency = 'DublinNorth2002'\n",
    "#constituency = 'DublinWest2002'\n",
    "#n = 14 #candidates (Meath 14, Dublin North 12, Dublin West 9)\n",
    "#r = 7  #preference cast\n",
    "#o = 25000 #number of permutations to be generated (25000, 20000, 10000)\n",
    "\n",
    "(constituency, n, r, o, eucMax) = ('DublinWest2002', 9, 6, 40000, 44.5)\n",
    "#(constituency, n, r, o, eucMax) = ('DublinWest2002', 9, 7, 20000, 47.2)\n",
    "#(constituency, n, r, o, eucMax) = ('DublinWest2002', 9, 8, 20000, 50.0)\n",
    "#(constituency, n, r, o, eucMax) = ('DublinNorth2002', 12, 7, 40000, 46.3)\n",
    "#(constituency, n, r, o, eucMax) = ('DublinNorth2002', 12, 8, 40000, 49.0)\n",
    "#(constituency, n, r, o, eucMax) = ('DublinNorth2002', 12, 9, 40000, 52.0)\n",
    "#(constituency, n, r, o, eucMax) = ('Meath2002', 14, 7, 25000, 32.0)\n",
    "#0(constituency, n, r, o, eucMax) = ('Meath2002', 14, 8, 25000, 37.3)\n",
    "#(constituency, n, r, o, eucMax) = ('Meath2002', 14, 9, 25000, 40.2)\n",
    "\n",
    "nlist = list(range(1, n+1)) \n",
    "\n",
    "#generate a list of a number o of random perumtations nPr \n",
    "randGenPer = random.sample(list(itertools.permutations(nlist, r)), o)"
   ]
  },
  {
   "cell_type": "markdown",
   "metadata": {},
   "source": [
    "## Convert the permutation lists into a list of votes"
   ]
  },
  {
   "cell_type": "code",
   "execution_count": 2,
   "metadata": {},
   "outputs": [],
   "source": [
    "#function to convert a permutation list into vote\n",
    "def listToVote(listgen, num):\n",
    "    voteList=[]\n",
    "    for j in range(num):\n",
    "        voteList.append(np.NaN)\n",
    "    #print(voteList)\n",
    "\n",
    "    for k in range(len(listgen)):\n",
    "        voteList[listgen[k]-1] =k+1 \n",
    "    return(voteList)\n",
    "    "
   ]
  },
  {
   "cell_type": "code",
   "execution_count": 3,
   "metadata": {},
   "outputs": [],
   "source": [
    "#convert each of the permutations generated into a vote\n",
    "votesGen=[]\n",
    "for row in randGenPer:\n",
    "    #print(row)\n",
    "    votesGen.append(listToVote(row,n))\n",
    "#print(votesGen)"
   ]
  },
  {
   "cell_type": "markdown",
   "metadata": {},
   "source": [
    "## Get columns form regular file"
   ]
  },
  {
   "cell_type": "code",
   "execution_count": 4,
   "metadata": {},
   "outputs": [
    {
     "name": "stdout",
     "output_type": "stream",
     "text": [
      "Index(['Unnamed: 0', 'GP', 'LB', 'FF', 'SP', 'FF.1', 'SF', 'PD', 'NP', 'FG'], dtype='object')\n",
      "Index(['GP', 'LB', 'FF', 'SP', 'FF.1', 'SF', 'PD', 'NP', 'FG'], dtype='object')\n"
     ]
    }
   ],
   "source": [
    "#read in regular file to get column name\n",
    "#input file\n",
    "#constituency=\"DublinNorth2002\"\n",
    "my_csv='../data/'+constituency+'.csv'\n",
    "#read in data (setting 1st row as header)\n",
    "dfR = pd.read_csv(my_csv, na_values=[\"Missing\"], header=[0])\n",
    "\n",
    "print(dfR.columns)\n",
    "\n",
    "#drop the numbers column (#df=df.drop(['No.'], 1))\n",
    "dfR = dfR.drop(dfR.columns[[0]], axis=1)  # df.columns is zero-based pd.Index\n",
    "#reset index to start a 1 and not 0\n",
    "dfR.index = dfR.index + 1\n",
    "print(dfR.columns)"
   ]
  },
  {
   "cell_type": "markdown",
   "metadata": {},
   "source": [
    "## get political compass data "
   ]
  },
  {
   "cell_type": "code",
   "execution_count": 5,
   "metadata": {},
   "outputs": [
    {
     "name": "stdout",
     "output_type": "stream",
     "text": [
      "Irish Parties on Political Compass\n",
      "  party  xaxis  yaxis\n",
      "0    SP   -7.0   -2.5\n",
      "1    SF   -4.5    1.0\n",
      "2    GP   -1.0   -2.0\n",
      "3    NP    0.0    0.0\n",
      "4    LB    1.5   -0.5\n",
      "5    FF    2.5    2.4\n",
      "6    FG    3.5    2.5\n",
      "7    PD    4.0    3.0\n"
     ]
    }
   ],
   "source": [
    "#download compass data positioning irish political parties on the political spectrum\n",
    "pcData='../data/pc.csv'\n",
    "\n",
    "#set column names\n",
    "col_names = ['party', 'xaxis', 'yaxis']\n",
    "#read in political compass data\n",
    "dfPC = pd.read_csv(pcData, na_values=[\"Missing\"], names=col_names)\n",
    "print(\"Irish Parties on Political Compass\")\n",
    "print(dfPC)\n",
    "points=[]\n",
    "points = dfPC.party\n",
    "x=[] #x-axis coordinates\n",
    "y=[] #y-axis coordinates\n",
    "pt=[]\n",
    "\n",
    "#populate two lists with the x and y - coordinates\n",
    "for p in points:\n",
    "    pt.append(dfPC.party)\n",
    "    x.append(dfPC.xaxis)\n",
    "    y.append(dfPC.yaxis)"
   ]
  },
  {
   "cell_type": "code",
   "execution_count": 6,
   "metadata": {},
   "outputs": [
    {
     "name": "stdout",
     "output_type": "stream",
     "text": [
      "['GP', 'LB', 'FF', 'SP', 'FF.1', 'SF', 'PD', 'NP', 'FG']\n",
      "['GP', 'LB', 'FF', 'SP', 'FF', 'SF', 'PD', 'NP', 'FG']\n"
     ]
    }
   ],
   "source": [
    "# get the party initials (1 characters) from the column names i.e. remove .1 .2 L Retc\n",
    "#print(df.columns)\n",
    "partiesList= list(dfR.columns)\n",
    "#del partiesList[-1] #max values not added yet\n",
    "print(partiesList)\n",
    "partiesList2=[]\n",
    "for pl in partiesList:\n",
    "    #print(pl[:2] )\n",
    "    partiesList2.append(pl[:2])\n",
    "print(partiesList2)"
   ]
  },
  {
   "cell_type": "code",
   "execution_count": 7,
   "metadata": {},
   "outputs": [],
   "source": [
    "def getEuclidVoteDetails(voteRow, dfPC):\n",
    "    #populate 3 lists with text, x co-ord and y co-ord\n",
    "    partyPCList = dfPC.party.tolist()\n",
    "   # print(\"partyList\",partyPCList)\n",
    "    xi=[]\n",
    "    yi=[]\n",
    "    pp=[]\n",
    "    for d in voteRow:\n",
    "        inx=partyPCList.index(d)\n",
    "        pp.append(dfPC.iloc[inx].tolist()[0])\n",
    "        xi.append(dfPC.iloc[inx].tolist()[1])\n",
    "        yi.append(dfPC.iloc[inx].tolist()[2])\n",
    "\n",
    "   # for ip in range(len(pp)):\n",
    "   #     print(f\"{ip+1} - {pp[ip]} ({xi[ip]}, {yi[ip]})\")\n",
    "\n",
    "    #Calculate the eculidean distance a vote travels on the political spectrum\n",
    "    dist = 0\n",
    "    total_dist=0\n",
    "    for pl in range(len(pp)):\n",
    "    # initializing points in # numpy arrays      \n",
    "        if pl != (len(pp)-1):\n",
    "            point1 = np.array((xi[pl],yi[pl]))\n",
    "            point2 = np.array((xi[pl+1],yi[pl+1]))\n",
    "\n",
    "    #calculating Euclidean distance # using linalg.norm()\n",
    "            dist = np.linalg.norm(point1 - point2)\n",
    "            #print(f\"Euclidean distance between vote {pl+1} and {pl+2} is {dist}\")\n",
    "            total_dist = total_dist + dist\n",
    " #   print(total_dist, len(pp))\n",
    "    if len(pp) > 1:\n",
    "        avg_dist = total_dist/(len(pp)-1)    \n",
    "    else:\n",
    "        avg_dist = total_dist\n",
    "    #print(\"Total Distance Travelled on Political Compass as a vote transfers \", total_dist)\n",
    "    #print(\"Average Distance Travelled on Political Compass of each vote transfers \", avg_dist)\n",
    "\n",
    "    return(total_dist, avg_dist)"
   ]
  },
  {
   "cell_type": "code",
   "execution_count": 8,
   "metadata": {},
   "outputs": [],
   "source": [
    "def getVotesParty(voterow, partieslegend):\n",
    "    #convert a vote row into parties initials\n",
    "    voteP=[]\n",
    "    for v in range(len(voterow)):\n",
    "        for w in range(len(voterow)):\n",
    "            if voterow[w] == v+1:\n",
    "                voteP.append(partieslegend[w])\n",
    "    return(voteP)"
   ]
  },
  {
   "cell_type": "markdown",
   "metadata": {},
   "source": [
    "## Make data frame from list and write to file"
   ]
  },
  {
   "cell_type": "code",
   "execution_count": 9,
   "metadata": {},
   "outputs": [],
   "source": [
    "#generate data frame from list\n",
    "dfRandGenPer = pd.DataFrame(votesGen, columns=dfR.columns)\n",
    "#drop all dublicate rows keeping last one\n",
    "dfRandGenPer.drop_duplicates(keep='last', inplace=True)"
   ]
  },
  {
   "cell_type": "code",
   "execution_count": 10,
   "metadata": {},
   "outputs": [],
   "source": [
    "#add a column of the maximum count of the rows(highest preference vote cast)\n",
    "dfRandGenPer['maxValues'] = dfRandGenPer.max(axis = 1)\n",
    "\n",
    "#drop all dublicate rows keeping last one\n",
    "dfRandGenPer.drop_duplicates(keep='last', inplace=True, subset=dfRandGenPer.columns.difference(['maxValues']))"
   ]
  },
  {
   "cell_type": "code",
   "execution_count": 11,
   "metadata": {},
   "outputs": [
    {
     "name": "stdout",
     "output_type": "stream",
     "text": [
      "Index(['GP', 'LB', 'FF', 'SP', 'FF.1', 'SF', 'PD', 'NP', 'FG', 'maxValues'], dtype='object')\n",
      "['GP', 'LB', 'FF', 'SP', 'FF', 'SF', 'PD', 'NP', 'FG']\n"
     ]
    }
   ],
   "source": [
    "print(dfRandGenPer.columns)\n",
    "print(partiesList2)"
   ]
  },
  {
   "cell_type": "code",
   "execution_count": 12,
   "metadata": {},
   "outputs": [
    {
     "data": {
      "text/html": [
       "<div>\n",
       "<style scoped>\n",
       "    .dataframe tbody tr th:only-of-type {\n",
       "        vertical-align: middle;\n",
       "    }\n",
       "\n",
       "    .dataframe tbody tr th {\n",
       "        vertical-align: top;\n",
       "    }\n",
       "\n",
       "    .dataframe thead th {\n",
       "        text-align: right;\n",
       "    }\n",
       "</style>\n",
       "<table border=\"1\" class=\"dataframe\">\n",
       "  <thead>\n",
       "    <tr style=\"text-align: right;\">\n",
       "      <th></th>\n",
       "      <th>GP</th>\n",
       "      <th>LB</th>\n",
       "      <th>FF</th>\n",
       "      <th>SP</th>\n",
       "      <th>FF.1</th>\n",
       "      <th>SF</th>\n",
       "      <th>PD</th>\n",
       "      <th>NP</th>\n",
       "      <th>FG</th>\n",
       "      <th>maxValues</th>\n",
       "      <th>Euclid Dist</th>\n",
       "      <th>Avg. Euc. Dist</th>\n",
       "    </tr>\n",
       "  </thead>\n",
       "  <tbody>\n",
       "    <tr>\n",
       "      <th>39990</th>\n",
       "      <td>1.0</td>\n",
       "      <td>NaN</td>\n",
       "      <td>3.0</td>\n",
       "      <td>5.0</td>\n",
       "      <td>2.0</td>\n",
       "      <td>NaN</td>\n",
       "      <td>4.0</td>\n",
       "      <td>NaN</td>\n",
       "      <td>6.0</td>\n",
       "      <td>6.0</td>\n",
       "      <td>31.165904</td>\n",
       "      <td>6.233181</td>\n",
       "    </tr>\n",
       "    <tr>\n",
       "      <th>39991</th>\n",
       "      <td>2.0</td>\n",
       "      <td>NaN</td>\n",
       "      <td>3.0</td>\n",
       "      <td>1.0</td>\n",
       "      <td>6.0</td>\n",
       "      <td>4.0</td>\n",
       "      <td>NaN</td>\n",
       "      <td>NaN</td>\n",
       "      <td>5.0</td>\n",
       "      <td>6.0</td>\n",
       "      <td>27.926100</td>\n",
       "      <td>5.585220</td>\n",
       "    </tr>\n",
       "    <tr>\n",
       "      <th>39992</th>\n",
       "      <td>NaN</td>\n",
       "      <td>1.0</td>\n",
       "      <td>3.0</td>\n",
       "      <td>2.0</td>\n",
       "      <td>NaN</td>\n",
       "      <td>5.0</td>\n",
       "      <td>4.0</td>\n",
       "      <td>6.0</td>\n",
       "      <td>NaN</td>\n",
       "      <td>6.0</td>\n",
       "      <td>34.378818</td>\n",
       "      <td>6.875764</td>\n",
       "    </tr>\n",
       "    <tr>\n",
       "      <th>39993</th>\n",
       "      <td>5.0</td>\n",
       "      <td>NaN</td>\n",
       "      <td>3.0</td>\n",
       "      <td>NaN</td>\n",
       "      <td>4.0</td>\n",
       "      <td>NaN</td>\n",
       "      <td>2.0</td>\n",
       "      <td>6.0</td>\n",
       "      <td>1.0</td>\n",
       "      <td>6.0</td>\n",
       "      <td>10.181001</td>\n",
       "      <td>2.036200</td>\n",
       "    </tr>\n",
       "    <tr>\n",
       "      <th>39994</th>\n",
       "      <td>1.0</td>\n",
       "      <td>NaN</td>\n",
       "      <td>5.0</td>\n",
       "      <td>3.0</td>\n",
       "      <td>NaN</td>\n",
       "      <td>2.0</td>\n",
       "      <td>NaN</td>\n",
       "      <td>6.0</td>\n",
       "      <td>4.0</td>\n",
       "      <td>6.0</td>\n",
       "      <td>25.011170</td>\n",
       "      <td>5.002234</td>\n",
       "    </tr>\n",
       "    <tr>\n",
       "      <th>39995</th>\n",
       "      <td>NaN</td>\n",
       "      <td>3.0</td>\n",
       "      <td>4.0</td>\n",
       "      <td>6.0</td>\n",
       "      <td>NaN</td>\n",
       "      <td>2.0</td>\n",
       "      <td>1.0</td>\n",
       "      <td>5.0</td>\n",
       "      <td>NaN</td>\n",
       "      <td>6.0</td>\n",
       "      <td>28.882934</td>\n",
       "      <td>5.776587</td>\n",
       "    </tr>\n",
       "    <tr>\n",
       "      <th>39996</th>\n",
       "      <td>NaN</td>\n",
       "      <td>2.0</td>\n",
       "      <td>1.0</td>\n",
       "      <td>6.0</td>\n",
       "      <td>NaN</td>\n",
       "      <td>NaN</td>\n",
       "      <td>4.0</td>\n",
       "      <td>3.0</td>\n",
       "      <td>5.0</td>\n",
       "      <td>6.0</td>\n",
       "      <td>21.985521</td>\n",
       "      <td>4.397104</td>\n",
       "    </tr>\n",
       "    <tr>\n",
       "      <th>39997</th>\n",
       "      <td>5.0</td>\n",
       "      <td>2.0</td>\n",
       "      <td>6.0</td>\n",
       "      <td>1.0</td>\n",
       "      <td>NaN</td>\n",
       "      <td>NaN</td>\n",
       "      <td>3.0</td>\n",
       "      <td>NaN</td>\n",
       "      <td>4.0</td>\n",
       "      <td>6.0</td>\n",
       "      <td>25.726632</td>\n",
       "      <td>5.145326</td>\n",
       "    </tr>\n",
       "    <tr>\n",
       "      <th>39998</th>\n",
       "      <td>NaN</td>\n",
       "      <td>1.0</td>\n",
       "      <td>NaN</td>\n",
       "      <td>4.0</td>\n",
       "      <td>NaN</td>\n",
       "      <td>3.0</td>\n",
       "      <td>2.0</td>\n",
       "      <td>5.0</td>\n",
       "      <td>6.0</td>\n",
       "      <td>6.0</td>\n",
       "      <td>29.068647</td>\n",
       "      <td>5.813729</td>\n",
       "    </tr>\n",
       "    <tr>\n",
       "      <th>39999</th>\n",
       "      <td>2.0</td>\n",
       "      <td>NaN</td>\n",
       "      <td>1.0</td>\n",
       "      <td>NaN</td>\n",
       "      <td>6.0</td>\n",
       "      <td>5.0</td>\n",
       "      <td>NaN</td>\n",
       "      <td>4.0</td>\n",
       "      <td>3.0</td>\n",
       "      <td>6.0</td>\n",
       "      <td>28.035800</td>\n",
       "      <td>5.607160</td>\n",
       "    </tr>\n",
       "  </tbody>\n",
       "</table>\n",
       "</div>"
      ],
      "text/plain": [
       "        GP   LB   FF   SP  FF.1   SF   PD   NP   FG  maxValues  Euclid Dist  \\\n",
       "39990  1.0  NaN  3.0  5.0   2.0  NaN  4.0  NaN  6.0        6.0    31.165904   \n",
       "39991  2.0  NaN  3.0  1.0   6.0  4.0  NaN  NaN  5.0        6.0    27.926100   \n",
       "39992  NaN  1.0  3.0  2.0   NaN  5.0  4.0  6.0  NaN        6.0    34.378818   \n",
       "39993  5.0  NaN  3.0  NaN   4.0  NaN  2.0  6.0  1.0        6.0    10.181001   \n",
       "39994  1.0  NaN  5.0  3.0   NaN  2.0  NaN  6.0  4.0        6.0    25.011170   \n",
       "39995  NaN  3.0  4.0  6.0   NaN  2.0  1.0  5.0  NaN        6.0    28.882934   \n",
       "39996  NaN  2.0  1.0  6.0   NaN  NaN  4.0  3.0  5.0        6.0    21.985521   \n",
       "39997  5.0  2.0  6.0  1.0   NaN  NaN  3.0  NaN  4.0        6.0    25.726632   \n",
       "39998  NaN  1.0  NaN  4.0   NaN  3.0  2.0  5.0  6.0        6.0    29.068647   \n",
       "39999  2.0  NaN  1.0  NaN   6.0  5.0  NaN  4.0  3.0        6.0    28.035800   \n",
       "\n",
       "       Avg. Euc. Dist  \n",
       "39990        6.233181  \n",
       "39991        5.585220  \n",
       "39992        6.875764  \n",
       "39993        2.036200  \n",
       "39994        5.002234  \n",
       "39995        5.776587  \n",
       "39996        4.397104  \n",
       "39997        5.145326  \n",
       "39998        5.813729  \n",
       "39999        5.607160  "
      ]
     },
     "metadata": {},
     "output_type": "display_data"
    }
   ],
   "source": [
    "#calculate the euclidean distance for all rows\n",
    "EuclidDist = []\n",
    "AvgEucDist =[]\n",
    "for dft5 in range(len(dfRandGenPer)):\n",
    "    #print(dft5)\n",
    "    #remove max values form \n",
    "    dftR = list(dfRandGenPer.iloc[dft5])\n",
    "    del dftR[-1]\n",
    "    #print(\"Call get Votes for Party in row\")\n",
    "    votePList=getVotesParty(dftR, partiesList2)\n",
    "    #print(votePList)\n",
    "    (tD, aD) = getEuclidVoteDetails(votePList, dfPC)\n",
    "    #print(tD, aD)\n",
    "    EuclidDist.append(tD)\n",
    "    AvgEucDist.append(aD)\n",
    "\n",
    "#print(type(EuclidDist))\n",
    "dfRandGenPer['Euclid Dist'] = np.array(EuclidDist)\n",
    "dfRandGenPer['Avg. Euc. Dist'] = np.array(AvgEucDist)\n",
    "display(dfRandGenPer.tail(10))\n"
   ]
  },
  {
   "cell_type": "code",
   "execution_count": 13,
   "metadata": {},
   "outputs": [],
   "source": [
    "#add column with (Irregular = 0)\n",
    "dfRandGenPer['Seq']=0"
   ]
  },
  {
   "cell_type": "code",
   "execution_count": 14,
   "metadata": {},
   "outputs": [
    {
     "data": {
      "text/html": [
       "<div>\n",
       "<style scoped>\n",
       "    .dataframe tbody tr th:only-of-type {\n",
       "        vertical-align: middle;\n",
       "    }\n",
       "\n",
       "    .dataframe tbody tr th {\n",
       "        vertical-align: top;\n",
       "    }\n",
       "\n",
       "    .dataframe thead th {\n",
       "        text-align: right;\n",
       "    }\n",
       "</style>\n",
       "<table border=\"1\" class=\"dataframe\">\n",
       "  <thead>\n",
       "    <tr style=\"text-align: right;\">\n",
       "      <th></th>\n",
       "      <th>GP</th>\n",
       "      <th>LB</th>\n",
       "      <th>FF</th>\n",
       "      <th>SP</th>\n",
       "      <th>FF.1</th>\n",
       "      <th>SF</th>\n",
       "      <th>PD</th>\n",
       "      <th>NP</th>\n",
       "      <th>FG</th>\n",
       "      <th>maxValues</th>\n",
       "      <th>Euclid Dist</th>\n",
       "      <th>Avg. Euc. Dist</th>\n",
       "      <th>Seq</th>\n",
       "    </tr>\n",
       "  </thead>\n",
       "  <tbody>\n",
       "  </tbody>\n",
       "</table>\n",
       "</div>"
      ],
      "text/plain": [
       "Empty DataFrame\n",
       "Columns: [GP, LB, FF, SP, FF.1, SF, PD, NP, FG, maxValues, Euclid Dist, Avg. Euc. Dist, Seq]\n",
       "Index: []"
      ]
     },
     "metadata": {},
     "output_type": "display_data"
    }
   ],
   "source": [
    "dfI=pd.DataFrame()\n",
    "dfI=dfRandGenPer.loc[(dfRandGenPer['Euclid Dist'] > eucMax) & (dfRandGenPer['maxValues']==7.0)]\n",
    "display(dfI)"
   ]
  },
  {
   "cell_type": "code",
   "execution_count": 15,
   "metadata": {},
   "outputs": [],
   "source": [
    "# float_format='%.0f' to get rid of the decimal 1 not 1.0\n",
    "#write \"irregular votes\" to csv file\n",
    "dfI.to_csv('../data/processed/'+constituency+'-'\n",
    "                    +str(n)+'P'+str(r)+'-r-'+str(o)+'irreg.csv')\n",
    "\n",
    "#dfRandGenPer.to_csv('../data/processed/'+constituency+'-'+str(n)+'P'+str(r)+'-r-'+str(o)+'irreg.csv',                     float_format='%.0f')\n"
   ]
  },
  {
   "cell_type": "code",
   "execution_count": null,
   "metadata": {},
   "outputs": [],
   "source": []
  }
 ],
 "metadata": {
  "kernelspec": {
   "display_name": "Python 3",
   "language": "python",
   "name": "python3"
  },
  "language_info": {
   "codemirror_mode": {
    "name": "ipython",
    "version": 3
   },
   "file_extension": ".py",
   "mimetype": "text/x-python",
   "name": "python",
   "nbconvert_exporter": "python",
   "pygments_lexer": "ipython3",
   "version": "3.8.5"
  }
 },
 "nbformat": 4,
 "nbformat_minor": 4
}
